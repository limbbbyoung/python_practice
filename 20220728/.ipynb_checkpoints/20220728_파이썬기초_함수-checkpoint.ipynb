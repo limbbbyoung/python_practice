{
 "cells": [
  {
   "cell_type": "markdown",
   "id": "40c3f9c2",
   "metadata": {},
   "source": [
    "# << 함수 >>\n",
    "\n",
    "반복적으로 사용하는 기능을 묶어서 함수로 정의하면 간편하게 사용할 수 있다.\n",
    "\n",
    "▶ 기본 문법 \n",
    "\n",
    "         def 함수이름(매개변수) :\n",
    "\n",
    "             <수행할 내용1>\n",
    "             <수행할 내용2>\n",
    "             <수행할 내용3>\n",
    "             \n",
    "             return \n",
    "\n",
    "            \n",
    "\n",
    "▶ 매개변수 \n",
    "\n",
    "        - 함수 안에서 사용할 값을 전달하는 변수로 <수행할 내용> 문장에서 변수로 사용된다.\n",
    "        \n",
    "        - 함수 정의문에서는 매개변수로서 선언되며 실제로 함수를 호출할 때는 인자값으로 전달된다.\n",
    "        \n",
    "        \n",
    "▶ 용어\n",
    "\n",
    "        - def : 함수를 정의할 때 사용하는 키워드\n",
    "        \n",
    "        - return : 함수의 결과값을 반환하는 키워드\n",
    "        \n",
    "        - 입력값 = 인수, 입력 인수, 인자\n",
    "        \n",
    "        - 결과값 = 출력값, 리턴값, 돌려주는 값, 반환 값"
   ]
  },
  {
   "cell_type": "code",
   "execution_count": 2,
   "id": "69459699",
   "metadata": {},
   "outputs": [
    {
     "name": "stdout",
     "output_type": "stream",
     "text": [
      "3\n"
     ]
    }
   ],
   "source": [
    "# 기본적인 함수의 예제(불완전한 실행문)\n",
    "def plus(b):\n",
    "    print(b + 1)\n",
    "plus(2)"
   ]
  },
  {
   "cell_type": "code",
   "execution_count": 3,
   "id": "4b6318d5",
   "metadata": {},
   "outputs": [
    {
     "name": "stdout",
     "output_type": "stream",
     "text": [
      "6\n",
      "None\n"
     ]
    }
   ],
   "source": [
    "result = plus(5)\n",
    "print(result)"
   ]
  },
  {
   "cell_type": "code",
   "execution_count": 4,
   "id": "5cf159ea",
   "metadata": {},
   "outputs": [],
   "source": [
    "# return문의 역할\n",
    "def plus2(a):\n",
    "    return a + 1"
   ]
  },
  {
   "cell_type": "code",
   "execution_count": 5,
   "id": "5a8f92af",
   "metadata": {},
   "outputs": [
    {
     "name": "stdout",
     "output_type": "stream",
     "text": [
      "6\n"
     ]
    }
   ],
   "source": [
    "result = plus2(5)\n",
    "print(result)"
   ]
  },
  {
   "cell_type": "markdown",
   "id": "6a58b222",
   "metadata": {},
   "source": [
    "### (참고) 매개변수와 인수\n",
    "\n",
    "#### 매개변수(parameter, 입력인자, 입력값)\n",
    "함수에 전달된 값을 저장하는 변수 / 함수를 선언할 때 정의하는 변수\n",
    "\n",
    "#### 인수/인자 (argument)\n",
    "함수를 호출(=사용)할 때 전달하는 입력 값"
   ]
  },
  {
   "cell_type": "code",
   "execution_count": 6,
   "id": "c0c795d9",
   "metadata": {},
   "outputs": [],
   "source": [
    "# 매개변수를 2개 이상 받는 케이스\n",
    "def sum(a, b):\n",
    "    result = a + b\n",
    "    return result"
   ]
  },
  {
   "cell_type": "code",
   "execution_count": 7,
   "id": "485c0946",
   "metadata": {},
   "outputs": [
    {
     "data": {
      "text/plain": [
       "10"
      ]
     },
     "execution_count": 7,
     "metadata": {},
     "output_type": "execute_result"
    }
   ],
   "source": [
    "# 인수를 자율적으로 넣어서 여러분이 sum을 호출해보세요.\n",
    "sum(5, 5)"
   ]
  },
  {
   "cell_type": "markdown",
   "id": "8edb3983",
   "metadata": {},
   "source": [
    "### 2. 매개변수 있는 함수\n",
    "\n",
    "- 인자 값을 전달 할 때 값만 입력하면 순서대로 매개변수에 할당된다.\n",
    "\n",
    "- 매개변수명을 지정하여 전달할 수 있다."
   ]
  },
  {
   "cell_type": "code",
   "execution_count": 8,
   "id": "6f4e7280",
   "metadata": {},
   "outputs": [
    {
     "data": {
      "text/plain": [
       "6"
      ]
     },
     "execution_count": 8,
     "metadata": {},
     "output_type": "execute_result"
    }
   ],
   "source": [
    "# 매개변수가 3개인 함수 설정\n",
    "# 3개를 다 더해서 리턴하도록 만들어주세요.\n",
    "# 함수명은 test1입니다.\n",
    "def test1(a, b, c):\n",
    "    result = a + b + c\n",
    "    return result\n",
    "test1(1, 2, 3)"
   ]
  },
  {
   "cell_type": "code",
   "execution_count": 10,
   "id": "5fba45b8",
   "metadata": {},
   "outputs": [
    {
     "data": {
      "text/plain": [
       "60"
      ]
     },
     "execution_count": 10,
     "metadata": {},
     "output_type": "execute_result"
    }
   ],
   "source": [
    "# 인자값 순서를 바꿔서 전달(반드시 매개변수명으로 지정한 변수명에 대입해야함)\n",
    "test1(c=20, a=10, b=30) # 자바에서는 안되지만 파이썬에서는 가능"
   ]
  },
  {
   "cell_type": "markdown",
   "id": "5f70fe57",
   "metadata": {},
   "source": [
    "### 2-1. 매개변수 초기 값 설정\n",
    "\n",
    "- 함수 정의문에서 매개변수 값을 할당하면 초기 값으로 설정\n",
    "\n",
    "\n",
    "- 함수 호출 시 값을 입력하지 않으면 초기 값으로 사용\n",
    "\n",
    "\n",
    "- 초기화시키고 싶은 매개변수들을 항상 뒤쪽에 위치\n",
    "\n",
    "(참고) 포맷팅함수에서 인덱스 번호, 변수명 사용했던 규칙과 유사"
   ]
  },
  {
   "cell_type": "code",
   "execution_count": 13,
   "id": "da3a4544",
   "metadata": {},
   "outputs": [],
   "source": [
    "# 디폴트값 선언을 사용한 예시 \n",
    "def test2(a=1, b=2, c=3):\n",
    "    result = a + b + c\n",
    "    return result"
   ]
  },
  {
   "cell_type": "code",
   "execution_count": 14,
   "id": "fa9f253b",
   "metadata": {},
   "outputs": [
    {
     "data": {
      "text/plain": [
       "6"
      ]
     },
     "execution_count": 14,
     "metadata": {},
     "output_type": "execute_result"
    }
   ],
   "source": [
    "test2()"
   ]
  },
  {
   "cell_type": "code",
   "execution_count": 15,
   "id": "e8ac008c",
   "metadata": {},
   "outputs": [
    {
     "data": {
      "text/plain": [
       "15"
      ]
     },
     "execution_count": 15,
     "metadata": {},
     "output_type": "execute_result"
    }
   ],
   "source": [
    "test2(10)"
   ]
  },
  {
   "cell_type": "code",
   "execution_count": 16,
   "id": "94de7750",
   "metadata": {},
   "outputs": [
    {
     "data": {
      "text/plain": [
       "28"
      ]
     },
     "execution_count": 16,
     "metadata": {},
     "output_type": "execute_result"
    }
   ],
   "source": [
    "#여러분들이 a, b에만 전달해보세요\n",
    "test2(10,15)"
   ]
  },
  {
   "cell_type": "code",
   "execution_count": 22,
   "id": "e61af4d1",
   "metadata": {},
   "outputs": [],
   "source": [
    "# 디폴트값 설정은 반드시 오른쪽 요소부터 지정한다.\n",
    "def test3(a, b=2, c=1):\n",
    "    result = a + b + c\n",
    "    return result"
   ]
  },
  {
   "cell_type": "code",
   "execution_count": 23,
   "id": "28a9024e",
   "metadata": {},
   "outputs": [
    {
     "data": {
      "text/plain": [
       "31"
      ]
     },
     "execution_count": 23,
     "metadata": {},
     "output_type": "execute_result"
    }
   ],
   "source": [
    "test3(10, 20)"
   ]
  },
  {
   "cell_type": "markdown",
   "id": "a409b9a0",
   "metadata": {},
   "source": [
    "### 가변인자 리스트 \n",
    "\n",
    "- 입력할 파라미터의 개수가 몇 개인지 모를때 사용함\n",
    "- 파라미터명 왼쪽에 *을 붙인다"
   ]
  },
  {
   "cell_type": "code",
   "execution_count": 24,
   "id": "46fd2b91",
   "metadata": {},
   "outputs": [],
   "source": [
    "def get_member_list(p1):\n",
    "    print(\"출석학생은 %s님 입니다.\" % p1)"
   ]
  },
  {
   "cell_type": "code",
   "execution_count": 25,
   "id": "e72aede6",
   "metadata": {},
   "outputs": [
    {
     "name": "stdout",
     "output_type": "stream",
     "text": [
      "출석학생은 임병영님 입니다.\n"
     ]
    }
   ],
   "source": [
    "get_member_list('임병영')"
   ]
  },
  {
   "cell_type": "code",
   "execution_count": 26,
   "id": "0754221e",
   "metadata": {},
   "outputs": [],
   "source": [
    "def get_member_list2(p1, p2):\n",
    "    print(\"출석학생은 %s, %s님 입니다.\" % (p1, p2))"
   ]
  },
  {
   "cell_type": "code",
   "execution_count": 27,
   "id": "51726929",
   "metadata": {},
   "outputs": [
    {
     "name": "stdout",
     "output_type": "stream",
     "text": [
      "출석학생은 임병영, 김파이썬님 입니다.\n"
     ]
    }
   ],
   "source": [
    "get_member_list2('임병영', '김파이썬')"
   ]
  },
  {
   "cell_type": "code",
   "execution_count": 40,
   "id": "f22a8a09",
   "metadata": {},
   "outputs": [],
   "source": [
    "def get_members(*stu):\n",
    "    print(stu)\n",
    "    print(type(stu))\n",
    "    print(\"출석학생은 \", end=\"\")\n",
    "    for i in stu:\n",
    "        print('%s, ' % i, end=\"\")\n",
    "    print(\"입니다.\")"
   ]
  },
  {
   "cell_type": "code",
   "execution_count": 41,
   "id": "08a9ad7b",
   "metadata": {},
   "outputs": [
    {
     "name": "stdout",
     "output_type": "stream",
     "text": [
      "('임병영', '김파이썬', '최자바', '마라탕', '카페', '텐동')\n",
      "<class 'tuple'>\n",
      "출석학생은 임병영, 김파이썬, 최자바, 마라탕, 카페, 텐동, 입니다.\n"
     ]
    }
   ],
   "source": [
    "get_members('임병영', '김파이썬', '최자바', '마라탕', '카페', '텐동')"
   ]
  },
  {
   "cell_type": "code",
   "execution_count": 42,
   "id": "fcb2b338",
   "metadata": {},
   "outputs": [],
   "source": [
    "# 강사님께서 푸신 방법\n",
    "def get_members2(*stu):\n",
    "    print(stu)\n",
    "    print(type(stu))\n",
    "    message = \"출석학생은 \"\n",
    "    for i in stu:\n",
    "        message += str(i) + \", \"\n",
    "    message += \"입니다.\"\n",
    "    print(message)"
   ]
  },
  {
   "cell_type": "code",
   "execution_count": 43,
   "id": "8f1f5ffb",
   "metadata": {},
   "outputs": [
    {
     "name": "stdout",
     "output_type": "stream",
     "text": [
      "('임병영', '김파이썬', '최자바', '마라탕', '카페', '텐동')\n",
      "<class 'tuple'>\n",
      "출석학생은 임병영, 김파이썬, 최자바, 마라탕, 카페, 텐동, 입니다.\n"
     ]
    }
   ],
   "source": [
    "get_members2('임병영', '김파이썬', '최자바', '마라탕', '카페', '텐동')"
   ]
  },
  {
   "cell_type": "markdown",
   "id": "4565b21b",
   "metadata": {},
   "source": [
    "### 6. 키워드 파라미터 kwargs(keyword arguments)\n",
    "\n",
    "딕셔너리 형태로 저장되는 매개변수로 정의"
   ]
  },
  {
   "cell_type": "code",
   "execution_count": 44,
   "id": "b2254e14",
   "metadata": {},
   "outputs": [],
   "source": [
    "def test4(**kwargs):\n",
    "    return kwargs"
   ]
  },
  {
   "cell_type": "code",
   "execution_count": 45,
   "id": "df49c3a2",
   "metadata": {},
   "outputs": [
    {
     "data": {
      "text/plain": [
       "{'name': '홍길동', 'age': '19'}"
      ]
     },
     "execution_count": 45,
     "metadata": {},
     "output_type": "execute_result"
    }
   ],
   "source": [
    "test4(name=\"홍길동\", age='19')"
   ]
  },
  {
   "cell_type": "markdown",
   "id": "202ade0a",
   "metadata": {},
   "source": [
    "### 7. 함수의 결과 값\n",
    "\n",
    "- 함수의 결과 값은 항상 1개\n",
    "\n",
    "- 여러 개의 결과를 가질 수 있지만 하나의 튜플로 전달\n",
    "\n",
    "▶기본 문법\n",
    "\n",
    "        def 함수이름(매개변수이름):\n",
    "        \n",
    "            return 결과값 1, 결과값 2"
   ]
  },
  {
   "cell_type": "code",
   "execution_count": 48,
   "id": "40cabd9a",
   "metadata": {},
   "outputs": [],
   "source": [
    "# return 키워드는 전달받은 결과물이 2개 이상인 경우(,로 구분지어져서 보내지는 경우) 하나의 '튜플'로 \n",
    "# 묶어서 반환되며, 최종적으로 '하나의 변수'에 담을 수 있는 '하나의 값'으로 처리됩니다.\n",
    "def test(a, b):\n",
    "    sum_ = a + b\n",
    "    mul = a * b\n",
    "    return sum_, mul"
   ]
  },
  {
   "cell_type": "code",
   "execution_count": 49,
   "id": "df1b18f3",
   "metadata": {},
   "outputs": [
    {
     "name": "stdout",
     "output_type": "stream",
     "text": [
      "(7, 12)\n"
     ]
    }
   ],
   "source": [
    "# 결과를 통째로 가져오기\n",
    "a = test(3, 4)\n",
    "print(a)"
   ]
  },
  {
   "cell_type": "code",
   "execution_count": 52,
   "id": "974d280d",
   "metadata": {},
   "outputs": [
    {
     "name": "stdout",
     "output_type": "stream",
     "text": [
      "7 12\n"
     ]
    }
   ],
   "source": [
    "# 결과물 개별 변수에 쪼개서 가져오기\n",
    "a = test(3, 4)[0]\n",
    "b = test(3, 4)[1]\n",
    "print(a, b)"
   ]
  },
  {
   "cell_type": "markdown",
   "id": "91516685",
   "metadata": {},
   "source": [
    "## <<연습문제>>\n",
    "\n",
    "#### 1. 입력받은 모든 수의 평균값을 계산하는 함수를 작성해보세요.\n",
    "\n",
    "        - 조건 1. 숫자의 개수는 정해져있지 않다.\n",
    "    "
   ]
  },
  {
   "cell_type": "code",
   "execution_count": 100,
   "id": "e53c0e1c",
   "metadata": {},
   "outputs": [],
   "source": [
    "def get_avg(*num_list):\n",
    "    total = 0\n",
    "    for num in num_list :\n",
    "        total += num\n",
    "    result = total / len(num_list)\n",
    "    return result"
   ]
  },
  {
   "cell_type": "code",
   "execution_count": 101,
   "id": "2e11437b",
   "metadata": {},
   "outputs": [
    {
     "data": {
      "text/plain": [
       "80.0"
      ]
     },
     "execution_count": 101,
     "metadata": {},
     "output_type": "execute_result"
    }
   ],
   "source": [
    "get_avg(70, 80, 90)"
   ]
  },
  {
   "cell_type": "markdown",
   "id": "56cb3b3f",
   "metadata": {},
   "source": [
    "#### 2. 리스트로 입력받은 수들에 대해 양수만 필터링하여 반환해주는 함수를 작성해보세요.\n",
    "\n",
    "- 조건 1. 입력값은 인자값으로 리스트를 전달\n",
    "\n",
    "- 조건 2. 결과값은 양수로만 구성된 새로운 리스트"
   ]
  },
  {
   "cell_type": "code",
   "execution_count": 104,
   "id": "ada18941",
   "metadata": {},
   "outputs": [],
   "source": [
    "def positive_num(*num_list):\n",
    "    positive_list = []\n",
    "    for num in num_list:\n",
    "        if(num > 0):\n",
    "            positive_list.append(num)\n",
    "    return positive_list"
   ]
  },
  {
   "cell_type": "code",
   "execution_count": 105,
   "id": "136b9a90",
   "metadata": {},
   "outputs": [
    {
     "data": {
      "text/plain": [
       "[5, 83, 2, 53]"
      ]
     },
     "execution_count": 105,
     "metadata": {},
     "output_type": "execute_result"
    }
   ],
   "source": [
    "positive_num(5, -23, 83, 2, 53)"
   ]
  },
  {
   "cell_type": "code",
   "execution_count": null,
   "id": "92465bed",
   "metadata": {},
   "outputs": [],
   "source": []
  },
  {
   "cell_type": "code",
   "execution_count": null,
   "id": "8e8865c5",
   "metadata": {},
   "outputs": [],
   "source": []
  },
  {
   "cell_type": "code",
   "execution_count": null,
   "id": "1de560fc",
   "metadata": {},
   "outputs": [],
   "source": []
  },
  {
   "cell_type": "code",
   "execution_count": null,
   "id": "09856a0c",
   "metadata": {},
   "outputs": [],
   "source": []
  },
  {
   "cell_type": "code",
   "execution_count": null,
   "id": "ba4c3dd4",
   "metadata": {},
   "outputs": [],
   "source": []
  },
  {
   "cell_type": "code",
   "execution_count": null,
   "id": "07671f82",
   "metadata": {},
   "outputs": [],
   "source": []
  }
 ],
 "metadata": {
  "kernelspec": {
   "display_name": "Python 3 (ipykernel)",
   "language": "python",
   "name": "python3"
  },
  "language_info": {
   "codemirror_mode": {
    "name": "ipython",
    "version": 3
   },
   "file_extension": ".py",
   "mimetype": "text/x-python",
   "name": "python",
   "nbconvert_exporter": "python",
   "pygments_lexer": "ipython3",
   "version": "3.9.12"
  }
 },
 "nbformat": 4,
 "nbformat_minor": 5
}
