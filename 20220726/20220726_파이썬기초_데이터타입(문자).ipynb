{
 "cells": [
  {
   "cell_type": "markdown",
   "id": "e6d68f57",
   "metadata": {},
   "source": [
    "# 데이터 타입 \n",
    "# 문자형"
   ]
  },
  {
   "cell_type": "markdown",
   "id": "272dc9de",
   "metadata": {},
   "source": [
    "# > 생성하기\n",
    "> 여닫는 따옴표는 반드시 문자의 앞 뒤에 한 쌍으로 완성해야 한다.\n",
    "## 1) 한 줄 문자열 : ', \""
   ]
  },
  {
   "cell_type": "code",
   "execution_count": 1,
   "id": "07888890",
   "metadata": {},
   "outputs": [
    {
     "data": {
      "text/plain": [
       "'10'"
      ]
     },
     "execution_count": 1,
     "metadata": {},
     "output_type": "execute_result"
    }
   ],
   "source": [
    "10\n",
    "\"10\""
   ]
  },
  {
   "cell_type": "code",
   "execution_count": 8,
   "id": "5ef14414",
   "metadata": {},
   "outputs": [
    {
     "ename": "SyntaxError",
     "evalue": "EOL while scanning string literal (278316103.py, line 1)",
     "output_type": "error",
     "traceback": [
      "\u001b[1;36m  Input \u001b[1;32mIn [8]\u001b[1;36m\u001b[0m\n\u001b[1;33m    a = '안녕하세요\u001b[0m\n\u001b[1;37m              ^\u001b[0m\n\u001b[1;31mSyntaxError\u001b[0m\u001b[1;31m:\u001b[0m EOL while scanning string literal\n"
     ]
    }
   ],
   "source": [
    "a = '안녕하세요\n",
    "감사합니다'"
   ]
  },
  {
   "cell_type": "code",
   "execution_count": 6,
   "id": "adb96205",
   "metadata": {},
   "outputs": [
    {
     "data": {
      "text/plain": [
       "'안녕하세요 안녕하세요 안녕하세요 안녕하세요 안녕하세요 안녕하세요 안녕하세요 안녕하세요 안녕하세요 안녕하세요 안녕하세요 안녕하세요 안녕하세요 안녕하세요 안녕하세요 안녕하세요 안녕하세요 안녕하세요 안녕하세요 안녕하세요 안녕하세요 안녕하세요 안녕하세요 안녕하세요'"
      ]
     },
     "execution_count": 6,
     "metadata": {},
     "output_type": "execute_result"
    }
   ],
   "source": [
    "# 한 줄 문자열인데 여러가지 이유로 다른 줄에 닫는 문자를 작서해야 하는 경우 중간에 \\(역슬래시)를 끼워넣으면\n",
    "# 보여지는건 여러줄이지만 실제로는 한 줄로 간주되는 문자를 작성할 수 있습니다.\n",
    "a = '안녕하세요 안녕하세요 안녕하세요 안녕하세요 안녕하세요 \\\n",
    "안녕하세요 안녕하세요 안녕하세요 안녕하세요 안녕하세요 안녕하세요 \\\n",
    "안녕하세요 안녕하세요 안녕하세요 안녕하세요 안녕하세요 안녕하세요 \\\n",
    "안녕하세요 안녕하세요 안녕하세요 안녕하세요 안녕하세요 안녕하세요 안녕하세요'\n",
    "a"
   ]
  },
  {
   "cell_type": "markdown",
   "id": "70d1af75",
   "metadata": {},
   "source": [
    "## 2) 여러 줄 문자열 : ''', \"\"\"\n",
    "\n",
    "- print()를 했을때 줄바꿈(enter)가 그대로 반영되는 문자열로 처리 가능\n",
    "- 단 화면에서 보기를 하면(print 없이 마지막줄에 변수넣고 셀을 실행해서 보면)\n",
    "- 줄바꿈이 바로 나타나지 않고 엔터키가 쳐진 줄바꿈 구간은 \\n으로 대신 표현됩니다"
   ]
  },
  {
   "cell_type": "code",
   "execution_count": 15,
   "id": "aceba103",
   "metadata": {},
   "outputs": [
    {
     "data": {
      "text/plain": [
       "'안녕하세요\\n반갑습니다'"
      ]
     },
     "execution_count": 15,
     "metadata": {},
     "output_type": "execute_result"
    }
   ],
   "source": [
    "a = \"\"\"안녕하세요\n",
    "반갑습니다\"\"\"\n",
    "a"
   ]
  },
  {
   "cell_type": "code",
   "execution_count": 11,
   "id": "12681f23",
   "metadata": {
    "scrolled": true
   },
   "outputs": [
    {
     "name": "stdout",
     "output_type": "stream",
     "text": [
      "안녕하세요\n",
      "반갑습니다\n"
     ]
    }
   ],
   "source": [
    "print(\"안녕하세요\\n반갑습니다\")"
   ]
  },
  {
   "cell_type": "markdown",
   "id": "ad712599",
   "metadata": {},
   "source": [
    "## 3) 문자 속에 문자열 기호 사용하기\n",
    "- 문자열에서 자주 쓰는 기호 : ', \""
   ]
  },
  {
   "cell_type": "code",
   "execution_count": 17,
   "id": "af5b6cdb",
   "metadata": {},
   "outputs": [
    {
     "name": "stdout",
     "output_type": "stream",
     "text": [
      "She's happy\n"
     ]
    }
   ],
   "source": [
    "# 언어, 문자에서 많이 쓰이는 기호 : she's, \"설렁탕을 사왔는데 왜 먹지를 못하나...\"\n",
    "a = \"She's happy\"\n",
    "print(a) # 가장 쉬운 방법은 문자열 안에 따옴표 하나로 문자로서 썼다는 것을 인식되게 하면 됨"
   ]
  },
  {
   "cell_type": "code",
   "execution_count": 19,
   "id": "14b12124",
   "metadata": {},
   "outputs": [
    {
     "name": "stdout",
     "output_type": "stream",
     "text": [
      "오늘은 \"미세먼지\" 좋음.\n"
     ]
    }
   ],
   "source": [
    "title = '오늘은 \"미세먼지\" 좋음.'\n",
    "print(title)"
   ]
  },
  {
   "cell_type": "code",
   "execution_count": 20,
   "id": "d8d07f09",
   "metadata": {},
   "outputs": [
    {
     "name": "stdout",
     "output_type": "stream",
     "text": [
      "She's happy\n"
     ]
    }
   ],
   "source": [
    "# 여닫는 용도로 쓰는 따옴표와, 내부에 문자로서 쓰는 따옴표 종류를 같게 하고 싶은 경우\n",
    "# 여닫는 용도가 아닌 따옴표 왼쪽에 \\를 붙이면 해당 따옴표는 여닫는 기능으로 인식되지 않습니다.\n",
    "b = 'She\\'s happy'\n",
    "print(b)"
   ]
  },
  {
   "cell_type": "markdown",
   "id": "385b91df",
   "metadata": {},
   "source": [
    "# <<연습문제>>\n",
    "### 1. 아래와 같은 여러 줄의 문장을 문자열로 만들어서  lines라는 변수에 할당하세요\n",
    "\n",
    "> 파이썬도 배우고\n",
    "> 장고도 배우고\n",
    "> 할 게 너무 많아\n",
    "\n",
    "방법 1) 여러 줄 문자열 활용하기(lines 변수에 할당) <br>\n",
    "방법 2) 한 줄 문자열 내부에 \\n을 사이 사이에 활용하기. (line 변수에 할당)"
   ]
  },
  {
   "cell_type": "code",
   "execution_count": 21,
   "id": "293d9cc1",
   "metadata": {
    "scrolled": true
   },
   "outputs": [
    {
     "name": "stdout",
     "output_type": "stream",
     "text": [
      "파이썬도 배우고 \n",
      "장고도 배우고 \n",
      "할 게 너무 많아\n"
     ]
    }
   ],
   "source": [
    "# 방법 1 \n",
    "lines = \"\"\"파이썬도 배우고 \n",
    "장고도 배우고 \n",
    "할 게 너무 많아\"\"\"\n",
    "print(lines)"
   ]
  },
  {
   "cell_type": "code",
   "execution_count": 24,
   "id": "e14f16bb",
   "metadata": {
    "scrolled": true
   },
   "outputs": [
    {
     "name": "stdout",
     "output_type": "stream",
     "text": [
      "파이썬도 배우고 \n",
      "장고도 배우고 \n",
      "할 게 너무 많아\n"
     ]
    }
   ],
   "source": [
    "# 방법 2 \n",
    "lines = \"파이썬도 배우고 \\n장고도 배우고 \\n할 게 너무 많아\"\n",
    "print(lines)"
   ]
  },
  {
   "cell_type": "markdown",
   "id": "b2172c66",
   "metadata": {},
   "source": [
    "# > 연산하기 \n",
    "## 1) 산술연산자 : 문자, 숫자를 함께 연산하기 위한 문법 기호 \n",
    "\n",
    "- 문자와 문자를 연결 \n",
    "- 동일한 문자를 반복해서 연결  "
   ]
  },
  {
   "cell_type": "code",
   "execution_count": 25,
   "id": "5a4320e2",
   "metadata": {},
   "outputs": [
    {
     "data": {
      "text/plain": [
       "'가나'"
      ]
     },
     "execution_count": 25,
     "metadata": {},
     "output_type": "execute_result"
    }
   ],
   "source": [
    "# 문자와 문자를 연결 : +\n",
    "'가' + '나'"
   ]
  },
  {
   "cell_type": "code",
   "execution_count": 26,
   "id": "d51d2703",
   "metadata": {},
   "outputs": [
    {
     "data": {
      "text/plain": [
       "'가 나'"
      ]
     },
     "execution_count": 26,
     "metadata": {},
     "output_type": "execute_result"
    }
   ],
   "source": [
    "# 1. 문자열 자체에 공백 추가하기('가 나'로 출력되게 만들기)\n",
    "'가' + ' ' + '나'"
   ]
  },
  {
   "cell_type": "code",
   "execution_count": 27,
   "id": "d3389944",
   "metadata": {},
   "outputs": [
    {
     "ename": "TypeError",
     "evalue": "can only concatenate str (not \"int\") to str",
     "output_type": "error",
     "traceback": [
      "\u001b[1;31m---------------------------------------------------------------------------\u001b[0m",
      "\u001b[1;31mTypeError\u001b[0m                                 Traceback (most recent call last)",
      "Input \u001b[1;32mIn [27]\u001b[0m, in \u001b[0;36m<cell line: 2>\u001b[1;34m()\u001b[0m\n\u001b[0;32m      1\u001b[0m \u001b[38;5;66;03m# 2. 문자 + 문자가 아닌 자료형(EX 숫자) = Error\u001b[39;00m\n\u001b[1;32m----> 2\u001b[0m \u001b[38;5;124;43m'\u001b[39;49m\u001b[38;5;124;43m가\u001b[39;49m\u001b[38;5;124;43m'\u001b[39;49m\u001b[43m \u001b[49m\u001b[38;5;241;43m+\u001b[39;49m\u001b[43m \u001b[49m\u001b[38;5;241;43m1\u001b[39;49m\n",
      "\u001b[1;31mTypeError\u001b[0m: can only concatenate str (not \"int\") to str"
     ]
    }
   ],
   "source": [
    "# 2. 문자 + 문자가 아닌 자료형(EX 숫자) = Error\n",
    "'가' + 1"
   ]
  },
  {
   "cell_type": "code",
   "execution_count": 30,
   "id": "b72049d4",
   "metadata": {},
   "outputs": [
    {
     "data": {
      "text/plain": [
       "'abcabcabcabcabcabcabc'"
      ]
     },
     "execution_count": 30,
     "metadata": {},
     "output_type": "execute_result"
    }
   ],
   "source": [
    "# 3. 문자를 여러번 반복하기 : *\n",
    "# 동일한 문자열을 여러 번 반복 연결시켜줌\n",
    "'abc' * 7 #'abc' + 'abc' + 'abc', 파이썬에서의 문자열의 특성"
   ]
  },
  {
   "cell_type": "code",
   "execution_count": 31,
   "id": "90d312b6",
   "metadata": {},
   "outputs": [
    {
     "ename": "TypeError",
     "evalue": "can't multiply sequence by non-int of type 'str'",
     "output_type": "error",
     "traceback": [
      "\u001b[1;31m---------------------------------------------------------------------------\u001b[0m",
      "\u001b[1;31mTypeError\u001b[0m                                 Traceback (most recent call last)",
      "Input \u001b[1;32mIn [31]\u001b[0m, in \u001b[0;36m<cell line: 2>\u001b[1;34m()\u001b[0m\n\u001b[0;32m      1\u001b[0m \u001b[38;5;66;03m# 문자 * 문자 = Error\u001b[39;00m\n\u001b[1;32m----> 2\u001b[0m \u001b[38;5;124;43m'\u001b[39;49m\u001b[38;5;124;43mabc\u001b[39;49m\u001b[38;5;124;43m'\u001b[39;49m\u001b[43m \u001b[49m\u001b[38;5;241;43m*\u001b[39;49m\u001b[43m \u001b[49m\u001b[43ma\u001b[49m\n",
      "\u001b[1;31mTypeError\u001b[0m: can't multiply sequence by non-int of type 'str'"
     ]
    }
   ],
   "source": [
    "# 문자 * 문자 = Error\n",
    "'abc' * a"
   ]
  },
  {
   "cell_type": "markdown",
   "id": "cf426133",
   "metadata": {},
   "source": [
    "## 2) 비교연산자 : 문자의 크기를 비교하기 위한 문법 기호 \n",
    "\n",
    "> 문자의 비교 \n",
    "* 대문자 VS 소문자 : 대문자 < 소문자 크기가 더 크다(아스키코드 : A = 65, a = 97)\n",
    "* 알파벳 : 알파벳 순서가 뒤에 있을수록(a보다 z이) 크기가 더 크다\n",
    "* 문자 길이 : 문자열의 길이가 길수록 크기가 더 크다(len()으로 확인 가능)"
   ]
  },
  {
   "cell_type": "code",
   "execution_count": 32,
   "id": "2ce67e19",
   "metadata": {},
   "outputs": [
    {
     "data": {
      "text/plain": [
       "True"
      ]
     },
     "execution_count": 32,
     "metadata": {},
     "output_type": "execute_result"
    }
   ],
   "source": [
    "# 대문자 vs 소문자 : 비교연산자(==, !=, <, >)로 확인\n",
    "'A' < 'a'"
   ]
  },
  {
   "cell_type": "code",
   "execution_count": 33,
   "id": "07e88419",
   "metadata": {},
   "outputs": [
    {
     "data": {
      "text/plain": [
       "False"
      ]
     },
     "execution_count": 33,
     "metadata": {},
     "output_type": "execute_result"
    }
   ],
   "source": [
    "#문자열을 대상으로 할 때에는 무조건 첫 글자끼리만 비교한다\n",
    "#문자 길이는 실제 크기 비교에는 영향을 미치지 않음\n",
    "'b' < 'BUS'"
   ]
  },
  {
   "cell_type": "code",
   "execution_count": 34,
   "id": "ad48c44b",
   "metadata": {},
   "outputs": [
    {
     "data": {
      "text/plain": [
       "True"
      ]
     },
     "execution_count": 34,
     "metadata": {},
     "output_type": "execute_result"
    }
   ],
   "source": [
    "# 문자 길이는 len(문자열) 형식으로 볼 수 있다.\n",
    "len('b') < len('BUS')"
   ]
  },
  {
   "cell_type": "code",
   "execution_count": 35,
   "id": "8d6fa0b1",
   "metadata": {},
   "outputs": [
    {
     "data": {
      "text/plain": [
       "True"
      ]
     },
     "execution_count": 35,
     "metadata": {},
     "output_type": "execute_result"
    }
   ],
   "source": [
    "# 영문자와 영문자 이외의 다른 문자간 비교는 무조건 영문자가 작게 나온다\n",
    "# ascii code VS Unicode\n",
    "'B' < '가'"
   ]
  },
  {
   "cell_type": "markdown",
   "id": "47e0448f",
   "metadata": {},
   "source": [
    "# > 인덱스 \n",
    "- 아이템(대상이 가지고 있는 최소 단위의 값)의 위치를 나타내는 고유한 번호\n",
    "- 첫 번째 위치는 0부터 시작\n",
    "- 마지막 위치는 -1부터 시작(파이썬의 특징)"
   ]
  },
  {
   "cell_type": "code",
   "execution_count": 36,
   "id": "05fff272",
   "metadata": {},
   "outputs": [],
   "source": [
    "# banana라는 문자열에 대해 인덱싱\n",
    "text = 'banana'"
   ]
  },
  {
   "cell_type": "code",
   "execution_count": 37,
   "id": "fe0559a2",
   "metadata": {},
   "outputs": [
    {
     "data": {
      "text/plain": [
       "'b'"
      ]
     },
     "execution_count": 37,
     "metadata": {},
     "output_type": "execute_result"
    }
   ],
   "source": [
    "# banana라는 문자열에서 첫 번째 아이템 = 0번째 인덱스 번호로 접근\n",
    "# 인덱싱 문법 : 객체(대상 : 값, 자료형)[인덱스번호]\n",
    "text[0]"
   ]
  },
  {
   "cell_type": "code",
   "execution_count": 38,
   "id": "33c98e52",
   "metadata": {},
   "outputs": [
    {
     "data": {
      "text/plain": [
       "'a'"
      ]
     },
     "execution_count": 38,
     "metadata": {},
     "output_type": "execute_result"
    }
   ],
   "source": [
    "# 마지막 아이템인 'a'에 접근시켜보세요\n",
    "text[-1]\n",
    "text[5]"
   ]
  },
  {
   "cell_type": "markdown",
   "id": "2a034e59",
   "metadata": {},
   "source": [
    "### 2) 슬라이싱 : 연속된 범위의 여러 아이템에 접근\n",
    "\n",
    "* 대상객체[처음인덱스 : 마지막인덱스( : 간격)]\n",
    "* 처음 인덱스 번호는 포함(n부터~)\n",
    "* 마지막 인덱스번호는 포함하지 않음(m~1까지)\n",
    "* 간격조정은 할 수도 있고 하지 않을 수도 있음(기본은 1씩 증가)"
   ]
  },
  {
   "cell_type": "code",
   "execution_count": 39,
   "id": "4f562f01",
   "metadata": {},
   "outputs": [],
   "source": [
    "# 문자열 생성\n",
    "text = \"hello python world\""
   ]
  },
  {
   "cell_type": "code",
   "execution_count": 40,
   "id": "39914fc3",
   "metadata": {},
   "outputs": [
    {
     "data": {
      "text/plain": [
       "'hello python'"
      ]
     },
     "execution_count": 40,
     "metadata": {},
     "output_type": "execute_result"
    }
   ],
   "source": [
    "# 처음부터 특정 위치까지 : ~python\n",
    "# 처음인덱스 0 \n",
    "# 마지막 인덱스 : python의 n다음 문자가 몇 번째인지 확인\n",
    "text[0:12]"
   ]
  },
  {
   "cell_type": "code",
   "execution_count": 41,
   "id": "d09a2bcb",
   "metadata": {},
   "outputs": [
    {
     "data": {
      "text/plain": [
       "'hello python'"
      ]
     },
     "execution_count": 41,
     "metadata": {},
     "output_type": "execute_result"
    }
   ],
   "source": [
    "# 처음부터 특정 위치까지 : ~python\n",
    "# 처음 인덱스 : 0 \n",
    "# 마지막 인덱스 : -6 (뒤에서 7번째까지를 가져와야하니 실레로는 -6으로 잡힘)\n",
    "text[0:-6]"
   ]
  },
  {
   "cell_type": "code",
   "execution_count": 42,
   "id": "55216f6c",
   "metadata": {},
   "outputs": [
    {
     "data": {
      "text/plain": [
       "'hello python'"
      ]
     },
     "execution_count": 42,
     "metadata": {},
     "output_type": "execute_result"
    }
   ],
   "source": [
    "# 첫 인덱스가 0으로 시작한다면 생략 가능\n",
    "text[:-6]"
   ]
  },
  {
   "cell_type": "code",
   "execution_count": 43,
   "id": "b3f4187d",
   "metadata": {},
   "outputs": [
    {
     "data": {
      "text/plain": [
       "'python'"
      ]
     },
     "execution_count": 43,
     "metadata": {},
     "output_type": "execute_result"
    }
   ],
   "source": [
    "# 특정 위치부터 마지막 아이템까지 : python\n",
    "# 처음인덱스는 6 \n",
    "# 마지막 인덱스는 : -6\n",
    "# 간격 : 기본값(1)\n",
    "text[6:-6]"
   ]
  },
  {
   "cell_type": "code",
   "execution_count": 44,
   "id": "f8b2c0ed",
   "metadata": {},
   "outputs": [
    {
     "data": {
      "text/plain": [
       "'hello python world'"
      ]
     },
     "execution_count": 44,
     "metadata": {},
     "output_type": "execute_result"
    }
   ],
   "source": [
    "# 전체 범위로 잡기 : 처음인덱스, 마지막 인덱스를 모두 기입하지 않으면, 전체 아이템을 다 가져옴\n",
    "# 처음 인덱스 기본값 : 0 \n",
    "# 마지막 인덱스 기본값 : 마지막까지\n",
    "text[:]"
   ]
  },
  {
   "cell_type": "code",
   "execution_count": 45,
   "id": "72f3ee64",
   "metadata": {},
   "outputs": [
    {
     "data": {
      "text/plain": [
       "'hlopto ol'"
      ]
     },
     "execution_count": 45,
     "metadata": {},
     "output_type": "execute_result"
    }
   ],
   "source": [
    "# 간격을 2로 주려면 : 를 두 번 쓰고, 가장 오른쪽에 증감분을 적습니다 .\n",
    "text[::2]"
   ]
  },
  {
   "cell_type": "markdown",
   "id": "85f31e81",
   "metadata": {},
   "source": [
    "## > 연습문제 \n",
    "\n",
    "### 20220726 미세먼지 양호함\n",
    "#### 위의 문장을 weather 변수에 저장한 다음\n",
    "#### 날짜는 date 변수에 슬라이싱으로 받아오고 micro 변수에 미세먼지 정도를 \n",
    "#### 슬라이싱으로 받아오도록 만들어서 출력해주세요\n",
    "\n",
    "출력양식 : <br>\n",
    "날짜 : 20220726 <br>\n",
    "날씨 : \"미세먼지양호함\""
   ]
  },
  {
   "cell_type": "code",
   "execution_count": 46,
   "id": "256725a1",
   "metadata": {},
   "outputs": [],
   "source": [
    "weather = \"20220726 미세먼지 양호함\""
   ]
  },
  {
   "cell_type": "code",
   "execution_count": 48,
   "id": "04e4ea1f",
   "metadata": {},
   "outputs": [
    {
     "data": {
      "text/plain": [
       "'20220726'"
      ]
     },
     "execution_count": 48,
     "metadata": {},
     "output_type": "execute_result"
    }
   ],
   "source": [
    "date = weather[0:8]\n",
    "date"
   ]
  },
  {
   "cell_type": "code",
   "execution_count": 52,
   "id": "fb782394",
   "metadata": {},
   "outputs": [
    {
     "data": {
      "text/plain": [
       "'미세먼지 양호함'"
      ]
     },
     "execution_count": 52,
     "metadata": {},
     "output_type": "execute_result"
    }
   ],
   "source": [
    "micro = weather[9:]\n",
    "micro"
   ]
  },
  {
   "cell_type": "code",
   "execution_count": 54,
   "id": "1ce058f9",
   "metadata": {},
   "outputs": [
    {
     "name": "stdout",
     "output_type": "stream",
     "text": [
      "날짜 :  20220726\n",
      "날씨 :  미세먼지 양호함\n"
     ]
    }
   ],
   "source": [
    "print('날짜 : ', date)\n",
    "print('날씨 : ', micro)"
   ]
  },
  {
   "cell_type": "markdown",
   "id": "020ae0ff",
   "metadata": {},
   "source": [
    "# > 포매팅(Formatting)\n",
    "\n",
    "특정 값만 바뀌고 일정한 형식을 가지는 문자열을 작성할 수 있는 기법\n",
    "\n",
    "## 1. %포매팅\n",
    "\n",
    "* 데이터 타입에 따른 분류 : 정수, 실수, 문자\n",
    "* 옵션 길이 : 문자열 길이, 표현할 아이템 개수, 정렬, 공백\n",
    "\n",
    "### 1) 숫자값 대입"
   ]
  },
  {
   "cell_type": "code",
   "execution_count": 56,
   "id": "b269f31c",
   "metadata": {},
   "outputs": [],
   "source": [
    "# 1. 가변자료가 들어갈 자리(떙땡... 에 당하는)에 구멍(%자료형)을 낸다.\n",
    "# 2. 구멍이 뚫린 문자열 뒤에 %로 연결한 다음 집어넣을 값을 적는다"
   ]
  },
  {
   "cell_type": "code",
   "execution_count": 57,
   "id": "4dfa973e",
   "metadata": {},
   "outputs": [
    {
     "data": {
      "text/plain": [
       "'오늘은 26일 입니다.'"
      ]
     },
     "execution_count": 57,
     "metadata": {},
     "output_type": "execute_result"
    }
   ],
   "source": [
    "# 정수 값 포매팅 : 정수(int) -> %d\n",
    "'오늘은 %d일 입니다.' %26"
   ]
  },
  {
   "cell_type": "code",
   "execution_count": 58,
   "id": "2544c361",
   "metadata": {},
   "outputs": [
    {
     "data": {
      "text/plain": [
       "'오늘은 16일입니다.'"
      ]
     },
     "execution_count": 58,
     "metadata": {},
     "output_type": "execute_result"
    }
   ],
   "source": [
    "# 정수 자리의 의미 : 출력되는 형식이 정수라는 의미 \n",
    "# 반올림이 아니라 소수점 아래를 버린 결과를 출력한다.\n",
    "'오늘은 %d일입니다.' % 16.285168951"
   ]
  },
  {
   "cell_type": "code",
   "execution_count": 59,
   "id": "b7f0b3b6",
   "metadata": {},
   "outputs": [
    {
     "data": {
      "text/plain": [
       "'오늘의 온도는 24.000000도 입니다.'"
      ]
     },
     "execution_count": 59,
     "metadata": {},
     "output_type": "execute_result"
    }
   ],
   "source": [
    "# 실수(float)값 포매팅\n",
    "# %f를 이용하여 값에 대한 구멍을 낸다\n",
    "# %f는 기본적으로 소수점 아래 6자리까지 표현\n",
    "\"오늘의 온도는 %f도 입니다.\" %24"
   ]
  },
  {
   "cell_type": "code",
   "execution_count": 60,
   "id": "83781c64",
   "metadata": {},
   "outputs": [
    {
     "data": {
      "text/plain": [
       "'당신의 점수는 92.123457점 입니다.'"
      ]
     },
     "execution_count": 60,
     "metadata": {},
     "output_type": "execute_result"
    }
   ],
   "source": [
    "# 실수값 포매팅 2 : 집어넣는 값을 정수가 아닌 실수로 적용\n",
    "# 실수값 포매팅은 6번째 자리에서 반올림을 한다.\n",
    "'당신의 점수는 %f점 입니다.' %92.12345678"
   ]
  },
  {
   "cell_type": "code",
   "execution_count": 62,
   "id": "10ed6dc9",
   "metadata": {},
   "outputs": [
    {
     "data": {
      "text/plain": [
       "'당신의 점수는 92.123점입니다.'"
      ]
     },
     "execution_count": 62,
     "metadata": {},
     "output_type": "execute_result"
    }
   ],
   "source": [
    "# 옵션 : 소수점 아래 자리를 몇 자리까지 출력할지 정할 수 있음\n",
    "# %0.nf : 소수점 아래 n 자리까지마 표현하는 실수\n",
    "'당신의 점수는 %0.3f점입니다.' %92.12345678"
   ]
  },
  {
   "cell_type": "code",
   "execution_count": 63,
   "id": "dc51a9d0",
   "metadata": {},
   "outputs": [
    {
     "data": {
      "text/plain": [
       "'오늘은 7월 26일입니다.'"
      ]
     },
     "execution_count": 63,
     "metadata": {},
     "output_type": "execute_result"
    }
   ],
   "source": [
    "# 가변자료를 2개 이상 넣는 케이스 \n",
    "# 집어넣는 값은 왼쪽부터 하나씩 전달됨\n",
    "# 2개 이상을 집어넣는 경우는 % (1번째값, 2번째값...) 과 같이 ()로 감싸서 전달한다.\n",
    "'오늘은 %d월 %d일입니다.' %(7, 26)"
   ]
  },
  {
   "cell_type": "code",
   "execution_count": 64,
   "id": "b0f45e0e",
   "metadata": {},
   "outputs": [
    {
     "ename": "TypeError",
     "evalue": "%d format: a number is required, not str",
     "output_type": "error",
     "traceback": [
      "\u001b[1;31m---------------------------------------------------------------------------\u001b[0m",
      "\u001b[1;31mTypeError\u001b[0m                                 Traceback (most recent call last)",
      "Input \u001b[1;32mIn [64]\u001b[0m, in \u001b[0;36m<cell line: 2>\u001b[1;34m()\u001b[0m\n\u001b[0;32m      1\u001b[0m \u001b[38;5;66;03m# %d, %f에 숫자가 아닌 자료를 넣으면 에러가 발생합니다.\u001b[39;00m\n\u001b[1;32m----> 2\u001b[0m \u001b[38;5;124;43m'\u001b[39;49m\u001b[38;5;124;43m오늘은 \u001b[39;49m\u001b[38;5;132;43;01m%d\u001b[39;49;00m\u001b[38;5;124;43m월 \u001b[39;49m\u001b[38;5;132;43;01m%d\u001b[39;49;00m\u001b[38;5;124;43m일입니다.\u001b[39;49m\u001b[38;5;124;43m'\u001b[39;49m\u001b[43m \u001b[49m\u001b[38;5;241;43m%\u001b[39;49m\u001b[43m(\u001b[49m\u001b[38;5;124;43m'\u001b[39;49m\u001b[38;5;124;43m5\u001b[39;49m\u001b[38;5;124;43m'\u001b[39;49m\u001b[43m,\u001b[49m\u001b[43m \u001b[49m\u001b[38;5;124;43m'\u001b[39;49m\u001b[38;5;124;43m24\u001b[39;49m\u001b[38;5;124;43m'\u001b[39;49m\u001b[43m)\u001b[49m\n",
      "\u001b[1;31mTypeError\u001b[0m: %d format: a number is required, not str"
     ]
    }
   ],
   "source": [
    "# %d, %f에 숫자가 아닌 자료를 넣으면 에러가 발생합니다.\n",
    "'오늘은 %d월 %d일입니다.' %('5', '24')"
   ]
  },
  {
   "cell_type": "markdown",
   "id": "5df9b319",
   "metadata": {},
   "source": [
    "# 2) 문자 대입 \n",
    "- %s로 구멍 뚫기\n",
    "- 집어넣는 값에 대해서는 제한이 없다\n",
    "- 만능 포매팅"
   ]
  },
  {
   "cell_type": "code",
   "execution_count": 65,
   "id": "eeeeb37b",
   "metadata": {},
   "outputs": [
    {
     "data": {
      "text/plain": [
       "'abc1234님 접속을 환영합니다.'"
      ]
     },
     "execution_count": 65,
     "metadata": {},
     "output_type": "execute_result"
    }
   ],
   "source": [
    "# 집어넣는 값 : 문자 타입\n",
    "'%s님 접속을 환영합니다.' % 'abc1234'"
   ]
  },
  {
   "cell_type": "code",
   "execution_count": 66,
   "id": "5bcde20a",
   "metadata": {},
   "outputs": [
    {
     "data": {
      "text/plain": [
       "'1000, 숫자도 입력 가능'"
      ]
     },
     "execution_count": 66,
     "metadata": {},
     "output_type": "execute_result"
    }
   ],
   "source": [
    "# 문자 이외의 타입도 가능\n",
    "'%s, 숫자도 입력 가능' % 1000"
   ]
  },
  {
   "cell_type": "markdown",
   "id": "ab4ca33a",
   "metadata": {},
   "source": [
    "# <<연습 문제>>\n",
    "### 아래 문장에 대해 조건을 만족하는 포매팅을 작성해주세요\n",
    "\"날짜 : 2022-07-26/출석률 : 88%\"<br>\n",
    "- 전달하는 값 : 4개\n",
    "- 출석한 학생 수 : 16명\n",
    "- 총 학생 수 : 18명\n",
    "- 출석률은 소수점 첫 번째 자리에서 반올림 적용"
   ]
  },
  {
   "cell_type": "code",
   "execution_count": 89,
   "id": "1bdfa3b6",
   "metadata": {},
   "outputs": [
    {
     "data": {
      "text/plain": [
       "'날짜 : 2022-07-26 '"
      ]
     },
     "execution_count": 89,
     "metadata": {},
     "output_type": "execute_result"
    }
   ],
   "source": [
    "date = \"날짜 : 2022-07-%d \" %26\n",
    "a = 16\n",
    "b = 18\n",
    "c = a/b * 100\n",
    "date"
   ]
  },
  {
   "cell_type": "code",
   "execution_count": 74,
   "id": "09f5ac0c",
   "metadata": {},
   "outputs": [
    {
     "data": {
      "text/plain": [
       "'출석한 학생 수 : 16명'"
      ]
     },
     "execution_count": 74,
     "metadata": {},
     "output_type": "execute_result"
    }
   ],
   "source": [
    "string1 = \"출석한 학생 수 : %s명\" %a\n",
    "string1"
   ]
  },
  {
   "cell_type": "code",
   "execution_count": 86,
   "id": "4e3e06c4",
   "metadata": {},
   "outputs": [
    {
     "data": {
      "text/plain": [
       "'총 학생 수 : 18명'"
      ]
     },
     "execution_count": 86,
     "metadata": {},
     "output_type": "execute_result"
    }
   ],
   "source": [
    "string2 = \"총 학생 수 : %s명\" %b\n",
    "string2"
   ]
  },
  {
   "cell_type": "code",
   "execution_count": 92,
   "id": "728aced7",
   "metadata": {},
   "outputs": [
    {
     "data": {
      "text/plain": [
       "'출석률 : 88'"
      ]
     },
     "execution_count": 92,
     "metadata": {},
     "output_type": "execute_result"
    }
   ],
   "source": [
    "string3 = \"출석률 : %s\" % int(c)\n",
    "string3"
   ]
  },
  {
   "cell_type": "code",
   "execution_count": 93,
   "id": "b0dbbf91",
   "metadata": {},
   "outputs": [
    {
     "name": "stdout",
     "output_type": "stream",
     "text": [
      "날짜 : 2022-07-26 \n",
      "출석한 학생 수 : 16명\n",
      "총 학생 수 : 18명\n",
      "출석률 : 88\n"
     ]
    }
   ],
   "source": [
    "print(date)\n",
    "print(string1)\n",
    "print(string2)\n",
    "print(string3)"
   ]
  },
  {
   "cell_type": "code",
   "execution_count": 96,
   "id": "6a6c7b2a",
   "metadata": {},
   "outputs": [
    {
     "data": {
      "text/plain": [
       "'날짜 : 2022-7-26 / 출석률 : 0.9%'"
      ]
     },
     "execution_count": 96,
     "metadata": {},
     "output_type": "execute_result"
    }
   ],
   "source": [
    "# 정답 예시\n",
    "'날짜 : %d-%s-%d / 출석률 : %0.1f%%' % (2022, 7, 26, (16/18))"
   ]
  },
  {
   "cell_type": "markdown",
   "id": "e4650b88",
   "metadata": {},
   "source": [
    "## > 문자열 내장함수* = 문자열 메서드\n",
    "\n",
    "    └≫ 내장함수 : 특정 데이터 타입이 자체적으로 가지고 있는 속성으로 존재하는 함수\n",
    "    └≫ 문법 : 변수(데이터타입값).함수명()\n",
    "\n",
    "\n",
    "* count( ) : 특정 문자의 개수\n",
    "\n",
    "\n",
    "* find( ) :특정 문자의 인덱스 번호(위치)\n",
    "\n",
    "\n",
    "* join( ) : 특정 기호를 문자열 아이템 사이에 입력\n",
    "\n",
    "\n",
    "* upper( ) : 문자열을 대문자로 변경\n",
    "\n",
    "\n",
    "* lower( ) : 문자열을 소문자로 변경\n",
    "\n",
    "\n",
    "* capitalize( ) : 문자열의 첫 글자를 대문자로\n",
    "\n",
    "\n",
    "* swapcase( ) : 대문자는 소문자로, 소문자는 대문자로 전환\n",
    "\n",
    "\n",
    "* lstrip( ) / rstrip( ) / strip( ) : 좌 / 우 / 앞뒤 공백(기본) 및 특정 문자 지우기\n",
    "\n",
    "\n",
    "* replace( ) : 기존 문자를 새로운 문자로 바꾸기\n",
    "\n",
    "\n",
    "* split( ) : 특정 기호를 기준으로 문자열을 아이템 단위로 나누어 리스트로 반환\n",
    "\n",
    "\n",
    "* center( ) : 문자열 길이를 지정하여 대상 문자열을 중앙 정렬\n",
    "\n",
    "\n",
    "* ljust( ) : 문자열 길이를 지정하여 대상 문자열을 왼쪽 정렬\n",
    "\n",
    "\n",
    "* rjust( ) : 문자열 길이를 지정하여 대상 문자열을 오른쪽 정렬"
   ]
  },
  {
   "cell_type": "code",
   "execution_count": 97,
   "id": "fd40eef1",
   "metadata": {},
   "outputs": [],
   "source": [
    "#문자열 생성\n",
    "text = 'tomato juice'"
   ]
  },
  {
   "cell_type": "code",
   "execution_count": 101,
   "id": "a2a67733",
   "metadata": {},
   "outputs": [
    {
     "data": {
      "text/plain": [
       "2"
      ]
     },
     "execution_count": 101,
     "metadata": {},
     "output_type": "execute_result"
    }
   ],
   "source": [
    "# count()\n",
    "# 해당 문자열 내부에 내가 찾고 싶은 문자, 단어가 몇 개가 있는지 세어줌\n",
    "text.count('to')"
   ]
  },
  {
   "cell_type": "code",
   "execution_count": 103,
   "id": "838a0f56",
   "metadata": {},
   "outputs": [
    {
     "data": {
      "text/plain": [
       "4"
      ]
     },
     "execution_count": 103,
     "metadata": {},
     "output_type": "execute_result"
    }
   ],
   "source": [
    "# find() : 특정 값의 인덱스 번호를 반환 \n",
    "# txt 문자열에서의 a의 인덱스 번호\n",
    "# find('찾을자료', 시작인덱스)를 적어주면 특정 인덱스부터만 찾아볼수도 있음\n",
    "# 없는 자료 조회시 -1이라는 인덱스를 리턴\n",
    "text.find('to', 3)"
   ]
  },
  {
   "cell_type": "code",
   "execution_count": 105,
   "id": "f1ea538f",
   "metadata": {},
   "outputs": [
    {
     "data": {
      "text/plain": [
       "'TOMATO JUICE'"
      ]
     },
     "execution_count": 105,
     "metadata": {},
     "output_type": "execute_result"
    }
   ],
   "source": [
    "# upper()\n",
    "# 변경한 결과를 시뮬레이션해서 보여줌(원본자료는 변경되지 않음)\n",
    "text.upper()"
   ]
  },
  {
   "cell_type": "code",
   "execution_count": 107,
   "id": "fb01bad3",
   "metadata": {},
   "outputs": [
    {
     "data": {
      "text/plain": [
       "'tomato juice'"
      ]
     },
     "execution_count": 107,
     "metadata": {},
     "output_type": "execute_result"
    }
   ],
   "source": [
    " text # upper()를 사용한다고 해서 영구적으로 바뀌는 것이 아님"
   ]
  },
  {
   "cell_type": "code",
   "execution_count": 110,
   "id": "c6ba67c9",
   "metadata": {},
   "outputs": [
    {
     "data": {
      "text/plain": [
       "'tomato juice'"
      ]
     },
     "execution_count": 110,
     "metadata": {},
     "output_type": "execute_result"
    }
   ],
   "source": [
    "# lower()\n",
    "text2 = text.upper()\n",
    "text2.lower()"
   ]
  },
  {
   "cell_type": "code",
   "execution_count": 111,
   "id": "df4dbeb7",
   "metadata": {},
   "outputs": [
    {
     "data": {
      "text/plain": [
       "'TOMATO JUICE'"
      ]
     },
     "execution_count": 111,
     "metadata": {},
     "output_type": "execute_result"
    }
   ],
   "source": [
    "text2"
   ]
  },
  {
   "cell_type": "code",
   "execution_count": 116,
   "id": "cd2ec78c",
   "metadata": {},
   "outputs": [],
   "source": [
    "text = '                         123                        123                             '"
   ]
  },
  {
   "cell_type": "code",
   "execution_count": 117,
   "id": "4ee67c3c",
   "metadata": {},
   "outputs": [
    {
     "data": {
      "text/plain": [
       "'123                        123                             '"
      ]
     },
     "execution_count": 117,
     "metadata": {},
     "output_type": "execute_result"
    }
   ],
   "source": [
    "# lstrip()\n",
    "# 문자열의 왼쪽에 있는 공백 전부 제거(가운데는 제거 안함)\n",
    "# 바로 반영되지 않고, 시뮬레이션 결과만 확인할 수 있음\n",
    "text.lstrip()"
   ]
  },
  {
   "cell_type": "code",
   "execution_count": 118,
   "id": "c6062b12",
   "metadata": {},
   "outputs": [
    {
     "data": {
      "text/plain": [
       "'                         123                        123'"
      ]
     },
     "execution_count": 118,
     "metadata": {},
     "output_type": "execute_result"
    }
   ],
   "source": [
    "# rstrip() : 오른쪽\n",
    "text.rstrip()"
   ]
  },
  {
   "cell_type": "code",
   "execution_count": 119,
   "id": "2f15d063",
   "metadata": {},
   "outputs": [
    {
     "data": {
      "text/plain": [
       "'123                        123'"
      ]
     },
     "execution_count": 119,
     "metadata": {},
     "output_type": "execute_result"
    }
   ],
   "source": [
    "# strip)() : 양쪽 모두\n",
    "text.strip()"
   ]
  },
  {
   "cell_type": "code",
   "execution_count": 120,
   "id": "dfbce2e6",
   "metadata": {},
   "outputs": [
    {
     "data": {
      "text/plain": [
       "'                         456                        456                             '"
      ]
     },
     "execution_count": 120,
     "metadata": {},
     "output_type": "execute_result"
    }
   ],
   "source": [
    "# replace(old, new)\n",
    "# 찾아바꾸기, 문자열 내에서 old에 해당하는 문자를 찾아 new로 싹 다 교체\n",
    "# 공백 찾아 없애기에 쓸 수 있음\n",
    "# 역시 원본 자료에 바로 저장되지 않고 일시적으로 변경된 결과만 보여줌\n",
    "text.replace('123', '456')"
   ]
  },
  {
   "cell_type": "code",
   "execution_count": 121,
   "id": "4a21bdb5",
   "metadata": {},
   "outputs": [
    {
     "data": {
      "text/plain": [
       "'123123'"
      ]
     },
     "execution_count": 121,
     "metadata": {},
     "output_type": "execute_result"
    }
   ],
   "source": [
    "# text 내부의 공백을 싹 다 없애보세요.\n",
    "text.replace(\" \", \"\")"
   ]
  },
  {
   "cell_type": "code",
   "execution_count": 122,
   "id": "31e93149",
   "metadata": {},
   "outputs": [],
   "source": [
    "text2 = 'a b c'"
   ]
  },
  {
   "cell_type": "code",
   "execution_count": 123,
   "id": "94dd46e6",
   "metadata": {},
   "outputs": [
    {
     "data": {
      "text/plain": [
       "['a', 'b', 'c']"
      ]
     },
     "execution_count": 123,
     "metadata": {},
     "output_type": "execute_result"
    }
   ],
   "source": [
    "# .split(\"기준\")\n",
    "# 쪼개기 \n",
    "# 기준 입력시 기준점을 기준으로 쪼개고 입력 안하면 ' ', \\n, \\t 등을 기준으로 쪼개줌\n",
    "text2.split()"
   ]
  },
  {
   "cell_type": "code",
   "execution_count": 124,
   "id": "5da2a2a9",
   "metadata": {},
   "outputs": [
    {
     "data": {
      "text/plain": [
       "'a b c'"
      ]
     },
     "execution_count": 124,
     "metadata": {},
     "output_type": "execute_result"
    }
   ],
   "source": [
    "text2"
   ]
  },
  {
   "cell_type": "code",
   "execution_count": 125,
   "id": "cc10b5cf",
   "metadata": {},
   "outputs": [],
   "source": [
    "text3 = 'a, b, c, ddes'"
   ]
  },
  {
   "cell_type": "code",
   "execution_count": 128,
   "id": "8fcab490",
   "metadata": {},
   "outputs": [
    {
     "data": {
      "text/plain": [
       "['a', ' b', ' c', ' ddes']"
      ]
     },
     "execution_count": 128,
     "metadata": {},
     "output_type": "execute_result"
    }
   ],
   "source": [
    "# 기준 설정시 공백이 아닌 기준문자를 직접 입력해 쪼개기\n",
    "# \",\"를 대상으로 쪼갤 경우 나오는 text3의 결과물은 4개\n",
    "text3.split(',')"
   ]
  },
  {
   "cell_type": "code",
   "execution_count": 130,
   "id": "a27e3b4d",
   "metadata": {},
   "outputs": [
    {
     "data": {
      "text/plain": [
       "'a,b,c'"
      ]
     },
     "execution_count": 130,
     "metadata": {},
     "output_type": "execute_result"
    }
   ],
   "source": [
    "# join()\n",
    "# 왼쪽에 있는 요소를 .join(자료)의\n",
    "# 자료 인덱스 사이사이에 입력해줌\n",
    "text='abc'\n",
    "\",\".join(text) # [0] 문자열이기 때문에 인덱싱 또한 가능함"
   ]
  },
  {
   "cell_type": "code",
   "execution_count": 131,
   "id": "b8e287e5",
   "metadata": {},
   "outputs": [],
   "source": [
    "# 마지막 인덱스번호 = -1을 써도 되지만 len(문자열) -1 해도 됩니다."
   ]
  },
  {
   "cell_type": "code",
   "execution_count": 132,
   "id": "1c8d24e6",
   "metadata": {},
   "outputs": [],
   "source": [
    "x = 'abcdefg'"
   ]
  },
  {
   "cell_type": "code",
   "execution_count": 133,
   "id": "570add27",
   "metadata": {},
   "outputs": [
    {
     "data": {
      "text/plain": [
       "'g'"
      ]
     },
     "execution_count": 133,
     "metadata": {},
     "output_type": "execute_result"
    }
   ],
   "source": [
    "x[-1]"
   ]
  },
  {
   "cell_type": "code",
   "execution_count": 134,
   "id": "a183800e",
   "metadata": {},
   "outputs": [
    {
     "data": {
      "text/plain": [
       "'g'"
      ]
     },
     "execution_count": 134,
     "metadata": {},
     "output_type": "execute_result"
    }
   ],
   "source": [
    "x[len(x)-1]"
   ]
  },
  {
   "cell_type": "code",
   "execution_count": null,
   "id": "9c6bb898",
   "metadata": {},
   "outputs": [],
   "source": []
  },
  {
   "cell_type": "code",
   "execution_count": null,
   "id": "9eac601b",
   "metadata": {},
   "outputs": [],
   "source": []
  },
  {
   "cell_type": "code",
   "execution_count": null,
   "id": "b23bd434",
   "metadata": {},
   "outputs": [],
   "source": []
  },
  {
   "cell_type": "code",
   "execution_count": null,
   "id": "074882cc",
   "metadata": {},
   "outputs": [],
   "source": []
  },
  {
   "cell_type": "code",
   "execution_count": null,
   "id": "bd8c50db",
   "metadata": {},
   "outputs": [],
   "source": []
  },
  {
   "cell_type": "code",
   "execution_count": null,
   "id": "833d1017",
   "metadata": {},
   "outputs": [],
   "source": []
  },
  {
   "cell_type": "code",
   "execution_count": null,
   "id": "ac7da07c",
   "metadata": {},
   "outputs": [],
   "source": []
  }
 ],
 "metadata": {
  "kernelspec": {
   "display_name": "Python 3 (ipykernel)",
   "language": "python",
   "name": "python3"
  },
  "language_info": {
   "codemirror_mode": {
    "name": "ipython",
    "version": 3
   },
   "file_extension": ".py",
   "mimetype": "text/x-python",
   "name": "python",
   "nbconvert_exporter": "python",
   "pygments_lexer": "ipython3",
   "version": "3.9.12"
  }
 },
 "nbformat": 4,
 "nbformat_minor": 5
}
