{
 "cells": [
  {
   "cell_type": "markdown",
   "id": "6378bdb7",
   "metadata": {},
   "source": [
    "# api 크롤링\n",
    "\n",
    "기존의 크롤링 방식은 \n",
    "\n",
    "1. 내가 직접 홈페이지에 브라우저를 켜서 접근하거나(selenium)\n",
    "\n",
    "혹은 \n",
    "\n",
    "2. 파이썬 자체적으로 호출을 요청해서(requests)\n",
    "\n",
    "데이터를 가지고 오는 방식이었습니다.\n",
    "\n",
    "이 방식은 서버에 부하가 많이 갈 뿐더러 나에게 필요없는 데이터까지 한 번에 호출해서 가져오는 문제가 있습니다.\n",
    "\n",
    "따라서 서비스 제공자 측에서는 서버 부하를 줄이고, 사용자에게 맞춤형의 데이터를 제공하기 위해 api서버를 운영합니다.\n",
    "\n",
    "api서버는 인가된 데이터만을 개발자에게 넘겨서 서버도 안정적으로 유지하며(횟수 제한이 있는 사이트도 많습니다. 라이엇 데이터는 1초에 5회, 2분에 100회로 제한됩니다.)\n",
    "\n",
    "필요없는 동영상 자료나 그림 자료를 호출하지 않으므로 트래픽을 줄일 수 있습니다.\n",
    "\n",
    "\n",
    "api 서버 접근시 보통 urllib.request 를 이용하게 됩니다."
   ]
  },
  {
   "cell_type": "code",
   "execution_count": 1,
   "id": "cb27fcb0",
   "metadata": {},
   "outputs": [],
   "source": [
    "# 사이트에 자료 요청\n",
    "import urllib.request\n",
    "#json 데이터 핸들링\n",
    "import json\n",
    "# DataFrame 자료형 활용\n",
    "import pandas as pd \n",
    "# json 데이터를 pandas DataFrame으로 변환\n",
    "from pandas.io.json import json_normalize"
   ]
  },
  {
   "cell_type": "markdown",
   "id": "3d576d5e",
   "metadata": {},
   "source": [
    "# 영진위 api 신청\n",
    "\n",
    "https://www.kobis.or.kr/kobisopenapi/homepg/main/main.do\n",
    "\n",
    "1. 접속 후 가입 및 로그인 \n",
    "\n",
    "2. 키발급 탭에서 키 발급하기 \n",
    "\n",
    "3. 요청 api종류 보고 요청양식 및 데이터 확인하기 "
   ]
  },
  {
   "cell_type": "code",
   "execution_count": 3,
   "id": "36c83253",
   "metadata": {},
   "outputs": [
    {
     "name": "stdout",
     "output_type": "stream",
     "text": [
      "https://kobis.or.kr/kobisopenapi/webservice/rest/boxoffice/searchDailyBoxOfficeList.json?key=5c6ac9b9844cd60b13a5ea12c2eede98&targetDt=20220802\n"
     ]
    }
   ],
   "source": [
    "api_key = \"5c6ac9b9844cd60b13a5ea12c2eede98\" # 발급받은 키만 복붙하세요.\n",
    "request_date = \"20220802\" # 조회날짜를  xxxxyydd 20220802 형식으로 넣어주세요.\n",
    "url = \"https://kobis.or.kr/kobisopenapi/webservice/rest/boxoffice/searchDailyBoxOfficeList.json?key=%s&targetDt=%s\" % (api_key, request_date)\n",
    "print(url)"
   ]
  },
  {
   "cell_type": "markdown",
   "id": "4fbc99d4",
   "metadata": {},
   "source": [
    "# json데이터를 팬더스 데이터프레임으로 변환\n",
    "\n",
    "api 데이터는 보통 json(JavaScript Object Notation) 타입으로 받아집니다.\n",
    "\n",
    "쉽게 말하면 자바스크립트 데이터를 전달하기 좋게 설정한 자료형인데\n",
    "\n",
    "파이썬의 딕셔너리와 거의 같다고 보시면 됩니다.\n",
    "\n",
    "따라서 json 데이터를 팬더스 데이터로 변환한다는 것은 사실상\n",
    "\n",
    "딕셔너리 데이터를 팬더스 데이터프레임으로 변환하는것입니다."
   ]
  },
  {
   "cell_type": "code",
   "execution_count": 4,
   "id": "38a3d926",
   "metadata": {},
   "outputs": [],
   "source": [
    "# 위의 url 변수를 이용해 데이터를 요청합니다.\n",
    "r = urllib.request.urlopen(url)\n",
    "\n",
    "# 요청 페이지의 결과 데이터를 파이썬 내부 데이터로 바꿉니다.\n",
    "json_raw =r.read()"
   ]
  },
  {
   "cell_type": "code",
   "execution_count": 5,
   "id": "9584058d",
   "metadata": {
    "collapsed": true
   },
   "outputs": [
    {
     "data": {
      "text/plain": [
       "b'{\"boxOfficeResult\":{\"boxofficeType\":\"\\xec\\x9d\\xbc\\xeb\\xb3\\x84 \\xeb\\xb0\\x95\\xec\\x8a\\xa4\\xec\\x98\\xa4\\xed\\x94\\xbc\\xec\\x8a\\xa4\",\"showRange\":\"20220802~20220802\",\"dailyBoxOfficeList\":[{\"rnum\":\"1\",\"rank\":\"1\",\"rankInten\":\"0\",\"rankOldAndNew\":\"OLD\",\"movieCd\":\"20209343\",\"movieNm\":\"\\xed\\x95\\x9c\\xec\\x82\\xb0: \\xec\\x9a\\xa9\\xec\\x9d\\x98 \\xec\\xb6\\x9c\\xed\\x98\\x84\",\"openDt\":\"2022-07-27\",\"salesAmt\":\"3418297205\",\"salesShare\":\"56.5\",\"salesInten\":\"-445775729\",\"salesChange\":\"-11.5\",\"salesAcc\":\"30676698831\",\"audiCnt\":\"340707\",\"audiInten\":\"-45277\",\"audiChange\":\"-11.7\",\"audiAcc\":\"2996787\",\"scrnCnt\":\"2030\",\"showCnt\":\"9659\"},{\"rnum\":\"2\",\"rank\":\"2\",\"rankInten\":\"0\",\"rankOldAndNew\":\"OLD\",\"movieCd\":\"20205362\",\"movieNm\":\"\\xeb\\xaf\\xb8\\xeb\\x8b\\x88\\xec\\x96\\xb8\\xec\\xa6\\x882\",\"openDt\":\"2022-07-20\",\"salesAmt\":\"843554512\",\"salesShare\":\"13.9\",\"salesInten\":\"-60441616\",\"salesChange\":\"-6.7\",\"salesAcc\":\"16439366347\",\"audiCnt\":\"90863\",\"audiInten\":\"-6344\",\"audiChange\":\"-6.5\",\"audiAcc\":\"1693084\",\"scrnCnt\":\"945\",\"showCnt\":\"2837\"},{\"rnum\":\"3\",\"rank\":\"3\",\"rankInten\":\"0\",\"rankOldAndNew\":\"OLD\",\"movieCd\":\"20194376\",\"movieNm\":\"\\xed\\x83\\x91\\xea\\xb1\\xb4: \\xeb\\xa7\\xa4\\xeb\\xb2\\x84\\xeb\\xa6\\xad\",\"openDt\":\"2022-06-22\",\"salesAmt\":\"678742098\",\"salesShare\":\"11.2\",\"salesInten\":\"-52334711\",\"salesChange\":\"-7.2\",\"salesAcc\":\"76662106293\",\"audiCnt\":\"66650\",\"audiInten\":\"-4841\",\"audiChange\":\"-6.8\",\"audiAcc\":\"7187516\",\"scrnCnt\":\"802\",\"showCnt\":\"2072\"},{\"rnum\":\"4\",\"rank\":\"4\",\"rankInten\":\"0\",\"rankOldAndNew\":\"OLD\",\"movieCd\":\"20225190\",\"movieNm\":\"\\xeb\\xbd\\x80\\xeb\\xa1\\x9c\\xeb\\xa1\\x9c \\xea\\xb7\\xb9\\xec\\x9e\\xa5\\xed\\x8c\\x90 \\xeb\\x93\\x9c\\xeb\\x9e\\x98\\xea\\xb3\\xa4\\xec\\xba\\x90\\xec\\x8a\\xac \\xeb\\x8c\\x80\\xeb\\xaa\\xa8\\xed\\x97\\x98\",\"openDt\":\"2022-07-28\",\"salesAmt\":\"351444239\",\"salesShare\":\"5.8\",\"salesInten\":\"-19020699\",\"salesChange\":\"-5.1\",\"salesAcc\":\"2356729812\",\"audiCnt\":\"38807\",\"audiInten\":\"-1971\",\"audiChange\":\"-4.8\",\"audiAcc\":\"251109\",\"scrnCnt\":\"677\",\"showCnt\":\"1440\"},{\"rnum\":\"5\",\"rank\":\"5\",\"rankInten\":\"0\",\"rankOldAndNew\":\"OLD\",\"movieCd\":\"20208446\",\"movieNm\":\"\\xec\\x99\\xb8\\xea\\xb3\\x84+\\xec\\x9d\\xb8 1\\xeb\\xb6\\x80\",\"openDt\":\"2022-07-20\",\"salesAmt\":\"363649895\",\"salesShare\":\"6.0\",\"salesInten\":\"-40994799\",\"salesChange\":\"-10.1\",\"salesAcc\":\"14968915621\",\"audiCnt\":\"36506\",\"audiInten\":\"-3867\",\"audiChange\":\"-9.6\",\"audiAcc\":\"1434570\",\"scrnCnt\":\"712\",\"showCnt\":\"1804\"},{\"rnum\":\"6\",\"rank\":\"6\",\"rankInten\":\"0\",\"rankOldAndNew\":\"OLD\",\"movieCd\":\"20209654\",\"movieNm\":\"\\xed\\x97\\xa4\\xec\\x96\\xb4\\xec\\xa7\\x88 \\xea\\xb2\\xb0\\xec\\x8b\\xac\",\"openDt\":\"2022-06-29\",\"salesAmt\":\"190209473\",\"salesShare\":\"3.1\",\"salesInten\":\"-155223\",\"salesChange\":\"-0.1\",\"salesAcc\":\"17660574672\",\"audiCnt\":\"18263\",\"audiInten\":\"43\",\"audiChange\":\"0.2\",\"audiAcc\":\"1708584\",\"scrnCnt\":\"412\",\"showCnt\":\"752\"},{\"rnum\":\"7\",\"rank\":\"7\",\"rankInten\":\"0\",\"rankOldAndNew\":\"OLD\",\"movieCd\":\"20225237\",\"movieNm\":\"\\xeb\\xaa\\x85\\xed\\x83\\x90\\xec\\xa0\\x95 \\xec\\xbd\\x94\\xeb\\x82\\x9c: \\xed\\x95\\xa0\\xeb\\xa1\\x9c\\xec\\x9c\\x88\\xec\\x9d\\x98 \\xec\\x8b\\xa0\\xeb\\xb6\\x80\",\"openDt\":\"2022-07-13\",\"salesAmt\":\"81394059\",\"salesShare\":\"1.3\",\"salesInten\":\"5183642\",\"salesChange\":\"6.8\",\"salesAcc\":\"4434875457\",\"audiCnt\":\"8088\",\"audiInten\":\"617\",\"audiChange\":\"8.3\",\"audiAcc\":\"427204\",\"scrnCnt\":\"185\",\"showCnt\":\"271\"},{\"rnum\":\"8\",\"rank\":\"8\",\"rankInten\":\"1\",\"rankOldAndNew\":\"OLD\",\"movieCd\":\"20211792\",\"movieNm\":\"\\xed\\x97\\x8c\\xed\\x8a\\xb8\",\"openDt\":\"2022-08-10\",\"salesAmt\":\"29720000\",\"salesShare\":\"0.5\",\"salesInten\":\"-6703000\",\"salesChange\":\"-18.4\",\"salesAcc\":\"93969000\",\"audiCnt\":\"4280\",\"audiInten\":\"233\",\"audiChange\":\"5.8\",\"audiAcc\":\"10688\",\"scrnCnt\":\"17\",\"showCnt\":\"17\"},{\"rnum\":\"9\",\"rank\":\"9\",\"rankInten\":\"-1\",\"rankOldAndNew\":\"OLD\",\"movieCd\":\"20196410\",\"movieNm\":\"\\xeb\\xb9\\x84\\xec\\x83\\x81\\xec\\x84\\xa0\\xec\\x96\\xb8\",\"openDt\":\"2022-08-03\",\"salesAmt\":\"26522000\",\"salesShare\":\"0.4\",\"salesInten\":\"-46635300\",\"salesChange\":\"-63.7\",\"salesAcc\":\"247169216\",\"audiCnt\":\"1681\",\"audiInten\":\"-3204\",\"audiChange\":\"-65.6\",\"audiAcc\":\"22329\",\"scrnCnt\":\"5\",\"showCnt\":\"7\"},{\"rnum\":\"10\",\"rank\":\"10\",\"rankInten\":\"0\",\"rankOldAndNew\":\"OLD\",\"movieCd\":\"20224662\",\"movieNm\":\"\\xed\\x86\\xa0\\xeb\\xa5\\xb4: \\xeb\\x9f\\xac\\xeb\\xb8\\x8c \\xec\\x95\\xa4 \\xec\\x8d\\xac\\xeb\\x8d\\x94\",\"openDt\":\"2022-07-06\",\"salesAmt\":\"12040299\",\"salesShare\":\"0.2\",\"salesInten\":\"-151561\",\"salesChange\":\"-1.2\",\"salesAcc\":\"29461697403\",\"audiCnt\":\"1082\",\"audiInten\":\"1\",\"audiChange\":\"0.1\",\"audiAcc\":\"2711863\",\"scrnCnt\":\"38\",\"showCnt\":\"51\"}]}}'"
      ]
     },
     "execution_count": 5,
     "metadata": {},
     "output_type": "execute_result"
    }
   ],
   "source": [
    "# b'~~~~~~~'로 시작하는 이 데이터는 파이썬에서 byte자료형으로 처리되고\n",
    "# 데이터프레임으로는 바로 변환이 불가능합니다.\n",
    "json_raw"
   ]
  },
  {
   "cell_type": "code",
   "execution_count": 6,
   "id": "c4b0d30b",
   "metadata": {},
   "outputs": [
    {
     "data": {
      "text/plain": [
       "bytes"
      ]
     },
     "execution_count": 6,
     "metadata": {},
     "output_type": "execute_result"
    }
   ],
   "source": [
    "# 바이트자료형임을 확인 \n",
    "type(json_raw)"
   ]
  },
  {
   "cell_type": "code",
   "execution_count": 7,
   "id": "0a54a5b2",
   "metadata": {},
   "outputs": [],
   "source": [
    "# 따라서 utf-8 형식으로 고쳐줘야 합니다. .decode()를 이용합니다.\n",
    "# encode => 우리가 쓰는 문자를 컴퓨터가 쓰는 형태로 변환 \n",
    "# decode => 컴퓨터가 쓰는 형태의 문자를 우리가 쓰는 형태로 변환\n",
    "json_utf8 = json_raw.decode(\"utf-8\")"
   ]
  },
  {
   "cell_type": "code",
   "execution_count": 8,
   "id": "7e1dbb5f",
   "metadata": {},
   "outputs": [
    {
     "data": {
      "text/plain": [
       "str"
      ]
     },
     "execution_count": 8,
     "metadata": {},
     "output_type": "execute_result"
    }
   ],
   "source": [
    "# 딕셔너리 구조를 유지하고 있는 문자로 변환됨\n",
    "type(json_utf8)"
   ]
  },
  {
   "cell_type": "code",
   "execution_count": 9,
   "id": "4e769c5d",
   "metadata": {},
   "outputs": [
    {
     "data": {
      "text/plain": [
       "'{\"boxOfficeResult\":{\"boxofficeType\":\"일별 박스오피스\",\"showRange\":\"20220802~20220802\",\"dailyBoxOfficeList\":[{\"rnum\":\"1\",\"rank\":\"1\",\"rankInten\":\"0\",\"rankOldAndNew\":\"OLD\",\"movieCd\":\"20209343\",\"movieNm\":\"한산: 용의 출현\",\"openDt\":\"2022-07-27\",\"salesAmt\":\"3418297205\",\"salesShare\":\"56.5\",\"salesInten\":\"-445775729\",\"salesChange\":\"-11.5\",\"salesAcc\":\"30676698831\",\"audiCnt\":\"340707\",\"audiInten\":\"-45277\",\"audiChange\":\"-11.7\",\"audiAcc\":\"2996787\",\"scrnCnt\":\"2030\",\"showCnt\":\"9659\"},{\"rnum\":\"2\",\"rank\":\"2\",\"rankInten\":\"0\",\"rankOldAndNew\":\"OLD\",\"movieCd\":\"20205362\",\"movieNm\":\"미니언즈2\",\"openDt\":\"2022-07-20\",\"salesAmt\":\"843554512\",\"salesShare\":\"13.9\",\"salesInten\":\"-60441616\",\"salesChange\":\"-6.7\",\"salesAcc\":\"16439366347\",\"audiCnt\":\"90863\",\"audiInten\":\"-6344\",\"audiChange\":\"-6.5\",\"audiAcc\":\"1693084\",\"scrnCnt\":\"945\",\"showCnt\":\"2837\"},{\"rnum\":\"3\",\"rank\":\"3\",\"rankInten\":\"0\",\"rankOldAndNew\":\"OLD\",\"movieCd\":\"20194376\",\"movieNm\":\"탑건: 매버릭\",\"openDt\":\"2022-06-22\",\"salesAmt\":\"678742098\",\"salesShare\":\"11.2\",\"salesInten\":\"-52334711\",\"salesChange\":\"-7.2\",\"salesAcc\":\"76662106293\",\"audiCnt\":\"66650\",\"audiInten\":\"-4841\",\"audiChange\":\"-6.8\",\"audiAcc\":\"7187516\",\"scrnCnt\":\"802\",\"showCnt\":\"2072\"},{\"rnum\":\"4\",\"rank\":\"4\",\"rankInten\":\"0\",\"rankOldAndNew\":\"OLD\",\"movieCd\":\"20225190\",\"movieNm\":\"뽀로로 극장판 드래곤캐슬 대모험\",\"openDt\":\"2022-07-28\",\"salesAmt\":\"351444239\",\"salesShare\":\"5.8\",\"salesInten\":\"-19020699\",\"salesChange\":\"-5.1\",\"salesAcc\":\"2356729812\",\"audiCnt\":\"38807\",\"audiInten\":\"-1971\",\"audiChange\":\"-4.8\",\"audiAcc\":\"251109\",\"scrnCnt\":\"677\",\"showCnt\":\"1440\"},{\"rnum\":\"5\",\"rank\":\"5\",\"rankInten\":\"0\",\"rankOldAndNew\":\"OLD\",\"movieCd\":\"20208446\",\"movieNm\":\"외계+인 1부\",\"openDt\":\"2022-07-20\",\"salesAmt\":\"363649895\",\"salesShare\":\"6.0\",\"salesInten\":\"-40994799\",\"salesChange\":\"-10.1\",\"salesAcc\":\"14968915621\",\"audiCnt\":\"36506\",\"audiInten\":\"-3867\",\"audiChange\":\"-9.6\",\"audiAcc\":\"1434570\",\"scrnCnt\":\"712\",\"showCnt\":\"1804\"},{\"rnum\":\"6\",\"rank\":\"6\",\"rankInten\":\"0\",\"rankOldAndNew\":\"OLD\",\"movieCd\":\"20209654\",\"movieNm\":\"헤어질 결심\",\"openDt\":\"2022-06-29\",\"salesAmt\":\"190209473\",\"salesShare\":\"3.1\",\"salesInten\":\"-155223\",\"salesChange\":\"-0.1\",\"salesAcc\":\"17660574672\",\"audiCnt\":\"18263\",\"audiInten\":\"43\",\"audiChange\":\"0.2\",\"audiAcc\":\"1708584\",\"scrnCnt\":\"412\",\"showCnt\":\"752\"},{\"rnum\":\"7\",\"rank\":\"7\",\"rankInten\":\"0\",\"rankOldAndNew\":\"OLD\",\"movieCd\":\"20225237\",\"movieNm\":\"명탐정 코난: 할로윈의 신부\",\"openDt\":\"2022-07-13\",\"salesAmt\":\"81394059\",\"salesShare\":\"1.3\",\"salesInten\":\"5183642\",\"salesChange\":\"6.8\",\"salesAcc\":\"4434875457\",\"audiCnt\":\"8088\",\"audiInten\":\"617\",\"audiChange\":\"8.3\",\"audiAcc\":\"427204\",\"scrnCnt\":\"185\",\"showCnt\":\"271\"},{\"rnum\":\"8\",\"rank\":\"8\",\"rankInten\":\"1\",\"rankOldAndNew\":\"OLD\",\"movieCd\":\"20211792\",\"movieNm\":\"헌트\",\"openDt\":\"2022-08-10\",\"salesAmt\":\"29720000\",\"salesShare\":\"0.5\",\"salesInten\":\"-6703000\",\"salesChange\":\"-18.4\",\"salesAcc\":\"93969000\",\"audiCnt\":\"4280\",\"audiInten\":\"233\",\"audiChange\":\"5.8\",\"audiAcc\":\"10688\",\"scrnCnt\":\"17\",\"showCnt\":\"17\"},{\"rnum\":\"9\",\"rank\":\"9\",\"rankInten\":\"-1\",\"rankOldAndNew\":\"OLD\",\"movieCd\":\"20196410\",\"movieNm\":\"비상선언\",\"openDt\":\"2022-08-03\",\"salesAmt\":\"26522000\",\"salesShare\":\"0.4\",\"salesInten\":\"-46635300\",\"salesChange\":\"-63.7\",\"salesAcc\":\"247169216\",\"audiCnt\":\"1681\",\"audiInten\":\"-3204\",\"audiChange\":\"-65.6\",\"audiAcc\":\"22329\",\"scrnCnt\":\"5\",\"showCnt\":\"7\"},{\"rnum\":\"10\",\"rank\":\"10\",\"rankInten\":\"0\",\"rankOldAndNew\":\"OLD\",\"movieCd\":\"20224662\",\"movieNm\":\"토르: 러브 앤 썬더\",\"openDt\":\"2022-07-06\",\"salesAmt\":\"12040299\",\"salesShare\":\"0.2\",\"salesInten\":\"-151561\",\"salesChange\":\"-1.2\",\"salesAcc\":\"29461697403\",\"audiCnt\":\"1082\",\"audiInten\":\"1\",\"audiChange\":\"0.1\",\"audiAcc\":\"2711863\",\"scrnCnt\":\"38\",\"showCnt\":\"51\"}]}}'"
      ]
     },
     "execution_count": 9,
     "metadata": {},
     "output_type": "execute_result"
    }
   ],
   "source": [
    "json_utf8"
   ]
  },
  {
   "cell_type": "code",
   "execution_count": 10,
   "id": "c5454dfb",
   "metadata": {},
   "outputs": [],
   "source": [
    "# json.loads(딕셔너리 형태의 문자열 자료)\n",
    "# 딕셔너리 형태로 적힌 문자열 자료를 딕셔너리형으로 변환 \n",
    "json_complete = json.loads(json_utf8)"
   ]
  },
  {
   "cell_type": "code",
   "execution_count": 11,
   "id": "b2b3a0ca",
   "metadata": {},
   "outputs": [
    {
     "data": {
      "text/plain": [
       "dict"
      ]
     },
     "execution_count": 11,
     "metadata": {},
     "output_type": "execute_result"
    }
   ],
   "source": [
    "# 딕셔너리(json) 변환 완료 확인\n",
    "type(json_complete)"
   ]
  },
  {
   "cell_type": "code",
   "execution_count": 17,
   "id": "113631db",
   "metadata": {},
   "outputs": [
    {
     "data": {
      "text/html": [
       "<div>\n",
       "<style scoped>\n",
       "    .dataframe tbody tr th:only-of-type {\n",
       "        vertical-align: middle;\n",
       "    }\n",
       "\n",
       "    .dataframe tbody tr th {\n",
       "        vertical-align: top;\n",
       "    }\n",
       "\n",
       "    .dataframe thead th {\n",
       "        text-align: right;\n",
       "    }\n",
       "</style>\n",
       "<table border=\"1\" class=\"dataframe\">\n",
       "  <thead>\n",
       "    <tr style=\"text-align: right;\">\n",
       "      <th></th>\n",
       "      <th>boxOfficeResult.boxofficeType</th>\n",
       "      <th>boxOfficeResult.showRange</th>\n",
       "      <th>boxOfficeResult.dailyBoxOfficeList</th>\n",
       "    </tr>\n",
       "  </thead>\n",
       "  <tbody>\n",
       "    <tr>\n",
       "      <th>0</th>\n",
       "      <td>일별 박스오피스</td>\n",
       "      <td>20220802~20220802</td>\n",
       "      <td>[{'rnum': '1', 'rank': '1', 'rankInten': '0', ...</td>\n",
       "    </tr>\n",
       "  </tbody>\n",
       "</table>\n",
       "</div>"
      ],
      "text/plain": [
       "  boxOfficeResult.boxofficeType boxOfficeResult.showRange  \\\n",
       "0                      일별 박스오피스         20220802~20220802   \n",
       "\n",
       "                  boxOfficeResult.dailyBoxOfficeList  \n",
       "0  [{'rnum': '1', 'rank': '1', 'rankInten': '0', ...  "
      ]
     },
     "execution_count": 17,
     "metadata": {},
     "output_type": "execute_result"
    }
   ],
   "source": [
    "# json_normalize(딕셔너리 자료)\n",
    "# 딕셔너리 자료를 데이터프레임 형태로 변환해줌\n",
    "pd.json_normalize(json_complete) # 보통 json 데이터를 받아오면 list화 되어있는 컬럼이 하나 들어옴. 해당 list 데이터를 타켓해서 데이터 가져오기"
   ]
  },
  {
   "cell_type": "code",
   "execution_count": 18,
   "id": "61d2054a",
   "metadata": {
    "collapsed": true
   },
   "outputs": [
    {
     "data": {
      "text/html": [
       "<div>\n",
       "<style scoped>\n",
       "    .dataframe tbody tr th:only-of-type {\n",
       "        vertical-align: middle;\n",
       "    }\n",
       "\n",
       "    .dataframe tbody tr th {\n",
       "        vertical-align: top;\n",
       "    }\n",
       "\n",
       "    .dataframe thead th {\n",
       "        text-align: right;\n",
       "    }\n",
       "</style>\n",
       "<table border=\"1\" class=\"dataframe\">\n",
       "  <thead>\n",
       "    <tr style=\"text-align: right;\">\n",
       "      <th></th>\n",
       "      <th>rnum</th>\n",
       "      <th>rank</th>\n",
       "      <th>rankInten</th>\n",
       "      <th>rankOldAndNew</th>\n",
       "      <th>movieCd</th>\n",
       "      <th>movieNm</th>\n",
       "      <th>openDt</th>\n",
       "      <th>salesAmt</th>\n",
       "      <th>salesShare</th>\n",
       "      <th>salesInten</th>\n",
       "      <th>salesChange</th>\n",
       "      <th>salesAcc</th>\n",
       "      <th>audiCnt</th>\n",
       "      <th>audiInten</th>\n",
       "      <th>audiChange</th>\n",
       "      <th>audiAcc</th>\n",
       "      <th>scrnCnt</th>\n",
       "      <th>showCnt</th>\n",
       "    </tr>\n",
       "  </thead>\n",
       "  <tbody>\n",
       "    <tr>\n",
       "      <th>0</th>\n",
       "      <td>1</td>\n",
       "      <td>1</td>\n",
       "      <td>0</td>\n",
       "      <td>OLD</td>\n",
       "      <td>20209343</td>\n",
       "      <td>한산: 용의 출현</td>\n",
       "      <td>2022-07-27</td>\n",
       "      <td>3418297205</td>\n",
       "      <td>56.5</td>\n",
       "      <td>-445775729</td>\n",
       "      <td>-11.5</td>\n",
       "      <td>30676698831</td>\n",
       "      <td>340707</td>\n",
       "      <td>-45277</td>\n",
       "      <td>-11.7</td>\n",
       "      <td>2996787</td>\n",
       "      <td>2030</td>\n",
       "      <td>9659</td>\n",
       "    </tr>\n",
       "    <tr>\n",
       "      <th>1</th>\n",
       "      <td>2</td>\n",
       "      <td>2</td>\n",
       "      <td>0</td>\n",
       "      <td>OLD</td>\n",
       "      <td>20205362</td>\n",
       "      <td>미니언즈2</td>\n",
       "      <td>2022-07-20</td>\n",
       "      <td>843554512</td>\n",
       "      <td>13.9</td>\n",
       "      <td>-60441616</td>\n",
       "      <td>-6.7</td>\n",
       "      <td>16439366347</td>\n",
       "      <td>90863</td>\n",
       "      <td>-6344</td>\n",
       "      <td>-6.5</td>\n",
       "      <td>1693084</td>\n",
       "      <td>945</td>\n",
       "      <td>2837</td>\n",
       "    </tr>\n",
       "    <tr>\n",
       "      <th>2</th>\n",
       "      <td>3</td>\n",
       "      <td>3</td>\n",
       "      <td>0</td>\n",
       "      <td>OLD</td>\n",
       "      <td>20194376</td>\n",
       "      <td>탑건: 매버릭</td>\n",
       "      <td>2022-06-22</td>\n",
       "      <td>678742098</td>\n",
       "      <td>11.2</td>\n",
       "      <td>-52334711</td>\n",
       "      <td>-7.2</td>\n",
       "      <td>76662106293</td>\n",
       "      <td>66650</td>\n",
       "      <td>-4841</td>\n",
       "      <td>-6.8</td>\n",
       "      <td>7187516</td>\n",
       "      <td>802</td>\n",
       "      <td>2072</td>\n",
       "    </tr>\n",
       "    <tr>\n",
       "      <th>3</th>\n",
       "      <td>4</td>\n",
       "      <td>4</td>\n",
       "      <td>0</td>\n",
       "      <td>OLD</td>\n",
       "      <td>20225190</td>\n",
       "      <td>뽀로로 극장판 드래곤캐슬 대모험</td>\n",
       "      <td>2022-07-28</td>\n",
       "      <td>351444239</td>\n",
       "      <td>5.8</td>\n",
       "      <td>-19020699</td>\n",
       "      <td>-5.1</td>\n",
       "      <td>2356729812</td>\n",
       "      <td>38807</td>\n",
       "      <td>-1971</td>\n",
       "      <td>-4.8</td>\n",
       "      <td>251109</td>\n",
       "      <td>677</td>\n",
       "      <td>1440</td>\n",
       "    </tr>\n",
       "    <tr>\n",
       "      <th>4</th>\n",
       "      <td>5</td>\n",
       "      <td>5</td>\n",
       "      <td>0</td>\n",
       "      <td>OLD</td>\n",
       "      <td>20208446</td>\n",
       "      <td>외계+인 1부</td>\n",
       "      <td>2022-07-20</td>\n",
       "      <td>363649895</td>\n",
       "      <td>6.0</td>\n",
       "      <td>-40994799</td>\n",
       "      <td>-10.1</td>\n",
       "      <td>14968915621</td>\n",
       "      <td>36506</td>\n",
       "      <td>-3867</td>\n",
       "      <td>-9.6</td>\n",
       "      <td>1434570</td>\n",
       "      <td>712</td>\n",
       "      <td>1804</td>\n",
       "    </tr>\n",
       "    <tr>\n",
       "      <th>5</th>\n",
       "      <td>6</td>\n",
       "      <td>6</td>\n",
       "      <td>0</td>\n",
       "      <td>OLD</td>\n",
       "      <td>20209654</td>\n",
       "      <td>헤어질 결심</td>\n",
       "      <td>2022-06-29</td>\n",
       "      <td>190209473</td>\n",
       "      <td>3.1</td>\n",
       "      <td>-155223</td>\n",
       "      <td>-0.1</td>\n",
       "      <td>17660574672</td>\n",
       "      <td>18263</td>\n",
       "      <td>43</td>\n",
       "      <td>0.2</td>\n",
       "      <td>1708584</td>\n",
       "      <td>412</td>\n",
       "      <td>752</td>\n",
       "    </tr>\n",
       "    <tr>\n",
       "      <th>6</th>\n",
       "      <td>7</td>\n",
       "      <td>7</td>\n",
       "      <td>0</td>\n",
       "      <td>OLD</td>\n",
       "      <td>20225237</td>\n",
       "      <td>명탐정 코난: 할로윈의 신부</td>\n",
       "      <td>2022-07-13</td>\n",
       "      <td>81394059</td>\n",
       "      <td>1.3</td>\n",
       "      <td>5183642</td>\n",
       "      <td>6.8</td>\n",
       "      <td>4434875457</td>\n",
       "      <td>8088</td>\n",
       "      <td>617</td>\n",
       "      <td>8.3</td>\n",
       "      <td>427204</td>\n",
       "      <td>185</td>\n",
       "      <td>271</td>\n",
       "    </tr>\n",
       "    <tr>\n",
       "      <th>7</th>\n",
       "      <td>8</td>\n",
       "      <td>8</td>\n",
       "      <td>1</td>\n",
       "      <td>OLD</td>\n",
       "      <td>20211792</td>\n",
       "      <td>헌트</td>\n",
       "      <td>2022-08-10</td>\n",
       "      <td>29720000</td>\n",
       "      <td>0.5</td>\n",
       "      <td>-6703000</td>\n",
       "      <td>-18.4</td>\n",
       "      <td>93969000</td>\n",
       "      <td>4280</td>\n",
       "      <td>233</td>\n",
       "      <td>5.8</td>\n",
       "      <td>10688</td>\n",
       "      <td>17</td>\n",
       "      <td>17</td>\n",
       "    </tr>\n",
       "    <tr>\n",
       "      <th>8</th>\n",
       "      <td>9</td>\n",
       "      <td>9</td>\n",
       "      <td>-1</td>\n",
       "      <td>OLD</td>\n",
       "      <td>20196410</td>\n",
       "      <td>비상선언</td>\n",
       "      <td>2022-08-03</td>\n",
       "      <td>26522000</td>\n",
       "      <td>0.4</td>\n",
       "      <td>-46635300</td>\n",
       "      <td>-63.7</td>\n",
       "      <td>247169216</td>\n",
       "      <td>1681</td>\n",
       "      <td>-3204</td>\n",
       "      <td>-65.6</td>\n",
       "      <td>22329</td>\n",
       "      <td>5</td>\n",
       "      <td>7</td>\n",
       "    </tr>\n",
       "    <tr>\n",
       "      <th>9</th>\n",
       "      <td>10</td>\n",
       "      <td>10</td>\n",
       "      <td>0</td>\n",
       "      <td>OLD</td>\n",
       "      <td>20224662</td>\n",
       "      <td>토르: 러브 앤 썬더</td>\n",
       "      <td>2022-07-06</td>\n",
       "      <td>12040299</td>\n",
       "      <td>0.2</td>\n",
       "      <td>-151561</td>\n",
       "      <td>-1.2</td>\n",
       "      <td>29461697403</td>\n",
       "      <td>1082</td>\n",
       "      <td>1</td>\n",
       "      <td>0.1</td>\n",
       "      <td>2711863</td>\n",
       "      <td>38</td>\n",
       "      <td>51</td>\n",
       "    </tr>\n",
       "  </tbody>\n",
       "</table>\n",
       "</div>"
      ],
      "text/plain": [
       "  rnum rank rankInten rankOldAndNew   movieCd            movieNm      openDt  \\\n",
       "0    1    1         0           OLD  20209343          한산: 용의 출현  2022-07-27   \n",
       "1    2    2         0           OLD  20205362              미니언즈2  2022-07-20   \n",
       "2    3    3         0           OLD  20194376            탑건: 매버릭  2022-06-22   \n",
       "3    4    4         0           OLD  20225190  뽀로로 극장판 드래곤캐슬 대모험  2022-07-28   \n",
       "4    5    5         0           OLD  20208446            외계+인 1부  2022-07-20   \n",
       "5    6    6         0           OLD  20209654             헤어질 결심  2022-06-29   \n",
       "6    7    7         0           OLD  20225237    명탐정 코난: 할로윈의 신부  2022-07-13   \n",
       "7    8    8         1           OLD  20211792                 헌트  2022-08-10   \n",
       "8    9    9        -1           OLD  20196410               비상선언  2022-08-03   \n",
       "9   10   10         0           OLD  20224662        토르: 러브 앤 썬더  2022-07-06   \n",
       "\n",
       "     salesAmt salesShare  salesInten salesChange     salesAcc audiCnt  \\\n",
       "0  3418297205       56.5  -445775729       -11.5  30676698831  340707   \n",
       "1   843554512       13.9   -60441616        -6.7  16439366347   90863   \n",
       "2   678742098       11.2   -52334711        -7.2  76662106293   66650   \n",
       "3   351444239        5.8   -19020699        -5.1   2356729812   38807   \n",
       "4   363649895        6.0   -40994799       -10.1  14968915621   36506   \n",
       "5   190209473        3.1     -155223        -0.1  17660574672   18263   \n",
       "6    81394059        1.3     5183642         6.8   4434875457    8088   \n",
       "7    29720000        0.5    -6703000       -18.4     93969000    4280   \n",
       "8    26522000        0.4   -46635300       -63.7    247169216    1681   \n",
       "9    12040299        0.2     -151561        -1.2  29461697403    1082   \n",
       "\n",
       "  audiInten audiChange  audiAcc scrnCnt showCnt  \n",
       "0    -45277      -11.7  2996787    2030    9659  \n",
       "1     -6344       -6.5  1693084     945    2837  \n",
       "2     -4841       -6.8  7187516     802    2072  \n",
       "3     -1971       -4.8   251109     677    1440  \n",
       "4     -3867       -9.6  1434570     712    1804  \n",
       "5        43        0.2  1708584     412     752  \n",
       "6       617        8.3   427204     185     271  \n",
       "7       233        5.8    10688      17      17  \n",
       "8     -3204      -65.6    22329       5       7  \n",
       "9         1        0.1  2711863      38      51  "
      ]
     },
     "execution_count": 18,
     "metadata": {},
     "output_type": "execute_result"
    }
   ],
   "source": [
    "# boxOfficeResult.dailyBoxOfficeList 컬럼 내부에 딕셔너리가 여럿 묶인 리스트가 보이므로\n",
    "# boxOfficeResult.dailyBoxOfficeList 컬럼을 타겟으로 데이터프레임화 합니다.\n",
    "pd.json_normalize(json_complete['boxOfficeResult']['dailyBoxOfficeList'])"
   ]
  },
  {
   "cell_type": "code",
   "execution_count": 19,
   "id": "027b1531",
   "metadata": {},
   "outputs": [
    {
     "data": {
      "text/plain": [
       "boxOfficeResult    [{'rnum': '1', 'rank': '1', 'rankInten': '0', ...\n",
       "Name: dailyBoxOfficeList, dtype: object"
      ]
     },
     "execution_count": 19,
     "metadata": {},
     "output_type": "execute_result"
    }
   ],
   "source": [
    "# json_normalize()는 pd.DataFrame()으로 대체 가능합니다.\n",
    "pd.DataFrame(json_complete).loc['dailyBoxOfficeList']"
   ]
  },
  {
   "cell_type": "code",
   "execution_count": null,
   "id": "48ffda3c",
   "metadata": {},
   "outputs": [],
   "source": []
  },
  {
   "cell_type": "code",
   "execution_count": null,
   "id": "0fab353b",
   "metadata": {},
   "outputs": [],
   "source": []
  },
  {
   "cell_type": "code",
   "execution_count": null,
   "id": "39fe36fd",
   "metadata": {},
   "outputs": [],
   "source": []
  },
  {
   "cell_type": "code",
   "execution_count": null,
   "id": "98e06a8e",
   "metadata": {},
   "outputs": [],
   "source": []
  }
 ],
 "metadata": {
  "kernelspec": {
   "display_name": "Python 3 (ipykernel)",
   "language": "python",
   "name": "python3"
  },
  "language_info": {
   "codemirror_mode": {
    "name": "ipython",
    "version": 3
   },
   "file_extension": ".py",
   "mimetype": "text/x-python",
   "name": "python",
   "nbconvert_exporter": "python",
   "pygments_lexer": "ipython3",
   "version": "3.9.12"
  }
 },
 "nbformat": 4,
 "nbformat_minor": 5
}
