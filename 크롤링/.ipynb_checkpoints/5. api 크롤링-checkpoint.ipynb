{
 "cells": [
  {
   "cell_type": "markdown",
   "id": "dcdaad3e",
   "metadata": {},
   "source": [
    "# 영진위 api 크롤링\n",
    "\n",
    "http://kobis.or.kr/kobisopenapi/webservice/rest/boxoffice/searchDailyBoxOfficeList.json?key=f5eef3421c602c6cb7ea224104795888&targetDt=20120101\n",
    "<br>\n",
    "위 주소를 보면 파라미터로<br>\n",
    "key와 targetDt가 있는걸 볼 수 있습니다.<br>\n",
    "<br>\n",
    "<br>\n",
    "여기서 key는 회원가입을 하면 발급해주는 개인 식별용 키입니다.<br>\n",
    "키를 발급해주는 이유는 일일 요청 횟수를 제한해서 서버 메모리를 절약하기 위함입니다.<br>\n",
    "<br><br>\n",
    "targetDt는 타겟 날짜로, 현재 이 api 요청 주소는 일일 박스오피스입니다.\n",
    "\n",
    "<br>\n",
    "<br>\n",
    "api 서버 접근시 파이썬에서는 보통 urllib.request를 활용합니다."
   ]
  },
  {
   "cell_type": "code",
   "execution_count": 1,
   "id": "ab78e75f",
   "metadata": {},
   "outputs": [],
   "source": [
    "# 사이트에 자료 요청용 라이브러리 임포트\n",
    "import urllib.request\n",
    "# json 데이터 핸들링용\n",
    "import json\n",
    "import xml"
   ]
  },
  {
   "cell_type": "code",
   "execution_count": 3,
   "id": "2a3885d4",
   "metadata": {},
   "outputs": [
    {
     "name": "stdout",
     "output_type": "stream",
     "text": [
      "https://kobis.or.kr/kobisopenapi/webservice/rest/boxoffice/searchDailyBoxOfficeList.json?key=5c6ac9b9844cd60b13a5ea12c2eede98&targetDt=20200101\n"
     ]
    }
   ],
   "source": [
    "# 요청 주소와 파라미터는 다 분리해서 포매팅형식으로 관리하면 효율적입니다.\n",
    "key = \"5c6ac9b9844cd60b13a5ea12c2eede98\"\n",
    "target_dt = \"20200101\"\n",
    "request_url = \"https://kobis.or.kr/kobisopenapi/webservice/rest/\\\n",
    "boxoffice/searchDailyBoxOfficeList.json?key=%s&targetDt=%s\" %(key, target_dt)\n",
    "print(request_url)"
   ]
  },
  {
   "cell_type": "code",
   "execution_count": 5,
   "id": "259143f5",
   "metadata": {},
   "outputs": [],
   "source": [
    "# 위의 세팅된 주소로 요청을 넣어보겠습니다\n",
    "result = urllib.request.urlopen(request_url)"
   ]
  },
  {
   "cell_type": "code",
   "execution_count": 8,
   "id": "9591b5a6",
   "metadata": {},
   "outputs": [],
   "source": [
    "# 얻어진 데이터의 json만 뽑기 위해 .read()를 사용합니다.\n",
    "json_raw = result.read()"
   ]
  },
  {
   "cell_type": "code",
   "execution_count": 9,
   "id": "7e07b47e",
   "metadata": {},
   "outputs": [
    {
     "name": "stdout",
     "output_type": "stream",
     "text": [
      "<class 'bytes'>\n"
     ]
    }
   ],
   "source": [
    "# byte 자료형임을 확인\n",
    "print(type(json_raw))"
   ]
  },
  {
   "cell_type": "code",
   "execution_count": 11,
   "id": "51998a03",
   "metadata": {},
   "outputs": [
    {
     "data": {
      "text/plain": [
       "b'{\"boxOfficeResult\":{\"boxofficeType\":\"\\xec\\x9d\\xbc\\xeb\\xb3\\x84 \\xeb\\xb0\\x95\\xec\\x8a\\xa4\\xec\\x98\\xa4\\xed\\x94\\xbc\\xec\\x8a\\xa4\",\"showRange\":\"20200101~20200101\",\"dailyBoxOfficeList\":[{\"rnum\":\"1\",\"rank\":\"1\",\"rankInten\":\"0\",\"rankOldAndNew\":\"OLD\",\"movieCd\":\"20192206\",\"movieNm\":\"\\xeb\\xb0\\xb1\\xeb\\x91\\x90\\xec\\x82\\xb0\",\"openDt\":\"2019-12-19\",\"salesAmt\":\"4430968920\",\"salesShare\":\"37.3\",\"salesInten\":\"1900868950\",\"salesChange\":\"75.1\",\"salesAcc\":\"57336758690\",\"audiCnt\":\"498802\",\"audiInten\":\"182608\",\"audiChange\":\"57.8\",\"audiAcc\":\"6789304\",\"scrnCnt\":\"1236\",\"showCnt\":\"5845\"},{\"rnum\":\"2\",\"rank\":\"2\",\"rankInten\":\"0\",\"rankOldAndNew\":\"OLD\",\"movieCd\":\"20184571\",\"movieNm\":\"\\xec\\xb2\\x9c\\xeb\\xac\\xb8: \\xed\\x95\\x98\\xeb\\x8a\\x98\\xec\\x97\\x90 \\xeb\\xac\\xbb\\xeb\\x8a\\x94\\xeb\\x8b\\xa4\",\"openDt\":\"2019-12-26\",\"salesAmt\":\"2092505020\",\"salesShare\":\"17.6\",\"salesInten\":\"916870400\",\"salesChange\":\"78\",\"salesAcc\":\"9900747970\",\"audiCnt\":\"239149\",\"audiInten\":\"89345\",\"audiChange\":\"59.6\",\"audiAcc\":\"1204773\",\"scrnCnt\":\"929\",\"showCnt\":\"3439\"},{\"rnum\":\"3\",\"rank\":\"3\",\"rankInten\":\"0\",\"rankOldAndNew\":\"OLD\",\"movieCd\":\"20198414\",\"movieNm\":\"\\xec\\x8b\\x9c\\xeb\\x8f\\x99\",\"openDt\":\"2019-12-18\",\"salesAmt\":\"1691272350\",\"salesShare\":\"14.3\",\"salesInten\":\"589055650\",\"salesChange\":\"53.4\",\"salesAcc\":\"22927750150\",\"audiCnt\":\"190455\",\"audiInten\":\"54187\",\"audiChange\":\"39.8\",\"audiAcc\":\"2716441\",\"scrnCnt\":\"801\",\"showCnt\":\"2997\"},{\"rnum\":\"4\",\"rank\":\"4\",\"rankInten\":\"0\",\"rankOldAndNew\":\"OLD\",\"movieCd\":\"20196272\",\"movieNm\":\"\\xeb\\xaf\\xb8\\xeb\\x93\\x9c\\xec\\x9b\\xa8\\xec\\x9d\\xb4\",\"openDt\":\"2019-12-31\",\"salesAmt\":\"1561075860\",\"salesShare\":\"13.2\",\"salesInten\":\"489446340\",\"salesChange\":\"45.7\",\"salesAcc\":\"2646735380\",\"audiCnt\":\"174407\",\"audiInten\":\"42527\",\"audiChange\":\"32.2\",\"audiAcc\":\"307780\",\"scrnCnt\":\"810\",\"showCnt\":\"2614\"},{\"rnum\":\"5\",\"rank\":\"5\",\"rankInten\":\"0\",\"rankOldAndNew\":\"OLD\",\"movieCd\":\"20197803\",\"movieNm\":\"\\xea\\xb2\\xa8\\xec\\x9a\\xb8\\xec\\x99\\x95\\xea\\xb5\\xad 2\",\"openDt\":\"2019-11-21\",\"salesAmt\":\"727968600\",\"salesShare\":\"6.1\",\"salesInten\":\"288393600\",\"salesChange\":\"65.6\",\"salesAcc\":\"112324217320\",\"audiCnt\":\"83529\",\"audiInten\":\"28067\",\"audiChange\":\"50.6\",\"audiAcc\":\"13452593\",\"scrnCnt\":\"665\",\"showCnt\":\"1459\"},{\"rnum\":\"6\",\"rank\":\"6\",\"rankInten\":\"0\",\"rankOldAndNew\":\"OLD\",\"movieCd\":\"20198374\",\"movieNm\":\"\\xec\\x8b\\xa0\\xeb\\xb9\\x84\\xec\\x95\\x84\\xed\\x8c\\x8c\\xed\\x8a\\xb8 \\xea\\xb7\\xb9\\xec\\x9e\\xa5\\xed\\x8c\\x90 \\xed\\x95\\x98\\xeb\\x8a\\x98\\xeb\\x8f\\x84\\xea\\xb9\\xa8\\xeb\\xb9\\x84 \\xeb\\x8c\\x80 \\xec\\x9a\\x94\\xeb\\xa5\\xb4\\xeb\\xac\\xb8\\xea\\xb0\\x84\\xeb\\x93\\x9c\",\"openDt\":\"2019-12-19\",\"salesAmt\":\"373173440\",\"salesShare\":\"3.1\",\"salesInten\":\"179186900\",\"salesChange\":\"92.4\",\"salesAcc\":\"5673115880\",\"audiCnt\":\"46436\",\"audiInten\":\"19963\",\"audiChange\":\"75.4\",\"audiAcc\":\"718558\",\"scrnCnt\":\"539\",\"showCnt\":\"900\"},{\"rnum\":\"7\",\"rank\":\"7\",\"rankInten\":\"0\",\"rankOldAndNew\":\"OLD\",\"movieCd\":\"20192401\",\"movieNm\":\"\\xed\\x8f\\xac\\xeb\\x93\\x9c V \\xed\\x8e\\x98\\xeb\\x9d\\xbc\\xeb\\xa6\\xac\",\"openDt\":\"2019-12-04\",\"salesAmt\":\"231285920\",\"salesShare\":\"1.9\",\"salesInten\":\"76080380\",\"salesChange\":\"49\",\"salesAcc\":\"10843299600\",\"audiCnt\":\"24650\",\"audiInten\":\"6100\",\"audiChange\":\"32.9\",\"audiAcc\":\"1233057\",\"scrnCnt\":\"195\",\"showCnt\":\"378\"},{\"rnum\":\"8\",\"rank\":\"8\",\"rankInten\":\"0\",\"rankOldAndNew\":\"NEW\",\"movieCd\":\"20191408\",\"movieNm\":\"21 \\xeb\\xb8\\x8c\\xeb\\xa6\\xbf\\xec\\xa7\\x80: \\xed\\x85\\x8c\\xeb\\x9f\\xac \\xec\\x85\\xa7\\xeb\\x8b\\xa4\\xec\\x9a\\xb4 \",\"openDt\":\"2020-01-01\",\"salesAmt\":\"212853200\",\"salesShare\":\"1.8\",\"salesInten\":\"212853200\",\"salesChange\":\"100\",\"salesAcc\":\"214514200\",\"audiCnt\":\"23488\",\"audiInten\":\"23488\",\"audiChange\":\"100\",\"audiAcc\":\"23639\",\"scrnCnt\":\"228\",\"showCnt\":\"860\"},{\"rnum\":\"9\",\"rank\":\"9\",\"rankInten\":\"-1\",\"rankOldAndNew\":\"OLD\",\"movieCd\":\"20198430\",\"movieNm\":\"\\xeb\\x82\\x98\\xec\\x9d\\xb4\\xeb\\xb8\\x8c\\xec\\x8a\\xa4 \\xec\\x95\\x84\\xec\\x9b\\x83\",\"openDt\":\"2019-12-04\",\"salesAmt\":\"134675900\",\"salesShare\":\"1.1\",\"salesInten\":\"17281300\",\"salesChange\":\"14.7\",\"salesAcc\":\"5783536110\",\"audiCnt\":\"14532\",\"audiInten\":\"393\",\"audiChange\":\"2.8\",\"audiAcc\":\"681943\",\"scrnCnt\":\"144\",\"showCnt\":\"272\"},{\"rnum\":\"10\",\"rank\":\"10\",\"rankInten\":\"-1\",\"rankOldAndNew\":\"OLD\",\"movieCd\":\"20199981\",\"movieNm\":\"\\xeb\\x88\\x88\\xec\\x9d\\x98 \\xec\\x97\\xac\\xec\\x99\\x954\",\"openDt\":\"2019-12-24\",\"salesAmt\":\"117990360\",\"salesShare\":\"1.0\",\"salesInten\":\"39093300\",\"salesChange\":\"49.5\",\"salesAcc\":\"1162565320\",\"audiCnt\":\"14465\",\"audiInten\":\"1066\",\"audiChange\":\"8\",\"audiAcc\":\"158318\",\"scrnCnt\":\"271\",\"showCnt\":\"321\"}]}}'"
      ]
     },
     "execution_count": 11,
     "metadata": {},
     "output_type": "execute_result"
    }
   ],
   "source": [
    "json_raw"
   ]
  },
  {
   "cell_type": "code",
   "execution_count": 12,
   "id": "c25c9459",
   "metadata": {},
   "outputs": [],
   "source": [
    "# 형식을 한글을 쓸 수 있는 utf-8형식으로 고쳐야 합니다. 변형 -> encode(), 복원 decode()\n",
    "# encode => 우리가 쓰는 문자를 컴퓨터가 쓰는 형태로 변환\n",
    "# decode => 컴퓨터가 쓰는 문자를 우리가 쓰는 형태로 변환\n",
    "json_utf8 = json_raw.decode(\"utf-8\")"
   ]
  },
  {
   "cell_type": "code",
   "execution_count": 14,
   "id": "854dc74f",
   "metadata": {},
   "outputs": [
    {
     "data": {
      "text/plain": [
       "'{\"boxOfficeResult\":{\"boxofficeType\":\"일별 박스오피스\",\"showRange\":\"20200101~20200101\",\"dailyBoxOfficeList\":[{\"rnum\":\"1\",\"rank\":\"1\",\"rankInten\":\"0\",\"rankOldAndNew\":\"OLD\",\"movieCd\":\"20192206\",\"movieNm\":\"백두산\",\"openDt\":\"2019-12-19\",\"salesAmt\":\"4430968920\",\"salesShare\":\"37.3\",\"salesInten\":\"1900868950\",\"salesChange\":\"75.1\",\"salesAcc\":\"57336758690\",\"audiCnt\":\"498802\",\"audiInten\":\"182608\",\"audiChange\":\"57.8\",\"audiAcc\":\"6789304\",\"scrnCnt\":\"1236\",\"showCnt\":\"5845\"},{\"rnum\":\"2\",\"rank\":\"2\",\"rankInten\":\"0\",\"rankOldAndNew\":\"OLD\",\"movieCd\":\"20184571\",\"movieNm\":\"천문: 하늘에 묻는다\",\"openDt\":\"2019-12-26\",\"salesAmt\":\"2092505020\",\"salesShare\":\"17.6\",\"salesInten\":\"916870400\",\"salesChange\":\"78\",\"salesAcc\":\"9900747970\",\"audiCnt\":\"239149\",\"audiInten\":\"89345\",\"audiChange\":\"59.6\",\"audiAcc\":\"1204773\",\"scrnCnt\":\"929\",\"showCnt\":\"3439\"},{\"rnum\":\"3\",\"rank\":\"3\",\"rankInten\":\"0\",\"rankOldAndNew\":\"OLD\",\"movieCd\":\"20198414\",\"movieNm\":\"시동\",\"openDt\":\"2019-12-18\",\"salesAmt\":\"1691272350\",\"salesShare\":\"14.3\",\"salesInten\":\"589055650\",\"salesChange\":\"53.4\",\"salesAcc\":\"22927750150\",\"audiCnt\":\"190455\",\"audiInten\":\"54187\",\"audiChange\":\"39.8\",\"audiAcc\":\"2716441\",\"scrnCnt\":\"801\",\"showCnt\":\"2997\"},{\"rnum\":\"4\",\"rank\":\"4\",\"rankInten\":\"0\",\"rankOldAndNew\":\"OLD\",\"movieCd\":\"20196272\",\"movieNm\":\"미드웨이\",\"openDt\":\"2019-12-31\",\"salesAmt\":\"1561075860\",\"salesShare\":\"13.2\",\"salesInten\":\"489446340\",\"salesChange\":\"45.7\",\"salesAcc\":\"2646735380\",\"audiCnt\":\"174407\",\"audiInten\":\"42527\",\"audiChange\":\"32.2\",\"audiAcc\":\"307780\",\"scrnCnt\":\"810\",\"showCnt\":\"2614\"},{\"rnum\":\"5\",\"rank\":\"5\",\"rankInten\":\"0\",\"rankOldAndNew\":\"OLD\",\"movieCd\":\"20197803\",\"movieNm\":\"겨울왕국 2\",\"openDt\":\"2019-11-21\",\"salesAmt\":\"727968600\",\"salesShare\":\"6.1\",\"salesInten\":\"288393600\",\"salesChange\":\"65.6\",\"salesAcc\":\"112324217320\",\"audiCnt\":\"83529\",\"audiInten\":\"28067\",\"audiChange\":\"50.6\",\"audiAcc\":\"13452593\",\"scrnCnt\":\"665\",\"showCnt\":\"1459\"},{\"rnum\":\"6\",\"rank\":\"6\",\"rankInten\":\"0\",\"rankOldAndNew\":\"OLD\",\"movieCd\":\"20198374\",\"movieNm\":\"신비아파트 극장판 하늘도깨비 대 요르문간드\",\"openDt\":\"2019-12-19\",\"salesAmt\":\"373173440\",\"salesShare\":\"3.1\",\"salesInten\":\"179186900\",\"salesChange\":\"92.4\",\"salesAcc\":\"5673115880\",\"audiCnt\":\"46436\",\"audiInten\":\"19963\",\"audiChange\":\"75.4\",\"audiAcc\":\"718558\",\"scrnCnt\":\"539\",\"showCnt\":\"900\"},{\"rnum\":\"7\",\"rank\":\"7\",\"rankInten\":\"0\",\"rankOldAndNew\":\"OLD\",\"movieCd\":\"20192401\",\"movieNm\":\"포드 V 페라리\",\"openDt\":\"2019-12-04\",\"salesAmt\":\"231285920\",\"salesShare\":\"1.9\",\"salesInten\":\"76080380\",\"salesChange\":\"49\",\"salesAcc\":\"10843299600\",\"audiCnt\":\"24650\",\"audiInten\":\"6100\",\"audiChange\":\"32.9\",\"audiAcc\":\"1233057\",\"scrnCnt\":\"195\",\"showCnt\":\"378\"},{\"rnum\":\"8\",\"rank\":\"8\",\"rankInten\":\"0\",\"rankOldAndNew\":\"NEW\",\"movieCd\":\"20191408\",\"movieNm\":\"21 브릿지: 테러 셧다운 \",\"openDt\":\"2020-01-01\",\"salesAmt\":\"212853200\",\"salesShare\":\"1.8\",\"salesInten\":\"212853200\",\"salesChange\":\"100\",\"salesAcc\":\"214514200\",\"audiCnt\":\"23488\",\"audiInten\":\"23488\",\"audiChange\":\"100\",\"audiAcc\":\"23639\",\"scrnCnt\":\"228\",\"showCnt\":\"860\"},{\"rnum\":\"9\",\"rank\":\"9\",\"rankInten\":\"-1\",\"rankOldAndNew\":\"OLD\",\"movieCd\":\"20198430\",\"movieNm\":\"나이브스 아웃\",\"openDt\":\"2019-12-04\",\"salesAmt\":\"134675900\",\"salesShare\":\"1.1\",\"salesInten\":\"17281300\",\"salesChange\":\"14.7\",\"salesAcc\":\"5783536110\",\"audiCnt\":\"14532\",\"audiInten\":\"393\",\"audiChange\":\"2.8\",\"audiAcc\":\"681943\",\"scrnCnt\":\"144\",\"showCnt\":\"272\"},{\"rnum\":\"10\",\"rank\":\"10\",\"rankInten\":\"-1\",\"rankOldAndNew\":\"OLD\",\"movieCd\":\"20199981\",\"movieNm\":\"눈의 여왕4\",\"openDt\":\"2019-12-24\",\"salesAmt\":\"117990360\",\"salesShare\":\"1.0\",\"salesInten\":\"39093300\",\"salesChange\":\"49.5\",\"salesAcc\":\"1162565320\",\"audiCnt\":\"14465\",\"audiInten\":\"1066\",\"audiChange\":\"8\",\"audiAcc\":\"158318\",\"scrnCnt\":\"271\",\"showCnt\":\"321\"}]}}'"
      ]
     },
     "execution_count": 14,
     "metadata": {},
     "output_type": "execute_result"
    }
   ],
   "source": [
    "json_utf8"
   ]
  },
  {
   "cell_type": "code",
   "execution_count": 15,
   "id": "3f41175d",
   "metadata": {},
   "outputs": [
    {
     "data": {
      "text/plain": [
       "str"
      ]
     },
     "execution_count": 15,
     "metadata": {},
     "output_type": "execute_result"
    }
   ],
   "source": [
    "type(json_utf8)"
   ]
  },
  {
   "cell_type": "code",
   "execution_count": 18,
   "id": "ffe10c7b",
   "metadata": {},
   "outputs": [],
   "source": [
    "# json.loads(딕셔너리 형태의 문자열)\n",
    "# json(딕셔너리) 형태로 적힌 문자열 자료를 딕셔너리로 변환\n",
    "json_python = json.loads(json_utf8)"
   ]
  },
  {
   "cell_type": "code",
   "execution_count": 27,
   "id": "9aba9da3",
   "metadata": {
    "collapsed": true
   },
   "outputs": [
    {
     "data": {
      "text/plain": [
       "[{'rnum': '1',\n",
       "  'rank': '1',\n",
       "  'rankInten': '0',\n",
       "  'rankOldAndNew': 'OLD',\n",
       "  'movieCd': '20192206',\n",
       "  'movieNm': '백두산',\n",
       "  'openDt': '2019-12-19',\n",
       "  'salesAmt': '4430968920',\n",
       "  'salesShare': '37.3',\n",
       "  'salesInten': '1900868950',\n",
       "  'salesChange': '75.1',\n",
       "  'salesAcc': '57336758690',\n",
       "  'audiCnt': '498802',\n",
       "  'audiInten': '182608',\n",
       "  'audiChange': '57.8',\n",
       "  'audiAcc': '6789304',\n",
       "  'scrnCnt': '1236',\n",
       "  'showCnt': '5845'},\n",
       " {'rnum': '2',\n",
       "  'rank': '2',\n",
       "  'rankInten': '0',\n",
       "  'rankOldAndNew': 'OLD',\n",
       "  'movieCd': '20184571',\n",
       "  'movieNm': '천문: 하늘에 묻는다',\n",
       "  'openDt': '2019-12-26',\n",
       "  'salesAmt': '2092505020',\n",
       "  'salesShare': '17.6',\n",
       "  'salesInten': '916870400',\n",
       "  'salesChange': '78',\n",
       "  'salesAcc': '9900747970',\n",
       "  'audiCnt': '239149',\n",
       "  'audiInten': '89345',\n",
       "  'audiChange': '59.6',\n",
       "  'audiAcc': '1204773',\n",
       "  'scrnCnt': '929',\n",
       "  'showCnt': '3439'},\n",
       " {'rnum': '3',\n",
       "  'rank': '3',\n",
       "  'rankInten': '0',\n",
       "  'rankOldAndNew': 'OLD',\n",
       "  'movieCd': '20198414',\n",
       "  'movieNm': '시동',\n",
       "  'openDt': '2019-12-18',\n",
       "  'salesAmt': '1691272350',\n",
       "  'salesShare': '14.3',\n",
       "  'salesInten': '589055650',\n",
       "  'salesChange': '53.4',\n",
       "  'salesAcc': '22927750150',\n",
       "  'audiCnt': '190455',\n",
       "  'audiInten': '54187',\n",
       "  'audiChange': '39.8',\n",
       "  'audiAcc': '2716441',\n",
       "  'scrnCnt': '801',\n",
       "  'showCnt': '2997'},\n",
       " {'rnum': '4',\n",
       "  'rank': '4',\n",
       "  'rankInten': '0',\n",
       "  'rankOldAndNew': 'OLD',\n",
       "  'movieCd': '20196272',\n",
       "  'movieNm': '미드웨이',\n",
       "  'openDt': '2019-12-31',\n",
       "  'salesAmt': '1561075860',\n",
       "  'salesShare': '13.2',\n",
       "  'salesInten': '489446340',\n",
       "  'salesChange': '45.7',\n",
       "  'salesAcc': '2646735380',\n",
       "  'audiCnt': '174407',\n",
       "  'audiInten': '42527',\n",
       "  'audiChange': '32.2',\n",
       "  'audiAcc': '307780',\n",
       "  'scrnCnt': '810',\n",
       "  'showCnt': '2614'},\n",
       " {'rnum': '5',\n",
       "  'rank': '5',\n",
       "  'rankInten': '0',\n",
       "  'rankOldAndNew': 'OLD',\n",
       "  'movieCd': '20197803',\n",
       "  'movieNm': '겨울왕국 2',\n",
       "  'openDt': '2019-11-21',\n",
       "  'salesAmt': '727968600',\n",
       "  'salesShare': '6.1',\n",
       "  'salesInten': '288393600',\n",
       "  'salesChange': '65.6',\n",
       "  'salesAcc': '112324217320',\n",
       "  'audiCnt': '83529',\n",
       "  'audiInten': '28067',\n",
       "  'audiChange': '50.6',\n",
       "  'audiAcc': '13452593',\n",
       "  'scrnCnt': '665',\n",
       "  'showCnt': '1459'},\n",
       " {'rnum': '6',\n",
       "  'rank': '6',\n",
       "  'rankInten': '0',\n",
       "  'rankOldAndNew': 'OLD',\n",
       "  'movieCd': '20198374',\n",
       "  'movieNm': '신비아파트 극장판 하늘도깨비 대 요르문간드',\n",
       "  'openDt': '2019-12-19',\n",
       "  'salesAmt': '373173440',\n",
       "  'salesShare': '3.1',\n",
       "  'salesInten': '179186900',\n",
       "  'salesChange': '92.4',\n",
       "  'salesAcc': '5673115880',\n",
       "  'audiCnt': '46436',\n",
       "  'audiInten': '19963',\n",
       "  'audiChange': '75.4',\n",
       "  'audiAcc': '718558',\n",
       "  'scrnCnt': '539',\n",
       "  'showCnt': '900'},\n",
       " {'rnum': '7',\n",
       "  'rank': '7',\n",
       "  'rankInten': '0',\n",
       "  'rankOldAndNew': 'OLD',\n",
       "  'movieCd': '20192401',\n",
       "  'movieNm': '포드 V 페라리',\n",
       "  'openDt': '2019-12-04',\n",
       "  'salesAmt': '231285920',\n",
       "  'salesShare': '1.9',\n",
       "  'salesInten': '76080380',\n",
       "  'salesChange': '49',\n",
       "  'salesAcc': '10843299600',\n",
       "  'audiCnt': '24650',\n",
       "  'audiInten': '6100',\n",
       "  'audiChange': '32.9',\n",
       "  'audiAcc': '1233057',\n",
       "  'scrnCnt': '195',\n",
       "  'showCnt': '378'},\n",
       " {'rnum': '8',\n",
       "  'rank': '8',\n",
       "  'rankInten': '0',\n",
       "  'rankOldAndNew': 'NEW',\n",
       "  'movieCd': '20191408',\n",
       "  'movieNm': '21 브릿지: 테러 셧다운 ',\n",
       "  'openDt': '2020-01-01',\n",
       "  'salesAmt': '212853200',\n",
       "  'salesShare': '1.8',\n",
       "  'salesInten': '212853200',\n",
       "  'salesChange': '100',\n",
       "  'salesAcc': '214514200',\n",
       "  'audiCnt': '23488',\n",
       "  'audiInten': '23488',\n",
       "  'audiChange': '100',\n",
       "  'audiAcc': '23639',\n",
       "  'scrnCnt': '228',\n",
       "  'showCnt': '860'},\n",
       " {'rnum': '9',\n",
       "  'rank': '9',\n",
       "  'rankInten': '-1',\n",
       "  'rankOldAndNew': 'OLD',\n",
       "  'movieCd': '20198430',\n",
       "  'movieNm': '나이브스 아웃',\n",
       "  'openDt': '2019-12-04',\n",
       "  'salesAmt': '134675900',\n",
       "  'salesShare': '1.1',\n",
       "  'salesInten': '17281300',\n",
       "  'salesChange': '14.7',\n",
       "  'salesAcc': '5783536110',\n",
       "  'audiCnt': '14532',\n",
       "  'audiInten': '393',\n",
       "  'audiChange': '2.8',\n",
       "  'audiAcc': '681943',\n",
       "  'scrnCnt': '144',\n",
       "  'showCnt': '272'},\n",
       " {'rnum': '10',\n",
       "  'rank': '10',\n",
       "  'rankInten': '-1',\n",
       "  'rankOldAndNew': 'OLD',\n",
       "  'movieCd': '20199981',\n",
       "  'movieNm': '눈의 여왕4',\n",
       "  'openDt': '2019-12-24',\n",
       "  'salesAmt': '117990360',\n",
       "  'salesShare': '1.0',\n",
       "  'salesInten': '39093300',\n",
       "  'salesChange': '49.5',\n",
       "  'salesAcc': '1162565320',\n",
       "  'audiCnt': '14465',\n",
       "  'audiInten': '1066',\n",
       "  'audiChange': '8',\n",
       "  'audiAcc': '158318',\n",
       "  'scrnCnt': '271',\n",
       "  'showCnt': '321'}]"
      ]
     },
     "execution_count": 27,
     "metadata": {},
     "output_type": "execute_result"
    }
   ],
   "source": [
    "json_python['boxOfficeResult']['dailyBoxOfficeList']"
   ]
  },
  {
   "cell_type": "code",
   "execution_count": null,
   "id": "b33659c0",
   "metadata": {},
   "outputs": [],
   "source": []
  },
  {
   "cell_type": "code",
   "execution_count": null,
   "id": "6e474091",
   "metadata": {},
   "outputs": [],
   "source": []
  },
  {
   "cell_type": "code",
   "execution_count": null,
   "id": "6fb2b854",
   "metadata": {},
   "outputs": [],
   "source": []
  },
  {
   "cell_type": "code",
   "execution_count": null,
   "id": "517b761c",
   "metadata": {},
   "outputs": [],
   "source": []
  },
  {
   "cell_type": "code",
   "execution_count": null,
   "id": "815fac7e",
   "metadata": {},
   "outputs": [],
   "source": []
  },
  {
   "cell_type": "code",
   "execution_count": null,
   "id": "d5c2ff0a",
   "metadata": {},
   "outputs": [],
   "source": []
  },
  {
   "cell_type": "code",
   "execution_count": null,
   "id": "5ff6d7b4",
   "metadata": {},
   "outputs": [],
   "source": []
  },
  {
   "cell_type": "code",
   "execution_count": null,
   "id": "ca478e19",
   "metadata": {},
   "outputs": [],
   "source": []
  },
  {
   "cell_type": "code",
   "execution_count": null,
   "id": "59ef3415",
   "metadata": {},
   "outputs": [],
   "source": []
  }
 ],
 "metadata": {
  "kernelspec": {
   "display_name": "Python 3 (ipykernel)",
   "language": "python",
   "name": "python3"
  },
  "language_info": {
   "codemirror_mode": {
    "name": "ipython",
    "version": 3
   },
   "file_extension": ".py",
   "mimetype": "text/x-python",
   "name": "python",
   "nbconvert_exporter": "python",
   "pygments_lexer": "ipython3",
   "version": "3.9.12"
  }
 },
 "nbformat": 4,
 "nbformat_minor": 5
}
