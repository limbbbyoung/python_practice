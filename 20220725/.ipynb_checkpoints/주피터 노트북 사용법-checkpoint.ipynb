{
 "cells": [
  {
   "cell_type": "markdown",
   "id": "b505f92e",
   "metadata": {},
   "source": [
    "주피터 노트북 사용법\n",
    "\n",
    "셀을 클릭하면 녹색으로 선택 영역이 지정됨\n",
    "녹색으로 선택된 셀에는 키보드 입력시 코드/입력문이 직접 입력됨\n",
    "녹색으로 선택된 셀에 esc키를 입력하거나 혹은 셀만 선택시 파란색으로 선택됨\n",
    "\n",
    "파란색으로 선택된 셀에 \n",
    "b 입력 => 선택된 셀 아래에 입력용 셀 추가\n",
    "a 입력 => 선택된 셀 위에 입력용 셀 추가\n",
    "dd(두 번) 입력 => 선택된 셀 삭제\n",
    "\n",
    "파이썬 셀은 필기용 셀과 실행용 셀 두 가지로 나누어짐\n",
    "In[] => 실행용 셀\n",
    "비고(파란색 셀) => 필기용 셀 \n",
    "\n",
    "m => 선택된 셀을 파이썬 코드 입력용이 아닌 필기용으로 전환\n",
    "y => 선택된 셀을 필기용 셀에서 파이썬 코드 입력용으로 전환\n",
    "\n",
    "필기용 셀은 shift + enter를 누르면 필기를 완료한 것으로 간주한다."
   ]
  },
  {
   "cell_type": "markdown",
   "id": "64dcc46f",
   "metadata": {},
   "source": [
    "# 주피터노트북 필기 \n",
    "## #키를 이용하면 글씨 크기 조절이\n",
    "### 가능합니다.\n",
    "####  개수가 많아지면 많아질수록\n",
    "##### 글씨 크기는 작아집니다.\n",
    "###### # 은 최대 6개까지 쓸 수  있습니다.\n",
    "\n",
    "- 나열해서 필기하고 싶다면(li태그 형식으로 나열)\n",
    "- - 한칸 뒤에 필기를 합니다.\n",
    "- 이렇게 나열이 됩니다.\n",
    "    - 띄어쓰기 네 칸 + - 를 붙이면 \n",
    "    - 도트 아래의 하위 항목으로 간주가 됩니다.\n",
    "        - 도트 아래 항목 하위에 다시 띄어쓰기를 네 번 더 하면\n",
    "        - 하위 항목의 하위 항목으로 간주됩니다.\n",
    "        - github에서의 readme.md와 같은 파일로 간주가 됨"
   ]
  },
  {
   "cell_type": "code",
   "execution_count": null,
   "id": "cbb6da1a",
   "metadata": {},
   "outputs": [],
   "source": []
  },
  {
   "cell_type": "code",
   "execution_count": null,
   "id": "2f803b4c",
   "metadata": {},
   "outputs": [],
   "source": []
  },
  {
   "cell_type": "code",
   "execution_count": null,
   "id": "7cba7042",
   "metadata": {},
   "outputs": [],
   "source": []
  },
  {
   "cell_type": "code",
   "execution_count": null,
   "id": "dbd0ffdc",
   "metadata": {},
   "outputs": [],
   "source": []
  }
 ],
 "metadata": {
  "kernelspec": {
   "display_name": "Python 3 (ipykernel)",
   "language": "python",
   "name": "python3"
  },
  "language_info": {
   "codemirror_mode": {
    "name": "ipython",
    "version": 3
   },
   "file_extension": ".py",
   "mimetype": "text/x-python",
   "name": "python",
   "nbconvert_exporter": "python",
   "pygments_lexer": "ipython3",
   "version": "3.9.12"
  }
 },
 "nbformat": 4,
 "nbformat_minor": 5
}
