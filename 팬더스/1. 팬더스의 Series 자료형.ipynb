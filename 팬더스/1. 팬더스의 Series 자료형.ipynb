{
 "cells": [
  {
   "cell_type": "markdown",
   "id": "527ea58c",
   "metadata": {},
   "source": [
    "#### * 데이터 분석을 한다고 하면 팬더스를 자유자재로 다룰 수 있어야함"
   ]
  },
  {
   "cell_type": "markdown",
   "id": "128303dd",
   "metadata": {},
   "source": [
    "### Pandas\n",
    "\n",
    "- 데이터 처리 및 분석을 위한 라이브러리\n",
    "- 대용량 데이터를 안정적이면서도 간편하게 처리\n",
    "- 서로 다른 데이터타입으로 열을 구성할 수 있음 <br>\n",
    "(참고) Numpy : 전체 배열 원소를 동일한 타입으로 제한\n",
    "- 주요 기능\n",
    "    - 데이터 입출력 : csv, excel, RDB, JSON 등 다양한 포맷의 데이터를 효율적으로 처리할 수 있는 형식을 사용\n",
    "    - 데이터 가공 : 분리, 결합, 계층, 피봇 등\n",
    "    - 통계 분석 처리\n",
    "\n",
    "#### 자료형\n",
    "- Series <br>\n",
    "\n",
    "    - 1차원 배열과 유사한 자료형\n",
    "    - 색인(index) : 행 번호\n",
    "        - 각각의 데이터에 부여하는 속성으로 기본값은 0부터 1씩 증가하는 숫자 지정\n",
    "        - index 파라미터를 통해 새로운 값으로 변경 가능\n",
    "        - 리스트, 튜플 타입으로 새로운 값을 전달해야하며 다차원 자료형은 사용할 수 없음\n",
    "        - 전달하는 색인의 개수와 데이터의 개수가 일치해야 함\n",
    "    - 각각의 색인과 데이터가 매핑되어 있으므로 dictionary 자료형과 유사\n",
    "    - 여러 가지 데이터 타입 사용 가능\n",
    "\n",
    "<img src=\"img/series_example.png\" width=\"250\" align=\"center\">"
   ]
  },
  {
   "cell_type": "code",
   "execution_count": 1,
   "id": "908d3ebd",
   "metadata": {},
   "outputs": [],
   "source": [
    "# pandas 라이브러리 및 Series, DataFrame 네임스페이스 불러오기\n",
    "import pandas as pd"
   ]
  },
  {
   "cell_type": "code",
   "execution_count": 2,
   "id": "5631efbc",
   "metadata": {},
   "outputs": [
    {
     "name": "stderr",
     "output_type": "stream",
     "text": [
      "C:\\Users\\a\\AppData\\Local\\Temp\\ipykernel_27556\\1418016953.py:2: FutureWarning: The default dtype for empty Series will be 'object' instead of 'float64' in a future version. Specify a dtype explicitly to silence this warning.\n",
      "  pd.Series()\n"
     ]
    },
    {
     "data": {
      "text/plain": [
       "Series([], dtype: float64)"
      ]
     },
     "execution_count": 2,
     "metadata": {},
     "output_type": "execute_result"
    }
   ],
   "source": [
    "# Series 생성\n",
    "pd.Series()"
   ]
  },
  {
   "cell_type": "markdown",
   "id": "e3f31df2",
   "metadata": {},
   "source": [
    "### Series 생성\n",
    "\n",
    "- 하나의 값(숫자, 문자) 또는 자료형(리스트, 튜플, np 배열)으로 데이터 전달\n",
    "\n",
    "### Series 속성\n",
    "\n",
    "- 속성은 소괄호를 붙이지 않음\n",
    "- index : series 객체의 인덱스 배열을 반환\n",
    "- values : series 객체의 데이터(값) 배열을 반환\n",
    "- name : series 객체의 이름을 반환 \n",
    "- dtype : series 객체의 데이터 타입을 반환\n",
    "- size : series 객체의 데이터 개수(길이)를 반환\n",
    "- shape : series 객체의 구조(행, 열, 차원)를 반환"
   ]
  },
  {
   "cell_type": "code",
   "execution_count": 3,
   "id": "b3c20221",
   "metadata": {},
   "outputs": [
    {
     "data": {
      "text/plain": [
       "0    10\n",
       "dtype: int64"
      ]
     },
     "execution_count": 3,
     "metadata": {},
     "output_type": "execute_result"
    }
   ],
   "source": [
    "# 숫자 10을 데이터로 가지고 있는 Series\n",
    "# 결과 해석\n",
    "# 왼쪽 0 : 자동으로 생성되는 기본 인덱스번호(0번부터 시작)\n",
    "# 오른쪽 10 : 입력한 데이터 값\n",
    "s1 = pd.Series(10)\n",
    "s1"
   ]
  },
  {
   "cell_type": "code",
   "execution_count": 4,
   "id": "9ab2b3d7",
   "metadata": {},
   "outputs": [
    {
     "data": {
      "text/plain": [
       "array([10], dtype=int64)"
      ]
     },
     "execution_count": 4,
     "metadata": {},
     "output_type": "execute_result"
    }
   ],
   "source": [
    "# 데이터 내부에 저장된 값 확인\n",
    "s1.values"
   ]
  },
  {
   "cell_type": "code",
   "execution_count": 5,
   "id": "64b353a3",
   "metadata": {},
   "outputs": [
    {
     "data": {
      "text/plain": [
       "RangeIndex(start=0, stop=1, step=1)"
      ]
     },
     "execution_count": 5,
     "metadata": {},
     "output_type": "execute_result"
    }
   ],
   "source": [
    "# 인덱스 번호 확인 \n",
    "# RangeIndex : 기본적으로 부여되는 인덱스번호가 사용되고 있을때 지정되는 자료형\n",
    "s1.index"
   ]
  },
  {
   "cell_type": "code",
   "execution_count": 6,
   "id": "c26ae2e1",
   "metadata": {},
   "outputs": [
    {
     "data": {
      "text/plain": [
       "0    abc\n",
       "dtype: object"
      ]
     },
     "execution_count": 6,
     "metadata": {},
     "output_type": "execute_result"
    }
   ],
   "source": [
    "# 문자\n",
    "s2 = pd.Series('abc')\n",
    "s2"
   ]
  },
  {
   "cell_type": "code",
   "execution_count": 7,
   "id": "eba39a7b",
   "metadata": {},
   "outputs": [
    {
     "data": {
      "text/plain": [
       "RangeIndex(start=0, stop=1, step=1)"
      ]
     },
     "execution_count": 7,
     "metadata": {},
     "output_type": "execute_result"
    }
   ],
   "source": [
    "# 인덱스 확인\n",
    "s2.index"
   ]
  },
  {
   "cell_type": "code",
   "execution_count": 8,
   "id": "3068e47a",
   "metadata": {},
   "outputs": [
    {
     "data": {
      "text/plain": [
       "0    10\n",
       "1    20\n",
       "2    30\n",
       "dtype: int64"
      ]
     },
     "execution_count": 8,
     "metadata": {},
     "output_type": "execute_result"
    }
   ],
   "source": [
    "# 리스트 자료형\n",
    "s3 = pd.Series([10, 20, 30])\n",
    "s3"
   ]
  },
  {
   "cell_type": "code",
   "execution_count": 9,
   "id": "82c4d1c0",
   "metadata": {},
   "outputs": [
    {
     "data": {
      "text/plain": [
       "0         10.3\n",
       "1         test\n",
       "2          200\n",
       "3    [1, 2, 3]\n",
       "dtype: object"
      ]
     },
     "execution_count": 9,
     "metadata": {},
     "output_type": "execute_result"
    }
   ],
   "source": [
    "# 데이터타입이 서로 다른 리스트 자료형\n",
    "s4 = pd.Series([10.3, 'test', 200, [1, 2, 3]])\n",
    "s4"
   ]
  },
  {
   "cell_type": "code",
   "execution_count": 10,
   "id": "ba3f1144",
   "metadata": {},
   "outputs": [
    {
     "data": {
      "text/plain": [
       "array([10.3, 'test', 200, list([1, 2, 3])], dtype=object)"
      ]
     },
     "execution_count": 10,
     "metadata": {},
     "output_type": "execute_result"
    }
   ],
   "source": [
    "# 데이터 확인 \n",
    "s4.values"
   ]
  },
  {
   "cell_type": "code",
   "execution_count": 11,
   "id": "fede19ef",
   "metadata": {},
   "outputs": [
    {
     "data": {
      "text/plain": [
       "RangeIndex(start=0, stop=4, step=1)"
      ]
     },
     "execution_count": 11,
     "metadata": {},
     "output_type": "execute_result"
    }
   ],
   "source": [
    "# 인덱스 확인 \n",
    "s4.index"
   ]
  },
  {
   "cell_type": "code",
   "execution_count": 14,
   "id": "329b6c36",
   "metadata": {},
   "outputs": [
    {
     "data": {
      "text/plain": [
       "0    1.0\n",
       "1    2.0\n",
       "2    3.0\n",
       "3    4.0\n",
       "4    5.0\n",
       "dtype: float64"
      ]
     },
     "execution_count": 14,
     "metadata": {},
     "output_type": "execute_result"
    }
   ],
   "source": [
    "# 튜플도 리스트처럼 1차원 자료로 주면 각각 내부자료를 풀어서 집어넣습니다.\n",
    "s5 = pd.Series((1, 2, 3, 4, 5.0))\n",
    "s5 # 정수, 정수,.., 실수 형태로 주면 실수로 통일해서 자료가 들어감"
   ]
  },
  {
   "cell_type": "code",
   "execution_count": 15,
   "id": "7c62d799",
   "metadata": {},
   "outputs": [
    {
     "data": {
      "text/plain": [
       "array([1., 2., 3., 4., 5.])"
      ]
     },
     "execution_count": 15,
     "metadata": {},
     "output_type": "execute_result"
    }
   ],
   "source": [
    "# 데이터 확인 \n",
    "s5.values"
   ]
  },
  {
   "cell_type": "code",
   "execution_count": 16,
   "id": "6073d015",
   "metadata": {},
   "outputs": [
    {
     "data": {
      "text/plain": [
       "RangeIndex(start=0, stop=5, step=1)"
      ]
     },
     "execution_count": 16,
     "metadata": {},
     "output_type": "execute_result"
    }
   ],
   "source": [
    "# 인덱스 확인 \n",
    "s5.index"
   ]
  },
  {
   "cell_type": "code",
   "execution_count": 20,
   "id": "9152bcb0",
   "metadata": {},
   "outputs": [
    {
     "data": {
      "text/plain": [
       "20"
      ]
     },
     "execution_count": 20,
     "metadata": {},
     "output_type": "execute_result"
    }
   ],
   "source": [
    "# 딕셔너리 자료형(자동으로 라벨 부여, key가 inde, value가 실제 데이터)\n",
    "s6 = pd.Series({'a':10, 'b':20, 'c':30}) # 인덱스도 부여됐고 라벨도 부여된 상황임\n",
    "s6['b']"
   ]
  },
  {
   "cell_type": "code",
   "execution_count": 21,
   "id": "93b09125",
   "metadata": {},
   "outputs": [
    {
     "data": {
      "text/plain": [
       "0    1.0\n",
       "1    2.0\n",
       "2    3.0\n",
       "3    4.0\n",
       "4    5.0\n",
       "dtype: float64"
      ]
     },
     "execution_count": 21,
     "metadata": {},
     "output_type": "execute_result"
    }
   ],
   "source": [
    "# 인덱스 새롭게 지정하기\n",
    "# 인덱스 속성(길이)를 참조하여 리스트, 튜플 타입으로 전달 \n",
    "# 라벨 인덱스가 없던 경우 => 새롭게 라벨 인덱스 부여\n",
    "# 라벨 인덱스가 있던 경우 => 기존에 있던 라벨 인덱스에 덮어씌우기\n",
    "s5"
   ]
  },
  {
   "cell_type": "code",
   "execution_count": 22,
   "id": "af36fe4c",
   "metadata": {},
   "outputs": [],
   "source": [
    "# 인덱스를 새롭게 지정할때는 RangeIndex이 범위만큼 길이를 가지는 리스트를 대입해줍니다.\n",
    "# 행 개수(데이터 개수)와 동일한 길이의 리스트를 전달해야 합니다.\n",
    "s5.index = [2020, 2021, 2022, 2023, 2024]"
   ]
  },
  {
   "cell_type": "code",
   "execution_count": 24,
   "id": "1d14d582",
   "metadata": {},
   "outputs": [
    {
     "data": {
      "text/plain": [
       "2020    1.0\n",
       "2021    2.0\n",
       "2022    3.0\n",
       "2023    4.0\n",
       "2024    5.0\n",
       "dtype: float64"
      ]
     },
     "execution_count": 24,
     "metadata": {},
     "output_type": "execute_result"
    }
   ],
   "source": [
    "s5 # 인덱스 번호가 바뀌어서 새롭게 주어지는 것을 볼 수 있음"
   ]
  },
  {
   "cell_type": "code",
   "execution_count": 25,
   "id": "9a2a9c42",
   "metadata": {},
   "outputs": [
    {
     "data": {
      "text/plain": [
       "Int64Index([2020, 2021, 2022, 2023, 2024], dtype='int64')"
      ]
     },
     "execution_count": 25,
     "metadata": {},
     "output_type": "execute_result"
    }
   ],
   "source": [
    "# 인덱스를 지정하여 객체 생성\n",
    "# 인덱스 객체에 대해서 아이템 참조는 가능\n",
    "s5.index"
   ]
  },
  {
   "cell_type": "code",
   "execution_count": 26,
   "id": "33ea8533",
   "metadata": {},
   "outputs": [
    {
     "ename": "TypeError",
     "evalue": "Index does not support mutable operations",
     "output_type": "error",
     "traceback": [
      "\u001b[1;31m---------------------------------------------------------------------------\u001b[0m",
      "\u001b[1;31mTypeError\u001b[0m                                 Traceback (most recent call last)",
      "Input \u001b[1;32mIn [26]\u001b[0m, in \u001b[0;36m<cell line: 2>\u001b[1;34m()\u001b[0m\n\u001b[0;32m      1\u001b[0m \u001b[38;5;66;03m# 인덱스 객체 내부의 단일 라벨 인덱스만 하나 딱 잘라서 변경하는것은 불가능\u001b[39;00m\n\u001b[1;32m----> 2\u001b[0m s5\u001b[38;5;241m.\u001b[39mindex[\u001b[38;5;241m-\u001b[39m\u001b[38;5;241m1\u001b[39m] \u001b[38;5;241m=\u001b[39m \u001b[38;5;241m2025\u001b[39m\n",
      "File \u001b[1;32mC:\\ProgramData\\Anaconda3\\lib\\site-packages\\pandas\\core\\indexes\\base.py:5021\u001b[0m, in \u001b[0;36mIndex.__setitem__\u001b[1;34m(self, key, value)\u001b[0m\n\u001b[0;32m   5019\u001b[0m \u001b[38;5;129m@final\u001b[39m\n\u001b[0;32m   5020\u001b[0m \u001b[38;5;28;01mdef\u001b[39;00m \u001b[38;5;21m__setitem__\u001b[39m(\u001b[38;5;28mself\u001b[39m, key, value):\n\u001b[1;32m-> 5021\u001b[0m     \u001b[38;5;28;01mraise\u001b[39;00m \u001b[38;5;167;01mTypeError\u001b[39;00m(\u001b[38;5;124m\"\u001b[39m\u001b[38;5;124mIndex does not support mutable operations\u001b[39m\u001b[38;5;124m\"\u001b[39m)\n",
      "\u001b[1;31mTypeError\u001b[0m: Index does not support mutable operations"
     ]
    }
   ],
   "source": [
    "# 인덱스 객체 내부의 단일 라벨 인덱스만 하나 딱 잘라서 변경하는것은 불가능\n",
    "s5.index[-1] = 2025"
   ]
  },
  {
   "cell_type": "code",
   "execution_count": 27,
   "id": "97c7833e",
   "metadata": {},
   "outputs": [
    {
     "data": {
      "text/plain": [
       "2020    1.0\n",
       "2021    2.0\n",
       "2022    3.0\n",
       "2023    4.0\n",
       "2025    5.0\n",
       "dtype: float64"
      ]
     },
     "execution_count": 27,
     "metadata": {},
     "output_type": "execute_result"
    }
   ],
   "source": [
    "# 인덱스 라벨링 수정시 바꿀 부분만 변경한 전체 인덱스 자료를 대입해야합니다.\n",
    "s5.index=[2020, 2021, 2022, 2023, 2025]\n",
    "s5"
   ]
  },
  {
   "cell_type": "code",
   "execution_count": 30,
   "id": "19a1055e",
   "metadata": {},
   "outputs": [
    {
     "data": {
      "text/plain": [
       "mon    10\n",
       "tue    20\n",
       "wed    30\n",
       "thu    40\n",
       "dtype: int64"
      ]
     },
     "execution_count": 30,
     "metadata": {},
     "output_type": "execute_result"
    }
   ],
   "source": [
    "# Series 함수의 index 파라미터를 이용해 생성과 동시에 인덱스 라벨 부여 가능\n",
    "# pd.Series(data, index=[.....])\n",
    "s7 = pd.Series([10, 20, 30, 40], index=['mon', 'tue', 'wed', 'thu'])\n",
    "s7"
   ]
  },
  {
   "cell_type": "code",
   "execution_count": 32,
   "id": "e4e332dd",
   "metadata": {},
   "outputs": [
    {
     "data": {
      "text/plain": [
       "array([10, 20, 30, 40], dtype=int64)"
      ]
     },
     "execution_count": 32,
     "metadata": {},
     "output_type": "execute_result"
    }
   ],
   "source": [
    "# 데이터 확인 \n",
    "s7.values"
   ]
  },
  {
   "cell_type": "code",
   "execution_count": 33,
   "id": "adfd91f4",
   "metadata": {},
   "outputs": [
    {
     "data": {
      "text/plain": [
       "Index(['mon', 'tue', 'wed', 'thu'], dtype='object')"
      ]
     },
     "execution_count": 33,
     "metadata": {},
     "output_type": "execute_result"
    }
   ],
   "source": [
    "# 인덱스 확인 \n",
    "s7.index"
   ]
  },
  {
   "cell_type": "markdown",
   "id": "06968254",
   "metadata": {},
   "source": [
    "### dictionary 자료형과 유사한 Series 자료형"
   ]
  },
  {
   "cell_type": "code",
   "execution_count": 34,
   "id": "4cf083ec",
   "metadata": {},
   "outputs": [
    {
     "name": "stdout",
     "output_type": "stream",
     "text": [
      "{'서울': 100, '경기': 200, '강원': 300, '부산': 400}\n",
      "서울    100\n",
      "경기    200\n",
      "강원    300\n",
      "부산    400\n",
      "dtype: int64\n"
     ]
    }
   ],
   "source": [
    "# dictionary 자료형으로 Series 생성\n",
    "data = {'서울':100, '경기':200, '강원':300, '부산':400}\n",
    "sample = pd.Series(data)\n",
    "print(data)\n",
    "print(sample)"
   ]
  },
  {
   "cell_type": "code",
   "execution_count": 35,
   "id": "1e41a49b",
   "metadata": {},
   "outputs": [
    {
     "name": "stdout",
     "output_type": "stream",
     "text": [
      "True\n",
      "True\n"
     ]
    }
   ],
   "source": [
    "# Series 객체와 in 연산자\n",
    "# dictionary와 유사 : in 연산자를 사용해 내부 요소 검사시\n",
    "# key값에 해당하는 라벨을 이용해 해당 요소가 있는지 없는지 여부를 True, False로 출력\n",
    "print('서울' in data)\n",
    "print('서울' in sample)"
   ]
  },
  {
   "cell_type": "code",
   "execution_count": 36,
   "id": "0f2a214a",
   "metadata": {},
   "outputs": [
    {
     "name": "stdout",
     "output_type": "stream",
     "text": [
      "False\n",
      "False\n"
     ]
    }
   ],
   "source": [
    "# value에 해당하는 값들은 수행이 되지 않음\n",
    "print(100 in data)\n",
    "print(100 in sample)"
   ]
  },
  {
   "cell_type": "code",
   "execution_count": 37,
   "id": "7fce6ea4",
   "metadata": {},
   "outputs": [
    {
     "name": "stdout",
     "output_type": "stream",
     "text": [
      "서울\n",
      "경기\n",
      "강원\n",
      "부산\n",
      "-----------------------\n",
      "100\n",
      "200\n",
      "300\n",
      "400\n"
     ]
    }
   ],
   "source": [
    "# for문에서 in 연산자로 접근 : Series의 value값을 참조\n",
    "for key in data:\n",
    "    print(key)\n",
    "print(\"-----------------------\")\n",
    "for index in sample.values:\n",
    "    print(index)"
   ]
  },
  {
   "cell_type": "code",
   "execution_count": 38,
   "id": "62f077c5",
   "metadata": {},
   "outputs": [],
   "source": [
    "# sample의 인덱스 : 서울, 경기, 강원, 부산 => 서울, 경기, 강원, 제주로 변경해주세요.\n",
    "# 지정한 index 기준으로 Series 생성\n",
    "# 사용하는 인덱스에 없는 값은 Series에 NaN으로 저장\n",
    "# NaN : Not a Number(결측치) -> numpy에서 해당 위치에 값이 없음을 나타낼때 사용하는 자료\n",
    "# None : 파이썬 기본자료형에서 null처럼 쓰이는 자료\n",
    "sample.index = ['서울', '경기', '강원', '제주']"
   ]
  },
  {
   "cell_type": "code",
   "execution_count": 39,
   "id": "738da43e",
   "metadata": {},
   "outputs": [
    {
     "data": {
      "text/plain": [
       "서울    100\n",
       "경기    200\n",
       "강원    300\n",
       "제주    400\n",
       "dtype: int64"
      ]
     },
     "execution_count": 39,
     "metadata": {},
     "output_type": "execute_result"
    }
   ],
   "source": [
    "sample"
   ]
  },
  {
   "cell_type": "code",
   "execution_count": null,
   "id": "ce619723",
   "metadata": {},
   "outputs": [],
   "source": []
  },
  {
   "cell_type": "code",
   "execution_count": null,
   "id": "04fd34f8",
   "metadata": {},
   "outputs": [],
   "source": []
  },
  {
   "cell_type": "code",
   "execution_count": null,
   "id": "91c24220",
   "metadata": {},
   "outputs": [],
   "source": []
  },
  {
   "cell_type": "code",
   "execution_count": null,
   "id": "1d83a52a",
   "metadata": {},
   "outputs": [],
   "source": []
  },
  {
   "cell_type": "code",
   "execution_count": null,
   "id": "d3532c8e",
   "metadata": {},
   "outputs": [],
   "source": []
  },
  {
   "cell_type": "code",
   "execution_count": null,
   "id": "8993ff3a",
   "metadata": {},
   "outputs": [],
   "source": []
  },
  {
   "cell_type": "code",
   "execution_count": null,
   "id": "a13c4893",
   "metadata": {},
   "outputs": [],
   "source": []
  },
  {
   "cell_type": "code",
   "execution_count": null,
   "id": "655f8b99",
   "metadata": {},
   "outputs": [],
   "source": []
  }
 ],
 "metadata": {
  "kernelspec": {
   "display_name": "Python 3 (ipykernel)",
   "language": "python",
   "name": "python3"
  },
  "language_info": {
   "codemirror_mode": {
    "name": "ipython",
    "version": 3
   },
   "file_extension": ".py",
   "mimetype": "text/x-python",
   "name": "python",
   "nbconvert_exporter": "python",
   "pygments_lexer": "ipython3",
   "version": "3.9.12"
  }
 },
 "nbformat": 4,
 "nbformat_minor": 5
}
