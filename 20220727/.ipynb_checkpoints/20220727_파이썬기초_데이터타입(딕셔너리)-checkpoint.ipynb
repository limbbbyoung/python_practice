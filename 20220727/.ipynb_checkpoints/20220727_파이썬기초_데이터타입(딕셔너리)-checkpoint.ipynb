{
 "cells": [
  {
   "cell_type": "markdown",
   "id": "6425bcb2",
   "metadata": {},
   "source": [
    "# 3. 딕셔너리(Dictionary)\n",
    "\n",
    "▶ 문법 기호/ 함수 : {key1 : value1, key2 : value2, key3 : value3 ...} / 함수 : dict()\n",
    "\n",
    "▶ key로 가질 수 있는 데이터 타입 : 문자, 숫자, 튜플(Tuple)\n",
    "\n",
    "▶ value로 가질 수 있는 데이터 타입 : 문자, 숫자, 리스트(List), 딕셔너리(Dict) ...\n",
    "\n",
    "▶ 아이템 = key & value 하나의 쌍\n",
    "\n",
    "▶ 종류 \n",
    "\n",
    "    * 아이템이 없는 딕셔너리\n",
    "    \n",
    "    * 1차원 딕셔너리\n",
    "    \n",
    "    * 다차원 딕셔너리\n",
    "    \n",
    "▶ 특징\n",
    "\n",
    "    * key, value의 차이점\n",
    "    \n",
    "    * 인덱스 번호를 가지지 않는다."
   ]
  },
  {
   "cell_type": "markdown",
   "id": "8b647ea3",
   "metadata": {},
   "source": [
    "###  1. 생성하기"
   ]
  },
  {
   "cell_type": "code",
   "execution_count": 1,
   "id": "9f91b469",
   "metadata": {},
   "outputs": [
    {
     "data": {
      "text/plain": [
       "dict"
      ]
     },
     "execution_count": 1,
     "metadata": {},
     "output_type": "execute_result"
    }
   ],
   "source": [
    "# 딕셔너리 생성하기\n",
    "# 문법기호 : {k1:v1, k2:v2, k3:v3...}\n",
    "d1 = {1:10, 2:20, 3:30}\n",
    "type(d1)"
   ]
  },
  {
   "cell_type": "code",
   "execution_count": 3,
   "id": "a6394e0b",
   "metadata": {},
   "outputs": [
    {
     "data": {
      "text/plain": [
       "{}"
      ]
     },
     "execution_count": 3,
     "metadata": {},
     "output_type": "execute_result"
    }
   ],
   "source": [
    "# 함수 dict()를 이용해서 딕셔너리를 만들수도 있습니다.\n",
    "d2 = dict()\n",
    "d2"
   ]
  },
  {
   "cell_type": "code",
   "execution_count": 4,
   "id": "b7918b3f",
   "metadata": {},
   "outputs": [
    {
     "data": {
      "text/plain": [
       "list"
      ]
     },
     "execution_count": 4,
     "metadata": {},
     "output_type": "execute_result"
    }
   ],
   "source": [
    "# 2차원 자료를 이용해 딕셔너리로 변환 가능\n",
    "x = [['a', 'b'], ['a1', 'b1'], ['a2', 'b2']]\n",
    "type(x)"
   ]
  },
  {
   "cell_type": "code",
   "execution_count": 5,
   "id": "e5ddcb8e",
   "metadata": {},
   "outputs": [
    {
     "data": {
      "text/plain": [
       "{'a': 'b', 'a1': 'b1', 'a2': 'b2'}"
      ]
     },
     "execution_count": 5,
     "metadata": {},
     "output_type": "execute_result"
    }
   ],
   "source": [
    "# 2차원배열 x를 딕셔너리로 변환\n",
    "dict(x)"
   ]
  },
  {
   "cell_type": "code",
   "execution_count": 6,
   "id": "52d82376",
   "metadata": {},
   "outputs": [
    {
     "data": {
      "text/plain": [
       "{1: [1, 2, 3], 2: {'a', 'b'}}"
      ]
     },
     "execution_count": 6,
     "metadata": {},
     "output_type": "execute_result"
    }
   ],
   "source": [
    "# 딕셔너리의  value값에 들어갈 수 있는  자료에는 제약이 없다\n",
    "{1: [1, 2, 3], 2:{'a', 'b'}}"
   ]
  },
  {
   "cell_type": "code",
   "execution_count": null,
   "id": "f2f548ae",
   "metadata": {},
   "outputs": [],
   "source": []
  },
  {
   "cell_type": "code",
   "execution_count": null,
   "id": "5521f5c2",
   "metadata": {},
   "outputs": [],
   "source": []
  },
  {
   "cell_type": "code",
   "execution_count": null,
   "id": "bb5d549a",
   "metadata": {},
   "outputs": [],
   "source": []
  },
  {
   "cell_type": "code",
   "execution_count": 7,
   "id": "4979b6fb",
   "metadata": {},
   "outputs": [
    {
     "data": {
      "text/plain": [
       "1"
      ]
     },
     "execution_count": 7,
     "metadata": {},
     "output_type": "execute_result"
    }
   ],
   "source": [
    "#  기존의 인덱싱 방법 : 객체[인덱싱번호]\n",
    "a = [1, 2, 3]\n",
    "a[0]"
   ]
  },
  {
   "cell_type": "code",
   "execution_count": 8,
   "id": "906d7be5",
   "metadata": {},
   "outputs": [],
   "source": [
    "# 문자, 리스트타입 인덱싱과의 차이점 : 기준값이 인덱스번호가 아닌 key값을 사용\n",
    "d1 = {'a':10, 'b':20, 'c':30}"
   ]
  },
  {
   "cell_type": "code",
   "execution_count": 9,
   "id": "0f508ccc",
   "metadata": {},
   "outputs": [
    {
     "ename": "NameError",
     "evalue": "name 'd' is not defined",
     "output_type": "error",
     "traceback": [
      "\u001b[1;31m---------------------------------------------------------------------------\u001b[0m",
      "\u001b[1;31mNameError\u001b[0m                                 Traceback (most recent call last)",
      "Input \u001b[1;32mIn [9]\u001b[0m, in \u001b[0;36m<cell line: 2>\u001b[1;34m()\u001b[0m\n\u001b[0;32m      1\u001b[0m \u001b[38;5;66;03m# 인덱싱 방식 : 없는값을 조회하면 에러\u001b[39;00m\n\u001b[1;32m----> 2\u001b[0m d1[\u001b[43md\u001b[49m]\n",
      "\u001b[1;31mNameError\u001b[0m: name 'd' is not defined"
     ]
    }
   ],
   "source": [
    "# 인덱싱 방식 : 없는값을 조회하면 에러\n",
    "d1[d]"
   ]
  },
  {
   "cell_type": "markdown",
   "id": "c32dee16",
   "metadata": {},
   "source": [
    "#### 현시점까지 놓친 부분이 많기 때문에 반드시 복습을 통해서 보충을 해주어야함"
   ]
  },
  {
   "cell_type": "code",
   "execution_count": 10,
   "id": "71ebbdab",
   "metadata": {},
   "outputs": [],
   "source": [
    "# 내장함수 .get()을 사용하면 없는 키값으로 조회해도 에러가 나지는 않습니다.\n",
    "d1.get('d')"
   ]
  },
  {
   "cell_type": "code",
   "execution_count": 11,
   "id": "86ad7a03",
   "metadata": {},
   "outputs": [
    {
     "ename": "TypeError",
     "evalue": "unhashable type: 'slice'",
     "output_type": "error",
     "traceback": [
      "\u001b[1;31m---------------------------------------------------------------------------\u001b[0m",
      "\u001b[1;31mTypeError\u001b[0m                                 Traceback (most recent call last)",
      "Input \u001b[1;32mIn [11]\u001b[0m, in \u001b[0;36m<cell line: 3>\u001b[1;34m()\u001b[0m\n\u001b[0;32m      1\u001b[0m \u001b[38;5;66;03m# 딕셔너리는 슬라이싱이 불가능하다\u001b[39;00m\n\u001b[0;32m      2\u001b[0m \u001b[38;5;66;03m# 슬라이싱대신 반복문을 사용하는 수밖에 없다\u001b[39;00m\n\u001b[1;32m----> 3\u001b[0m \u001b[43md1\u001b[49m\u001b[43m[\u001b[49m\u001b[38;5;124;43m'\u001b[39;49m\u001b[38;5;124;43ma\u001b[39;49m\u001b[38;5;124;43m'\u001b[39;49m\u001b[43m:\u001b[49m\u001b[38;5;124;43m'\u001b[39;49m\u001b[38;5;124;43mc\u001b[39;49m\u001b[38;5;124;43m'\u001b[39;49m\u001b[43m]\u001b[49m\n",
      "\u001b[1;31mTypeError\u001b[0m: unhashable type: 'slice'"
     ]
    }
   ],
   "source": [
    "# 딕셔너리는 슬라이싱이 불가능하다\n",
    "# 슬라이싱대신 반복문을 사용하는 수밖에 없다\n",
    "d1['a':'c']"
   ]
  },
  {
   "cell_type": "markdown",
   "id": "b21fe79d",
   "metadata": {},
   "source": [
    "### << 연습문제 >>\n",
    "\n",
    "아래와 같이 다차원 딕셔너리를 만들고 제시한 값을 출력해보세요.\n",
    "\n",
    "    {'a' : [1, 2, 3], 'b' : 100, 'c' : {'key1' : {'파인애플', '포도', '바나나'}, 'key2' : (55, 66)}}\n",
    "    \n",
    "* 1) 3 출력하기\n",
    "\n",
    "* 2) ['파인애플', '포도', '바나나']\n",
    "\n",
    "* 3) 포도 출력하기\n",
    "\n",
    "* 4) 55 출력하기"
   ]
  },
  {
   "cell_type": "code",
   "execution_count": 39,
   "id": "e40a4580",
   "metadata": {},
   "outputs": [
    {
     "name": "stdout",
     "output_type": "stream",
     "text": [
      "<class 'dict'>\n"
     ]
    }
   ],
   "source": [
    "d6 = {'a' : [1, 2, 3], 'b' : 100, 'c' : {'key1' : ['파인애플', '포도', '바나나'], 'key2' : (55, 66)}}\n",
    "print(type(d6))"
   ]
  },
  {
   "cell_type": "code",
   "execution_count": 49,
   "id": "4744ae8f",
   "metadata": {},
   "outputs": [
    {
     "data": {
      "text/plain": [
       "3"
      ]
     },
     "execution_count": 49,
     "metadata": {},
     "output_type": "execute_result"
    }
   ],
   "source": [
    "# 1) 3 출력하기\n",
    "d6.get('a')[2]\n",
    "# d6['a'][2]"
   ]
  },
  {
   "cell_type": "code",
   "execution_count": 48,
   "id": "f4b7d45f",
   "metadata": {},
   "outputs": [
    {
     "data": {
      "text/plain": [
       "['파인애플', '포도', '바나나']"
      ]
     },
     "execution_count": 48,
     "metadata": {},
     "output_type": "execute_result"
    }
   ],
   "source": [
    "# 2)  ['파인애플', '포도', '바나나']\n",
    "d6.get('c').get('key1')\n",
    "# d6['c']['key1']"
   ]
  },
  {
   "cell_type": "code",
   "execution_count": 46,
   "id": "3a3636c3",
   "metadata": {},
   "outputs": [
    {
     "data": {
      "text/plain": [
       "'포도'"
      ]
     },
     "execution_count": 46,
     "metadata": {},
     "output_type": "execute_result"
    }
   ],
   "source": [
    "# 3) 포도 출력하기\n",
    "d6.get('c').get('key1')[1]\n",
    "# d6['c']['key1'][1]"
   ]
  },
  {
   "cell_type": "code",
   "execution_count": 47,
   "id": "40ffd39b",
   "metadata": {},
   "outputs": [
    {
     "data": {
      "text/plain": [
       "55"
      ]
     },
     "execution_count": 47,
     "metadata": {},
     "output_type": "execute_result"
    }
   ],
   "source": [
    "# 4) 55 출력하기\n",
    "d6.get('c').get('key2')[0]\n",
    "# d6['c']['key2'][0]"
   ]
  },
  {
   "cell_type": "markdown",
   "id": "6e691eb3",
   "metadata": {},
   "source": [
    "### 3. 아이템 추가하기\n",
    "\n",
    "- 인덱싱 방식으로 새로운 아이템 추가\n",
    "\n",
    "- 메소드 : update()"
   ]
  },
  {
   "cell_type": "code",
   "execution_count": 50,
   "id": "433c10d7",
   "metadata": {},
   "outputs": [],
   "source": [
    "d1 = {'a':1, 'b':2, 'c':3}"
   ]
  },
  {
   "cell_type": "code",
   "execution_count": 51,
   "id": "34c0e06d",
   "metadata": {},
   "outputs": [
    {
     "data": {
      "text/plain": [
       "{'a': 1, 'b': 2, 'c': 3, 'd': 4}"
      ]
     },
     "execution_count": 51,
     "metadata": {},
     "output_type": "execute_result"
    }
   ],
   "source": [
    "# 새로운 key값(인덱싱)에 value값을 할당하여 아이템 추가\n",
    "d1['d'] = 4\n",
    "d1"
   ]
  },
  {
   "cell_type": "code",
   "execution_count": 52,
   "id": "99174f73",
   "metadata": {},
   "outputs": [
    {
     "data": {
      "text/plain": [
       "{'a': 10, 'b': 2, 'c': 3, 'd': 4}"
      ]
     },
     "execution_count": 52,
     "metadata": {},
     "output_type": "execute_result"
    }
   ],
   "source": [
    "# 기존에 존재하는 key값에 대해서 value를 할당하면 값이 갱신됨\n",
    "d1['a'] = 10\n",
    "d1"
   ]
  },
  {
   "cell_type": "code",
   "execution_count": 53,
   "id": "8018eeff",
   "metadata": {},
   "outputs": [
    {
     "data": {
      "text/plain": [
       "{'a': 10, 'b': 2, 'c': 3, 'd': 4, 'e': 10, 'z': 40, 'v': 100}"
      ]
     },
     "execution_count": 53,
     "metadata": {},
     "output_type": "execute_result"
    }
   ],
   "source": [
    "# 하나 이상의 아이템(key & value) 추가/수정 : 딕셔너리자료.update()\n",
    "# 추가할 아이템 타입 ; 딕셔너리, 리스트(2차원으로 내부 요소가 2개씩 쌍으로 있는 경우)\n",
    "# 'e':10, 'z':40, 'v':100\n",
    "d1.update({'e':10, 'z':40, 'v':100})\n",
    "d1"
   ]
  },
  {
   "cell_type": "code",
   "execution_count": 54,
   "id": "53ee9343",
   "metadata": {},
   "outputs": [],
   "source": [
    "# 리스트로 처리하기\n",
    "d2 = {'a':10, 'b':2, 'c':3, 'd':4}"
   ]
  },
  {
   "cell_type": "code",
   "execution_count": 55,
   "id": "d5b5b69b",
   "metadata": {},
   "outputs": [
    {
     "data": {
      "text/plain": [
       "{'a': 10, 'b': 10, 'c': 3, 'd': 4, 'e': 50, 'f': 100}"
      ]
     },
     "execution_count": 55,
     "metadata": {},
     "output_type": "execute_result"
    }
   ],
   "source": [
    "data = [('b', 10), ('e', 50), ('f', 100)]\n",
    "d2.update(data)\n",
    "d2"
   ]
  },
  {
   "cell_type": "markdown",
   "id": "d9cff7d7",
   "metadata": {},
   "source": [
    "### 4. 삭제하기\n",
    "\n",
    "- 하나의 아이템 삭제하기 \n",
    "\n",
    "- 모든 아이템 삭제하기 : 객체는 삭제되지 않는다."
   ]
  },
  {
   "cell_type": "code",
   "execution_count": 56,
   "id": "5db6ef91",
   "metadata": {},
   "outputs": [
    {
     "data": {
      "text/plain": [
       "{'a': 10, 'b': 10, 'c': 3, 'e': 50, 'f': 100}"
      ]
     },
     "execution_count": 56,
     "metadata": {},
     "output_type": "execute_result"
    }
   ],
   "source": [
    "# 하나의 아이템 삭제하기 : del + 인덱싱(단, .get()에 대해서는 del 키워드를 쓸 수 없음 )\n",
    "del d2['d']\n",
    "d2"
   ]
  },
  {
   "cell_type": "code",
   "execution_count": 57,
   "id": "acbcbec3",
   "metadata": {},
   "outputs": [],
   "source": [
    "# 딕셔너리 비우기 : 딕셔너리.clear()\n",
    "# del은 변수 자체가 삭제되지만, clear()는 변수는 남아있되 내부만 비워준다.\n",
    "d2.clear()"
   ]
  },
  {
   "cell_type": "code",
   "execution_count": 58,
   "id": "6b3fbf29",
   "metadata": {},
   "outputs": [
    {
     "data": {
      "text/plain": [
       "{}"
      ]
     },
     "execution_count": 58,
     "metadata": {},
     "output_type": "execute_result"
    }
   ],
   "source": [
    "d2"
   ]
  },
  {
   "cell_type": "code",
   "execution_count": null,
   "id": "c97c719b",
   "metadata": {},
   "outputs": [],
   "source": []
  },
  {
   "cell_type": "markdown",
   "id": "54eb8462",
   "metadata": {},
   "source": [
    "### 5. 딕셔너리 내장함수 & 관련 연산자\n",
    "- 딕셔너리타입.keys()\n",
    "\n",
    "- 딕셔너리타입.values()\n",
    "\n",
    "- 딕셔너리타입.items()\n",
    "\n",
    "- in 연산자"
   ]
  },
  {
   "cell_type": "code",
   "execution_count": 59,
   "id": "b7fc072c",
   "metadata": {},
   "outputs": [
    {
     "data": {
      "text/plain": [
       "dict_keys(['name', 'age', 'job'])"
      ]
     },
     "execution_count": 59,
     "metadata": {},
     "output_type": "execute_result"
    }
   ],
   "source": [
    "# 딕셔너리가 가지고 있는 key값만 리스트 형식으로 반환 : keys()\n",
    "d1 = {'name':'홍길동', 'age':18, 'job':'학생'}\n",
    "d1.keys()"
   ]
  },
  {
   "cell_type": "code",
   "execution_count": 82,
   "id": "7158de33",
   "metadata": {},
   "outputs": [
    {
     "data": {
      "text/plain": [
       "['name', 'age', 'job']"
      ]
     },
     "execution_count": 82,
     "metadata": {},
     "output_type": "execute_result"
    }
   ],
   "source": [
    "# 리스트로 바꿔주고 싶다면(dict_keys는 유사 리스트임)\n",
    "# list()로 감쌉니다.\n",
    "list(d1.keys())"
   ]
  },
  {
   "cell_type": "code",
   "execution_count": 61,
   "id": "11247361",
   "metadata": {},
   "outputs": [
    {
     "data": {
      "text/plain": [
       "dict_values(['홍길동', 18, '학생'])"
      ]
     },
     "execution_count": 61,
     "metadata": {},
     "output_type": "execute_result"
    }
   ],
   "source": [
    "# 딕셔너리가 가지고 있는 value만 리스트 형식으로 반환 : values()\n",
    "d1.values()"
   ]
  },
  {
   "cell_type": "code",
   "execution_count": 62,
   "id": "7357a0ae",
   "metadata": {},
   "outputs": [
    {
     "data": {
      "text/plain": [
       "dict_items([('name', '홍길동'), ('age', 18), ('job', '학생')])"
      ]
     },
     "execution_count": 62,
     "metadata": {},
     "output_type": "execute_result"
    }
   ],
   "source": [
    "# 딕셔너리가 가진 아이템(key & value쌍)을 튜플로 묶어서 리스트 형식으로 : .items()\n",
    "d1.items()"
   ]
  },
  {
   "cell_type": "markdown",
   "id": "49e15bd8",
   "metadata": {},
   "source": [
    "### <<연습문제>>\n",
    "\n",
    "1. 아래와 같은 딕셔너리를 생성하고 해당 딕셔너리의 value 중 최소값을 구하여 형식에맞게 출력하세요.\n",
    "\n",
    "        - 생성 딕셔너리 :"
   ]
  },
  {
   "cell_type": "code",
   "execution_count": 64,
   "id": "53dfecd4",
   "metadata": {},
   "outputs": [],
   "source": [
    "# 생성 딕셔너리 : {'A':9, 'B':80, 'C':70}\n",
    "d7 = {'A':9, 'B':80, 'C':70}"
   ]
  },
  {
   "cell_type": "code",
   "execution_count": 65,
   "id": "d63e7f56",
   "metadata": {},
   "outputs": [],
   "source": [
    "# 조건 1\n",
    "# d7['D']=20, 하나의 값을 넣을땐 해당 방법이 편리\n",
    "d7.update({'D':20, 'E':100, 'F':10})"
   ]
  },
  {
   "cell_type": "code",
   "execution_count": 66,
   "id": "fb770c9f",
   "metadata": {},
   "outputs": [
    {
     "data": {
      "text/plain": [
       "{'A': 9, 'B': 80, 'C': 70, 'D': 20, 'E': 100, 'F': 10}"
      ]
     },
     "execution_count": 66,
     "metadata": {},
     "output_type": "execute_result"
    }
   ],
   "source": [
    "d7"
   ]
  },
  {
   "cell_type": "code",
   "execution_count": 67,
   "id": "345fd883",
   "metadata": {},
   "outputs": [
    {
     "data": {
      "text/plain": [
       "{'A': 90, 'B': 80, 'C': 70, 'D': 20, 'E': 100, 'F': 10}"
      ]
     },
     "execution_count": 67,
     "metadata": {},
     "output_type": "execute_result"
    }
   ],
   "source": [
    "# 조건 2\n",
    "d7['A'] = 90 # 이미 키가 존재하는데 값을 넣으면 수정, 없는 키면 추가\n",
    "d7"
   ]
  },
  {
   "cell_type": "code",
   "execution_count": 68,
   "id": "21c84976",
   "metadata": {},
   "outputs": [
    {
     "data": {
      "text/plain": [
       "'최소 값 10을 가진 key F입니다.'"
      ]
     },
     "execution_count": 68,
     "metadata": {},
     "output_type": "execute_result"
    }
   ],
   "source": [
    "# 조건 3\n",
    "\"최소 값 %s을 가진 key F입니다.\" %d7['F'] "
   ]
  },
  {
   "cell_type": "code",
   "execution_count": 85,
   "id": "276b2a97",
   "metadata": {},
   "outputs": [
    {
     "name": "stdout",
     "output_type": "stream",
     "text": [
      "10\n"
     ]
    }
   ],
   "source": [
    "# 조건 4\n",
    "# min(d7.values())\n",
    "print(list(d7.values())[-1]) # 해당 방법이 내가 푼 방법"
   ]
  },
  {
   "cell_type": "markdown",
   "id": "647e28fb",
   "metadata": {},
   "source": [
    "2. 1번에서 사용한 d7  딕셔너리를 출력했을 때 아래와 같이 보여지게 작성해보세요.\n",
    "\n",
    "   [('A', 90), ('B', 80), ('C', 70), ('D', 20), ('E', 100), ('F', 10)]"
   ]
  },
  {
   "cell_type": "code",
   "execution_count": 87,
   "id": "618ba606",
   "metadata": {},
   "outputs": [
    {
     "data": {
      "text/plain": [
       "[('A', 90), ('B', 80), ('C', 70), ('D', 20), ('E', 100), ('F', 10)]"
      ]
     },
     "execution_count": 87,
     "metadata": {},
     "output_type": "execute_result"
    }
   ],
   "source": [
    "list(d7.items())"
   ]
  },
  {
   "cell_type": "code",
   "execution_count": 89,
   "id": "6db783cd",
   "metadata": {},
   "outputs": [
    {
     "data": {
      "text/plain": [
       "False"
      ]
     },
     "execution_count": 89,
     "metadata": {},
     "output_type": "execute_result"
    }
   ],
   "source": [
    "# 딕셔너리의 in, not in 키워드는 key값이 존재하는지 아닌지만을 따집니다.\n",
    "90 in d7"
   ]
  },
  {
   "cell_type": "code",
   "execution_count": null,
   "id": "b8c8f479",
   "metadata": {},
   "outputs": [],
   "source": []
  },
  {
   "cell_type": "code",
   "execution_count": null,
   "id": "98a69be0",
   "metadata": {},
   "outputs": [],
   "source": []
  },
  {
   "cell_type": "code",
   "execution_count": null,
   "id": "e7a68c8b",
   "metadata": {},
   "outputs": [],
   "source": []
  },
  {
   "cell_type": "code",
   "execution_count": null,
   "id": "6e416c17",
   "metadata": {},
   "outputs": [],
   "source": []
  },
  {
   "cell_type": "code",
   "execution_count": null,
   "id": "aba93a3c",
   "metadata": {},
   "outputs": [],
   "source": []
  },
  {
   "cell_type": "code",
   "execution_count": null,
   "id": "2b43ad01",
   "metadata": {},
   "outputs": [],
   "source": []
  },
  {
   "cell_type": "code",
   "execution_count": null,
   "id": "a8722e98",
   "metadata": {},
   "outputs": [],
   "source": []
  }
 ],
 "metadata": {
  "kernelspec": {
   "display_name": "Python 3 (ipykernel)",
   "language": "python",
   "name": "python3"
  },
  "language_info": {
   "codemirror_mode": {
    "name": "ipython",
    "version": 3
   },
   "file_extension": ".py",
   "mimetype": "text/x-python",
   "name": "python",
   "nbconvert_exporter": "python",
   "pygments_lexer": "ipython3",
   "version": "3.9.12"
  }
 },
 "nbformat": 4,
 "nbformat_minor": 5
}
