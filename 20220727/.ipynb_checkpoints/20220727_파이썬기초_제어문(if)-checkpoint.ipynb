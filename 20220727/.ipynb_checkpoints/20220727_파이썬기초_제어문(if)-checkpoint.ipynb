{
 "cells": [
  {
   "cell_type": "markdown",
   "id": "49837464",
   "metadata": {},
   "source": [
    "# << 제어문 >>\n",
    "\n",
    "\n",
    "\n",
    "## 1. 조건문(if , elif, else)\n",
    "\n",
    "주어진 조건을 판단하여 해당 조건이 참일 때와 거짓일 때에 맞는 명령문을 수행하는 것\n",
    "\n",
    "▶ 기본 문법 \n",
    "\n",
    "        if 조건문1 :\n",
    "            조건문1이 참일 때 실행할 문장1\n",
    "            조건문1이 참일 때 실행할 문장2\n",
    "        elif 조건문2 :\n",
    "            (조건문1이 거짓일 때 elif 블럭으로 이동)\n",
    "            조건문2가 참일 때 실행할 문장1\n",
    "            조건문2가 참일 때 실행할 문장2\n",
    "            조건문2가 참일 때 실행할 문장2\n",
    "        else :\n",
    "            조건문1, 조건문2가 모두 거짓일 때 실행할 문장1\n",
    "            조건문1, 조건문2가 모두 거짓일 때 실행할 문장2\n",
    "            \n",
    "        \n",
    "        => elif, else는 상황에 따라 생략될 수 있다.\n",
    "\n",
    "▶ 주의해야할 문법 : \n",
    "\n",
    "- 조건문 및 else 뒤에 반드시 콜론(:)을 써야 한다.\n",
    "\n",
    "\n",
    "- 조건문이 있는 문장 하위에 속하는 실행문장들은 반드시 한 번 들여쓰기 되어야 한다. ( 자동 / tab / space 4번)\n",
    "\n",
    "\n",
    "- 각 조건문이 참/거짓일 때 실행되는 문장이 무엇인지 알아야 한다.\n",
    "\n",
    "\n",
    "- else는 조건문을 작성하지 않는다.\n",
    "\n",
    "\n",
    "▶ 조건문 : 참(True)과 거짓(False)으로 구분되는 문장\n",
    "\n",
    "- 비교 연산자를 사용한 조건문 : >, <, >=, <=, ==, !=\n",
    "\n",
    "\n",
    "- 값을 이용한 조건문 : 무조건 참, 무조건 거짓\n",
    "\n",
    "\n",
    "- 논리 연산자를 사용한 조건문 : and, or, not\n",
    "\n",
    "\n",
    "- IN 연산자를 사용한 조건문\n",
    "\n",
    "cf. True vs False \n",
    "     - bool type : True, False 값의 타입"
   ]
  },
  {
   "cell_type": "markdown",
   "id": "94812934",
   "metadata": {},
   "source": [
    "### 1. if~else 조건문\n",
    "\n",
    "- 조건식 : 결과가 True 또는 False로 해석될 수 있는 명령어로 구성"
   ]
  },
  {
   "cell_type": "code",
   "execution_count": 1,
   "id": "e43046f2",
   "metadata": {},
   "outputs": [
    {
     "name": "stdout",
     "output_type": "stream",
     "text": [
      "책을 삽니다.\n"
     ]
    }
   ],
   "source": [
    "# 가장 기초적인 조건문\n",
    "money = True\n",
    "if money :\n",
    "    print(\"책을 삽니다.\")\n",
    "else : \n",
    "    print(\"집에 갑니다.\")"
   ]
  },
  {
   "cell_type": "code",
   "execution_count": 3,
   "id": "4e37bdfc",
   "metadata": {},
   "outputs": [
    {
     "name": "stdout",
     "output_type": "stream",
     "text": [
      "컵라면을 먹습니다.\n"
     ]
    }
   ],
   "source": [
    "# 논리 연산자를 사용한 조건\n",
    "money = 1000\n",
    "\n",
    "if(money >= 5000) :\n",
    "    print(\"백반을 먹습니다.\")\n",
    "elif money >= 1000 :\n",
    "    print(\"컵라면을 먹습니다.\")\n",
    "else : \n",
    "    print(\"굶습니다.\")"
   ]
  },
  {
   "cell_type": "code",
   "execution_count": 4,
   "id": "b7dc11b8",
   "metadata": {},
   "outputs": [
    {
     "name": "stdout",
     "output_type": "stream",
     "text": [
      "라면을 먹습니다.\n"
     ]
    }
   ],
   "source": [
    "# not 키워드를 이용해 논리연산자 뒤집기\n",
    "#(추가적으로 파이썬은 세미콜론을 안붙이는것을 기본 전제로 함)\n",
    "money = 5000\n",
    "\n",
    "if not money > 7000:\n",
    "    print(\"라면을 먹습니다.\")\n",
    "else :\n",
    "    print(\"제육볶음을 먹습니다.\")"
   ]
  },
  {
   "cell_type": "code",
   "execution_count": 5,
   "id": "884db714",
   "metadata": {},
   "outputs": [
    {
     "name": "stdout",
     "output_type": "stream",
     "text": [
      "보상을 받습니다\n"
     ]
    }
   ],
   "source": [
    "# in 키워드를 사용한 조건문\n",
    "reward = ['김장고', '이파이썬', '박팬더스']\n",
    "\n",
    "if('김장고' in reward):\n",
    "    print(\"보상을 받습니다\")\n",
    "else:\n",
    "    print(\"집에 갑니다.\")"
   ]
  },
  {
   "cell_type": "markdown",
   "id": "6b4986d9",
   "metadata": {},
   "source": [
    "### 2. elif 조건문\n",
    "\n",
    "- 개수에 제한이 없다.\n",
    "\n",
    "\n",
    "- 여러 개의 조건문이 존재할 경우 각각의 시작 조건은 별도로 작성하지 않아도 자동으로 생성된다.\n",
    "\n",
    "If <조건문1>:\n",
    "\n",
    "    <수행할 문장1> \n",
    "    \n",
    "    <수행할 문장2>\n",
    "\n",
    "elif <조건문2>:\n",
    "\n",
    "    <수행할 문장1>\n",
    "    \n",
    "    <수행할 문장2>\n",
    "\n",
    "elif <조건문3>:\n",
    "\n",
    "    <수행할 문장1>\n",
    "    \n",
    "    <수행할 문장2>\n",
    "    \n",
    "... (원하는 만큼 elif문 작성 가능)\n",
    "\n",
    "else:\n",
    "\n",
    "    <수행할 문장1>\n",
    "    \n",
    "    <수행할 문장2>\n"
   ]
  },
  {
   "cell_type": "code",
   "execution_count": 12,
   "id": "edfd37a6",
   "metadata": {},
   "outputs": [
    {
     "name": "stdout",
     "output_type": "stream",
     "text": [
      "양수입니다.\n"
     ]
    }
   ],
   "source": [
    "# 주어진 정수가 양수인지 음수인지 0인지 판단하는 조건문\n",
    "integer = 1\n",
    "\n",
    "if (integer > 0 ):\n",
    "    print(\"양수입니다.\")\n",
    "elif integer == 0: \n",
    "    print(\"0입니다.\")\n",
    "else : \n",
    "    print(\"음수입니다.\")"
   ]
  },
  {
   "cell_type": "markdown",
   "id": "715adce1",
   "metadata": {},
   "source": [
    "### 주민번호를 활용한 성별 구분 문제\n",
    "\n",
    "1) snum 변수에 주민등록번호를 넣어주세요. -를 포함합니다.\n",
    "\n",
    "2) 성별 구분 숫자를 기준으로 1 또는 3이면 '남자'라고 출력해주세요.\n",
    "\n",
    "3) 성별 구분 숫자를 기준으로 2 또는 4이면 '여자'라고 출력해주세요.\n",
    "\n",
    "4) 1, 2, 3, 4가 아니면 잘못된 주민번호입니다 라고 출력해주세요"
   ]
  },
  {
   "cell_type": "code",
   "execution_count": 25,
   "id": "ca6c1f1f",
   "metadata": {},
   "outputs": [],
   "source": [
    "# 주민번호 입력\n",
    "snum = '030101-2029472'"
   ]
  },
  {
   "cell_type": "code",
   "execution_count": 26,
   "id": "cb3c8017",
   "metadata": {},
   "outputs": [
    {
     "name": "stdout",
     "output_type": "stream",
     "text": [
      "여자입니다.\n"
     ]
    }
   ],
   "source": [
    "if(snum[7] == '1' or snum[7] == '3'):\n",
    "    print('남자입니다.')\n",
    "elif snum[7] == '2' or snum[7] == '4' : \n",
    "    print('여자입니다.')\n",
    "else : \n",
    "    print('잘못된 주민번호입니다.')"
   ]
  },
  {
   "cell_type": "code",
   "execution_count": 27,
   "id": "3b59d295",
   "metadata": {},
   "outputs": [
    {
     "name": "stdout",
     "output_type": "stream",
     "text": [
      "여자입니다\n"
     ]
    }
   ],
   "source": [
    "# 주민번호 분석 로직 2\n",
    "if snum[7] in ['1', '3']:\n",
    "    print('남자입니다.')\n",
    "elif snum[7] in ['2', '4']:\n",
    "    print('여자입니다')\n",
    "else : \n",
    "    print(\"잘못된 주민번호입니다.\")"
   ]
  },
  {
   "cell_type": "code",
   "execution_count": null,
   "id": "c5237d11",
   "metadata": {},
   "outputs": [],
   "source": []
  }
 ],
 "metadata": {
  "kernelspec": {
   "display_name": "Python 3 (ipykernel)",
   "language": "python",
   "name": "python3"
  },
  "language_info": {
   "codemirror_mode": {
    "name": "ipython",
    "version": 3
   },
   "file_extension": ".py",
   "mimetype": "text/x-python",
   "name": "python",
   "nbconvert_exporter": "python",
   "pygments_lexer": "ipython3",
   "version": "3.9.12"
  }
 },
 "nbformat": 4,
 "nbformat_minor": 5
}
