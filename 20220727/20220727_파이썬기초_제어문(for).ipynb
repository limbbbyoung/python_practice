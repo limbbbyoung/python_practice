{
 "cells": [
  {
   "cell_type": "markdown",
   "id": "60ea4493",
   "metadata": {},
   "source": [
    "# << 제어문 >>\n",
    "\n",
    "\n",
    "# 2-2. for 반복문\n",
    "\n",
    "자료형(리스트, 튜플, 문자열)의 모든 아이템에 대하여 처음부터 마지막까지 차례대로 접근하여 실행문을 적용한다.\n",
    "\n",
    "▶ 기본 문법\n",
    "\n",
    "        for 임시변수 in 자료형 :\n",
    "            수행할 문장 1\n",
    "            수행할 문장 2\n",
    "            ...\n",
    "            \n",
    "▶ 임시변수\n",
    "\n",
    "        - for 반복문이 실행되면 자료형의 아이템이 차례대로 임시변수에 할당된다.\n",
    "        \n",
    "        - 기본적으로 변수는 할당문이 존재해야 하지만 임시변수는 할당문이 필요 없는 객체이다."
   ]
  },
  {
   "cell_type": "code",
   "execution_count": 1,
   "id": "7bfe1c4f",
   "metadata": {},
   "outputs": [
    {
     "name": "stdout",
     "output_type": "stream",
     "text": [
      "4\n",
      "Hello world\n",
      "-------------\n",
      "5\n",
      "Hello world\n",
      "-------------\n",
      "6\n",
      "Hello world\n",
      "-------------\n"
     ]
    }
   ],
   "source": [
    "# 하나의 아이템에 접근 : 리스트 자료형\n",
    "a = [4, 5, 6]\n",
    "for i in a:\n",
    "    print(i)\n",
    "    print(\"Hello world\")\n",
    "    print(\"-------------\")"
   ]
  },
  {
   "cell_type": "code",
   "execution_count": 2,
   "id": "97012de2",
   "metadata": {},
   "outputs": [
    {
     "name": "stdout",
     "output_type": "stream",
     "text": [
      "10\n",
      "20\n",
      "30\n"
     ]
    }
   ],
   "source": [
    "# 하나의 아이템에 접근 : 튜플 자료형\n",
    "tu = 10, 20, 30 \n",
    "for i in tu:\n",
    "    print(i)"
   ]
  },
  {
   "cell_type": "code",
   "execution_count": 3,
   "id": "ddcac01f",
   "metadata": {},
   "outputs": [
    {
     "name": "stdout",
     "output_type": "stream",
     "text": [
      "a\n",
      "b\n",
      "c\n",
      "d\n"
     ]
    }
   ],
   "source": [
    "# 하나의 아이템에 접근 : 문자열\n",
    "for qwer in 'abcd':\n",
    "    print(qwer)"
   ]
  },
  {
   "cell_type": "code",
   "execution_count": 4,
   "id": "1f80b7dd",
   "metadata": {},
   "outputs": [
    {
     "data": {
      "text/plain": [
       "True"
      ]
     },
     "execution_count": 4,
     "metadata": {},
     "output_type": "execute_result"
    }
   ],
   "source": [
    "# 하나의 아이템에 접근 : 딕셔너리 자료형\n",
    "# 딕셔너리 자료형에 대해서는 반복문 접근시 key값 기준으로 접근됨\n",
    "# 따라서 딕셔너리 접근은 .keys()의 요소에 접근하는 것과 결과가 동일함\n",
    "d1 = {'a':1, 'b':2, 'c':3}\n",
    "'a' in d1"
   ]
  },
  {
   "cell_type": "code",
   "execution_count": 5,
   "id": "03a91ca8",
   "metadata": {},
   "outputs": [
    {
     "name": "stdout",
     "output_type": "stream",
     "text": [
      "a\n",
      "b\n",
      "c\n"
     ]
    }
   ],
   "source": [
    "for k in d1:\n",
    "     print(k)"
   ]
  },
  {
   "cell_type": "code",
   "execution_count": 6,
   "id": "c4702d22",
   "metadata": {},
   "outputs": [
    {
     "name": "stdout",
     "output_type": "stream",
     "text": [
      "a\n",
      "b\n",
      "c\n"
     ]
    }
   ],
   "source": [
    "for k in d1.keys():\n",
    "    print(k)"
   ]
  },
  {
   "cell_type": "code",
   "execution_count": 10,
   "id": "e9e1082d",
   "metadata": {},
   "outputs": [
    {
     "name": "stdout",
     "output_type": "stream",
     "text": [
      "1\n",
      "2\n",
      "3\n"
     ]
    }
   ],
   "source": [
    "# dict 타입에서 value값만 나열하기(.values()없이 .keys() 반복만으로 찍어보세요)\n",
    "for k in d1.keys():\n",
    "    print(d1[k])"
   ]
  },
  {
   "cell_type": "code",
   "execution_count": 11,
   "id": "8b9df591",
   "metadata": {},
   "outputs": [
    {
     "name": "stdout",
     "output_type": "stream",
     "text": [
      "1\n",
      "2\n",
      "3\n"
     ]
    }
   ],
   "source": [
    "# .values()를 이용해서 value값만 조회\n",
    "for k in d1.values():\n",
    "    print(k)"
   ]
  },
  {
   "cell_type": "code",
   "execution_count": 12,
   "id": "53543ea3",
   "metadata": {},
   "outputs": [
    {
     "name": "stdout",
     "output_type": "stream",
     "text": [
      "('a', 1)\n",
      "('b', 2)\n",
      "('c', 3)\n"
     ]
    }
   ],
   "source": [
    "# 아이템에 접근하기\n",
    "for k in d1.items():\n",
    "    print(k)"
   ]
  },
  {
   "cell_type": "code",
   "execution_count": 16,
   "id": "cdb6cf07",
   "metadata": {},
   "outputs": [
    {
     "name": "stdout",
     "output_type": "stream",
     "text": [
      "a 1\n",
      "b 2\n",
      "c 3\n"
     ]
    }
   ],
   "source": [
    "# 위의 items()의 값이 2개가 하나의 변수에 주어지는 점을 이용해\n",
    "# 따로따로 변수에 받아서 출력해보세요\n",
    "for k, v in d1.items():\n",
    "    print(k, v)"
   ]
  },
  {
   "cell_type": "markdown",
   "id": "f72b3bee",
   "metadata": {},
   "source": [
    "## range 함수\n",
    " 지정된 시작값과 끝값 사이의 숫자들을 자동으로 생성하여 range 객체로 반환하는 함수\n",
    " \n",
    "- 문법 : range(시작하는 값, 끝나는 값, [간격])\n",
    "\n",
    "- 특징 : 슬라이싱과 유사하게 끝나는 값은 포함되지 않는다."
   ]
  },
  {
   "cell_type": "code",
   "execution_count": 18,
   "id": "7046f9ff",
   "metadata": {},
   "outputs": [
    {
     "data": {
      "text/plain": [
       "[0, 1, 2, 3, 4, 5, 6, 7, 8, 9]"
      ]
     },
     "execution_count": 18,
     "metadata": {},
     "output_type": "execute_result"
    }
   ],
   "source": [
    "# range()는 숫자를 하나만 넣으면 0 ~ (넣은숫자-1)까지의 범위를 만들어줍니다.\n",
    "# range()를 list()로 감싸면 0~9까지 나열된 리스트가 튀어나옴\n",
    "# for in문에서는 굳이 list로 바꿀 필요는 없음\n",
    "list(range(10))"
   ]
  },
  {
   "cell_type": "code",
   "execution_count": 22,
   "id": "bec3ce79",
   "metadata": {},
   "outputs": [
    {
     "ename": "SyntaxError",
     "evalue": "invalid syntax (664620592.py, line 2)",
     "output_type": "error",
     "traceback": [
      "\u001b[1;36m  Input \u001b[1;32mIn [22]\u001b[1;36m\u001b[0m\n\u001b[1;33m    for i range(5):\u001b[0m\n\u001b[1;37m          ^\u001b[0m\n\u001b[1;31mSyntaxError\u001b[0m\u001b[1;31m:\u001b[0m invalid syntax\n"
     ]
    }
   ],
   "source": [
    "# range(반복횟수)를 넣으면 알아서 원하는 바퀴수만큼 돌려줍니다.\n",
    "for i range(5):\n",
    "    print(i)"
   ]
  },
  {
   "cell_type": "code",
   "execution_count": 23,
   "id": "414331f2",
   "metadata": {},
   "outputs": [
    {
     "name": "stdout",
     "output_type": "stream",
     "text": [
      "1\n",
      "2\n",
      "3\n",
      "4\n",
      "5\n"
     ]
    }
   ],
   "source": [
    "# 만약 0부터 시작하게 하고 싶지 않다면 숫자 2개를 넣습니다.\n",
    "# 시작값은 시작값 그대로 시작하고, 끝나는 값은 -1을 합니다.\n",
    "# 1~ 5까지 콘솔창에 한 줄씩 세로로 찍어주세요.\n",
    "for i in range(1, 6):\n",
    "    print(i)"
   ]
  },
  {
   "cell_type": "code",
   "execution_count": 25,
   "id": "0f7be82e",
   "metadata": {},
   "outputs": [
    {
     "name": "stdout",
     "output_type": "stream",
     "text": [
      "5\n",
      "4\n",
      "3\n",
      "2\n",
      "1\n"
     ]
    }
   ],
   "source": [
    "# 세 번째 숫자는 증가값이 아닌 증감값이므로 음수가 들어갈 수 있습니다.\n",
    "# 이 경우 시작숫자가 목표숫자보다 커져야 합니다.\n",
    "for i in range(5, 0, -1):\n",
    "    print(i)"
   ]
  },
  {
   "cell_type": "markdown",
   "id": "90bc53b1",
   "metadata": {},
   "source": [
    "# 문제) 별을 찍어보겠습니다.\n",
    "print(출력할자료, end=\"\")\n",
    "구문을 이용해서 출력하면 개행이 일어나지 않고\n",
    "print()\n",
    "를 적으면 그때 기행이 일어납니다.\n",
    "위 원리를 이용해\n",
    "*\n",
    "**\n",
    "***\n",
    "****\n",
    "형태의 별을 찍어주세요.\n",
    "중첩 반복문을 써주시면 됩니다."
   ]
  },
  {
   "cell_type": "code",
   "execution_count": 50,
   "id": "01f61f85",
   "metadata": {},
   "outputs": [
    {
     "name": "stdout",
     "output_type": "stream",
     "text": [
      "*\n",
      "**\n",
      "***\n",
      "****\n",
      "*****\n"
     ]
    }
   ],
   "source": [
    "    for j in range(1, 6):\n",
    "        print('*'*j, end=\"\")\n",
    "        print()"
   ]
  },
  {
   "cell_type": "code",
   "execution_count": 56,
   "id": "43db0bdb",
   "metadata": {},
   "outputs": [
    {
     "name": "stdout",
     "output_type": "stream",
     "text": [
      "숫자를 입력하세요 : 8\n",
      "*\n",
      "**\n",
      "***\n",
      "****\n",
      "*****\n",
      "******\n",
      "*******\n",
      "********\n"
     ]
    }
   ],
   "source": [
    "N = input(\"숫자를 입력하세요 : \")\n",
    "          \n",
    "for i in range(1, int(N)+1):\n",
    "         print('*'*i, end=\"\")\n",
    "         print()"
   ]
  },
  {
   "cell_type": "code",
   "execution_count": null,
   "id": "9957824b",
   "metadata": {},
   "outputs": [],
   "source": []
  },
  {
   "cell_type": "code",
   "execution_count": null,
   "id": "57b76621",
   "metadata": {},
   "outputs": [],
   "source": []
  }
 ],
 "metadata": {
  "kernelspec": {
   "display_name": "Python 3 (ipykernel)",
   "language": "python",
   "name": "python3"
  },
  "language_info": {
   "codemirror_mode": {
    "name": "ipython",
    "version": 3
   },
   "file_extension": ".py",
   "mimetype": "text/x-python",
   "name": "python",
   "nbconvert_exporter": "python",
   "pygments_lexer": "ipython3",
   "version": "3.9.12"
  }
 },
 "nbformat": 4,
 "nbformat_minor": 5
}
